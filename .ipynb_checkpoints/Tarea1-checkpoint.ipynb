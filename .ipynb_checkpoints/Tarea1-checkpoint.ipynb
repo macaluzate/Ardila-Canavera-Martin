{
 "cells": [
  {
   "cell_type": "markdown",
   "metadata": {},
   "source": [
    "<div style=\"text-align: center;\">\n",
    "\n",
    "<img src=\"Imagenes/logo.png\" alt=\"Escudo Universidad Nacional de Colombia\" width=\"150\"/>\n",
    "\n",
    "# Tarea 1\n",
    "\n",
    "**Ardila Otero, María Paula**  \n",
    "**Cañavera Aluma, Mateo**  \n",
    "**Martin Acosta, David Esteban**  \n",
    "\n",
    "\n",
    "---\n",
    "\n",
    "**3006886: Análisis Numérico**  \n",
    "**Departamento de Matemáticas**  \n",
    "**Universidad Nacional de Colombia**\n",
    "\n",
    "---\n",
    "\n",
    "**Diciembre 6, 2024**\n",
    "\n",
    "</div>"
   ]
  },
  {
   "cell_type": "markdown",
   "metadata": {
    "jp-MarkdownHeadingCollapsed": true
   },
   "source": [
    "# Tabla de contenidos\n",
    "- [Método del Polinomio Característico](#1-metodo-del-polinomio-caracteristico)\n",
    "  - [Teoría](#11-teoria)\n",
    "  - [Análisis del error](#12-analisis-del-error)\n",
    "  - [Código](#13-codigo)\n",
    "  - [Testeo](#14-testeo)\n",
    "- [Método de las Potencias](#2-metodo-de-las-potencias)\n",
    "  - [Teoría](#21-teoria)\n",
    "  - [Análisis del error](#22-analisis-del-error)\n",
    "  - [Código](#23-codigo)\n",
    "  - [Testeo](#24-testeo)\n",
    "- [Método de Descomposición QR](#3-metodo-de-descomposicion-qr)\n",
    "  - [Teoría](#31-teoria)\n",
    "  - [Análisis del error](#32-analisis-del-error)\n",
    "  - [Código](#33-codigo)\n",
    "  - [Testeo](#34-testeo)\n"
   ]
  },
  {
   "cell_type": "markdown",
   "metadata": {},
   "source": [
    "# 1. Metodo del polinomio caracteristico"
   ]
  },
  {
   "cell_type": "markdown",
   "metadata": {},
   "source": [
    "## 1.1 Teoria"
   ]
  },
  {
   "cell_type": "markdown",
   "metadata": {},
   "source": [
    "## 1.2 Analisis del error"
   ]
  },
  {
   "cell_type": "markdown",
   "metadata": {},
   "source": [
    "## 1.3 Codigo"
   ]
  },
  {
   "cell_type": "markdown",
   "metadata": {},
   "source": [
    "## 1.4 Testeo"
   ]
  },
  {
   "cell_type": "markdown",
   "metadata": {},
   "source": [
    "# 2. Metodo de las potencias"
   ]
  },
  {
   "cell_type": "markdown",
   "metadata": {
    "jp-MarkdownHeadingCollapsed": true
   },
   "source": [
    "## 2.1 Teoria"
   ]
  },
  {
   "cell_type": "markdown",
   "metadata": {},
   "source": [
    "El método más simple para calcular los valores y vectores propios de una matriz es el método de las potencias. En la práctica, este método se usa para calcular algunos (no todos) valores propios extremos/dominantes (Allaire & Kaber, 2008, p. 194), es decir el mayor valor (en valor absoluto) que tiene el valor propio de la matriz. \n",
    "\n",
    "Lyche (2020, p. 335-337) explica el método de las potencias de la siguiente manera:\n",
    "\n",
    "Definimos una secuencia de vectores en $\\mathbb{C}^n$ mediante:\n",
    "$$\n",
    "z_k := A^k z_0 = A z_{k-1}, \\quad k = 1, 2, \\ldots. \\tag{15.1}\n",
    "$$\n",
    "\n",
    "Ejemplo 15.1 (Método de las Potencias):\n",
    "Sea:\n",
    "$$\n",
    "A = \\begin{bmatrix} \n",
    "2 & -1 \\\\ \n",
    "-1 & 2 \n",
    "\\end{bmatrix}, \\quad \n",
    "z_0 := \\begin{bmatrix} \n",
    "1 \\\\ \n",
    "0 \n",
    "\\end{bmatrix}.\n",
    "$$\n",
    "\n",
    "Calculamos:\n",
    "$$\n",
    "z_1 = A z_0 = \\begin{bmatrix} \n",
    "2 \\\\ \n",
    "-1 \n",
    "\\end{bmatrix}, \\quad \n",
    "z_2 = A z_1 = \\begin{bmatrix} \n",
    "5 \\\\ \n",
    "-4 \n",
    "\\end{bmatrix}, \\quad \\ldots, \\quad\n",
    "z_k = \\frac{1}{2} \\begin{bmatrix} \n",
    "1 + 3^k \\\\ \n",
    "1 - 3^k \n",
    "\\end{bmatrix}, \\ldots\n",
    "$$\n",
    "\n",
    "De esto se sigue que $2 z_k / 3^k$ converge a $[1, -1]^T$, un vector propio correspondiente al valor propio dominante $\\lambda = 3$.\n",
    "\n",
    "Para comprender mejor lo que sucede, expandimos $z_0$ en términos de los vectores propios:\n",
    "$$\n",
    "z_0 = \\frac{1}{2} \\begin{bmatrix} \n",
    "1 \\\\ \n",
    "-1 \n",
    "\\end{bmatrix} + \\frac{1}{2} \\begin{bmatrix} \n",
    "1 \\\\ \n",
    "1 \n",
    "\\end{bmatrix} = c_1 v_1 + c_2 v_2.\n",
    "$$\n",
    "\n",
    "Dado que $A^k$ tiene pares propios $(\\lambda_j^k, v_j)$, $j = 1, 2$, encontramos que:\n",
    "$$\n",
    "z_k = c_1 \\lambda_1^k v_1 + c_2 \\lambda_2^k v_2 = c_1 3^k v_1 + c_2 1^k v_2\n",
    "$$\n",
    "\n",
    "Por lo tanto:\n",
    "$$\n",
    "3^{-k} z_k = c_1 v_1 + 3^{-k} c_2 v_2 \\to c_1 v_1.\n",
    "$$\n",
    "\n",
    "Dado que $c_1 \\neq 0$, obtenemos convergencia hacia el vector propio dominante.\n",
    "\n",
    "Sea $A \\in \\mathbb{C}^{n \\times n}$ con pares propios $(\\lambda_j, v_j)$, $j = 1, \\ldots, n$, tales que $|\\lambda_1| > |\\lambda_2| \\geq \\ldots \\geq |\\lambda_n|$. Dado $z_0 \\in \\mathbb{C}^n$, asumimos que:\n",
    "\n",
    "(15.2)\n",
    "\n",
    "(i) $|\\lambda_1| > |\\lambda_2| \\geq |\\lambda_3| \\geq \\ldots \\geq |\\lambda_n|.$\n",
    "\n",
    "(ii) $z_0^T v_1 \\neq 0.$\n",
    "\n",
    "(iii) A tiene vectores propios linealmente independientes.\n",
    "\n",
    "La primera suposición significa que $A$ tiene un valor propio dominante $\\lambda_1$ de multiplicidad algebraica uno. La segunda suposición dice que $z_0$ tiene un componente en la dirección de $v_1$. La tercera suposición no es estrictamente necesaria, pero se incluye para simplificar el análisis.\n",
    "\n",
    "Para observar qué sucede, sea:\n",
    "$$\n",
    "z_0 = c_1 v_1 + c_2 v_2 + \\cdots + c_n v_n,\n",
    "$$\n",
    "donde por la suposición (ii) de $(15.2)$, tenemos $c_1 \\neq 0$. Como $A^k v_j = \\lambda_j^k v_j$ para todo $j$, vemos que:\n",
    "$$\n",
    "z_k = c_1 \\lambda_1^k v_1 + c_2 \\lambda_2^k v_2 + \\cdots + c_n \\lambda_n^k v_n, \\quad k = 0, 1, 2, \\ldots. \\tag{15.3}\n",
    "$$\n",
    "\n",
    "Dividiendo por $\\lambda_1^k$, obtenemos:\n",
    "$$\n",
    "\\frac{z_k}{\\lambda_1^k} = c_1 v_1 + c_2 \\left(\\frac{\\lambda_2}{\\lambda_1}\\right)^k v_2 + \\cdots + c_n \\left(\\frac{\\lambda_n}{\\lambda_1}\\right)^k v_n, \\quad k = 0, 1, 2, \\ldots. \\tag{15.4}\n",
    "$$\n",
    "\n",
    "La suposición (i) de $(15.2)$ implica que $(\\lambda_j / \\lambda_1)^k \\to 0$ cuando $k \\to \\infty$ para todo $j \\geq 2$, y obtenemos:\n",
    "$$\n",
    "\\lim_{k \\to \\infty} \\frac{z_k}{\\lambda_1^k} = c_1 v_1. \\tag{15.5}\n",
    "$$\n",
    "\n",
    "Ahora, Wendland (2017, p. 152)\n",
    "\n",
    "El último término es un vector propio de $A$ asociado al valor propio $\\lambda_1$. Sin embargo, esto es de uso limitado, ya que no conocemos el valor propio $\\lambda_1$ y, por lo tanto, no podemos formar el cociente $A^m x / \\lambda_1^m$. Otro problema surge del hecho de que la norma de $A^m x$ converge a cero si $|\\lambda_1| < 1$ y tiende a infinito si $|\\lambda_1| > 1$. Ambos problemas se resuelven mediante la normalización. Por ejemplo, si tomamos la norma euclidiana de $A^m x$, entonces:\n",
    "$$\n",
    "\\|A^m x\\|_2 = \\left( \\sum_{i,j=1}^n c_i c_j \\lambda_i^m \\lambda_j^m w_i^T w_j \\right)^{1/2} =: |\\lambda_1|^m \\left( |c_1| \\|w_1\\|_2 + r_m \\right), \\tag{5.13}\n",
    "$$\n",
    "donde $r_m \\to 0$ cuando $m \\to \\infty$. A partir de esto podemos concluir que:\n",
    "$$\n",
    "\\frac{\\|A^{m+1} x\\|_2}{\\|A^m x\\|_2} = \\frac{\\|A^m x\\|_2 |\\lambda_1|^{m+1}}{\\|A^m x\\|_2 |\\lambda_1|^m} \\to |\\lambda_1|, \\quad m \\to \\infty. \\tag{5.14}\n",
    "$$\n",
    "\n",
    "Esto nos proporciona $\\lambda_1$ hasta su signo. Para determinar también su signo y un vector propio correspondiente, refinamos el método como sigue.\n",
    "\n",
    "\n",
    "\n",
    "\n"
   ]
  },
  {
   "cell_type": "markdown",
   "metadata": {},
   "source": [
    "## 2.2 Analisis del error"
   ]
  },
  {
   "cell_type": "markdown",
   "metadata": {
    "jp-MarkdownHeadingCollapsed": true
   },
   "source": [
    "## 2.3 Codigo"
   ]
  },
  {
   "cell_type": "markdown",
   "metadata": {},
   "source": [
    "## 2.4 Testeo"
   ]
  },
  {
   "cell_type": "markdown",
   "metadata": {},
   "source": [
    "# 3. Metodo QR "
   ]
  },
  {
   "cell_type": "markdown",
   "metadata": {},
   "source": [
    "## 3.1 Teoria"
   ]
  },
  {
   "cell_type": "markdown",
   "metadata": {},
   "source": [
    "## Evitar Confusiones : QR Algorithm vs QR Decomposition\n",
    "\n",
    "El algoritmo QR utiliza algo llamado descomposición QR. Ambos son importantes, así que no los confunda.\n",
    "La descomposición QR descompone una matriz A=QR en un conjunto de columnas ortonormales Q y una matriz triangular R. "
   ]
  },
  {
   "cell_type": "markdown",
   "metadata": {},
   "source": [
    "\n",
    "## INTRODUCCIÓN"
   ]
  },
  {
   "cell_type": "markdown",
   "metadata": {
    "jp-MarkdownHeadingCollapsed": true
   },
   "source": [
    "El **proceso de Gram-Schmidt** genera una base ortonormal a partir de un conjunto de vectores base de un espacio vectorial. Como tal, genera una base alternativa para un espacio. La representación matricial de esta base ortonormal se denota como $ Q $. Junto con la matriz triangular superior $ R $, se obtiene una descomposición de una matriz $ A$ , tal que:$A$ = $Q$ $R$\n",
    "\n",
    "En este notebook, utilizamos un ejemplo para comprender este proceso de cambio de base, así como la descomposición QR. Usaremos la librería **SymPy** para demostrar el proceso.\n"
   ]
  },
  {
   "cell_type": "markdown",
   "metadata": {},
   "source": [
    "## Paquetes que usaremos en este apartado"
   ]
  },
  {
   "cell_type": "code",
   "execution_count": 30,
   "metadata": {},
   "outputs": [],
   "source": [
    "from sympy import Matrix, init_printing\n",
    "init_printing() # Genera las impresiones en formato LateX en pantalla"
   ]
  },
  {
   "cell_type": "markdown",
   "metadata": {},
   "source": [
    "Este es el proceso que determina la matriz $ Q $ en la descomposición $QR$. $Q$ es una matriz ortonormal, es decir, todos los vectores columna son ortogonales entre sí y tienen longitud unitaria (normalizados).\n",
    "\n",
    "Consideramos tres vectores columna en una matriz, mostrados en la ecuación (1):\n",
    "\n",
    "$$\n",
    "A = \n",
    "\\begin{pmatrix}\n",
    "1 & 0 & 0 \\\\\n",
    "1 & 1 & 0 \\\\\n",
    "1 & 1 & 1\n",
    "\\end{pmatrix}\n",
    "\\tag{1}\n",
    "$$\n",
    "\n",
    "La función `Matrix` del paquete SymPy se utiliza para crear esta matriz, junto con el método `reshape` para organizar sus elementos en filas y columnas. Los elementos de la matriz se ingresan fila por fila.\n"
   ]
  },
  {
   "cell_type": "code",
   "execution_count": 57,
   "metadata": {},
   "outputs": [
    {
     "data": {
      "text/latex": [
       "$\\displaystyle \\left[\\begin{matrix}1 & 0 & 0\\\\1 & 1 & 0\\\\1 & 1 & 1\\end{matrix}\\right]$"
      ],
      "text/plain": [
       "⎡1  0  0⎤\n",
       "⎢       ⎥\n",
       "⎢1  1  0⎥\n",
       "⎢       ⎥\n",
       "⎣1  1  1⎦"
      ]
     },
     "execution_count": 57,
     "metadata": {},
     "output_type": "execute_result"
    }
   ],
   "source": [
    "A = Matrix([1, 0, 0, 1, 1, 0, 1, 1, 1]).reshape(3, 3)\n",
    "A"
   ]
  },
  {
   "cell_type": "markdown",
   "metadata": {},
   "source": [
    "### Verificación de independencia lineal y descomposición QR usando SymPy"
   ]
  },
  {
   "cell_type": "markdown",
   "metadata": {},
   "source": [
    "Los tres vectores columna son linealmente independientes y abarcan un espacio de dimensión 3. Podemos verificar esto al observar la **forma escalonada reducida (RREF)** de la matriz. Esto se hace utilizando el método `rref()`, que está disponible para un objeto matriz creado usando la función `Matrix` del paquete SymPy."
   ]
  },
  {
   "cell_type": "code",
   "execution_count": 58,
   "metadata": {},
   "outputs": [
    {
     "data": {
      "text/latex": [
       "$\\displaystyle \\left( \\left[\\begin{matrix}1 & 0 & 0\\\\0 & 1 & 0\\\\0 & 0 & 1\\end{matrix}\\right], \\  \\left( 0, \\  1, \\  2\\right)\\right)$"
      ],
      "text/plain": [
       "⎛⎡1  0  0⎤           ⎞\n",
       "⎜⎢       ⎥           ⎟\n",
       "⎜⎢0  1  0⎥, (0, 1, 2)⎟\n",
       "⎜⎢       ⎥           ⎟\n",
       "⎝⎣0  0  1⎦           ⎠"
      ]
     },
     "execution_count": 58,
     "metadata": {},
     "output_type": "execute_result"
    }
   ],
   "source": [
    "A.rref()"
   ]
  },
  {
   "cell_type": "markdown",
   "metadata": {},
   "source": [
    "También podemos usar `rank` y ver que nos retorna un valor 3."
   ]
  },
  {
   "cell_type": "code",
   "execution_count": 59,
   "metadata": {},
   "outputs": [
    {
     "data": {
      "image/png": "[encoded data removed]",
      "text/latex": [
       "$\\displaystyle 3$"
      ],
      "text/plain": [
       "3"
      ]
     },
     "execution_count": 59,
     "metadata": {},
     "output_type": "execute_result"
    }
   ],
   "source": [
    "A.rank()"
   ]
  },
  {
   "cell_type": "markdown",
   "metadata": {},
   "source": [
    "El método `QRdecomposition` de SymPy nos permite realizar la descomposición QR de una matriz."
   ]
  },
  {
   "cell_type": "code",
   "execution_count": 124,
   "metadata": {},
   "outputs": [],
   "source": [
    "#Usando Sympy\n",
    "Q, R = Matrix([[1, 0, 0],[ 1, 1, 0],[ 1, 1, 1]]).QRdecomposition()"
   ]
  },
  {
   "cell_type": "code",
   "execution_count": 125,
   "metadata": {},
   "outputs": [
    {
     "data": {
      "text/latex": [
       "$\\displaystyle \\left[\\begin{matrix}\\frac{\\sqrt{3}}{3} & - \\frac{\\sqrt{6}}{3} & 0\\\\\\frac{\\sqrt{3}}{3} & \\frac{\\sqrt{6}}{6} & - \\frac{\\sqrt{2}}{2}\\\\\\frac{\\sqrt{3}}{3} & \\frac{\\sqrt{6}}{6} & \\frac{\\sqrt{2}}{2}\\end{matrix}\\right]$"
      ],
      "text/plain": [
       "⎡√3  -√6       ⎤\n",
       "⎢──  ────   0  ⎥\n",
       "⎢3    3        ⎥\n",
       "⎢              ⎥\n",
       "⎢√3   √6   -√2 ⎥\n",
       "⎢──   ──   ────⎥\n",
       "⎢3    6     2  ⎥\n",
       "⎢              ⎥\n",
       "⎢√3   √6    √2 ⎥\n",
       "⎢──   ──    ── ⎥\n",
       "⎣3    6     2  ⎦"
      ]
     },
     "execution_count": 125,
     "metadata": {},
     "output_type": "execute_result"
    }
   ],
   "source": [
    "Q"
   ]
  },
  {
   "cell_type": "code",
   "execution_count": 126,
   "metadata": {},
   "outputs": [
    {
     "data": {
      "text/latex": [
       "$\\displaystyle \\left[\\begin{matrix}\\sqrt{3} & \\frac{2 \\sqrt{3}}{3} & \\frac{\\sqrt{3}}{3}\\\\0 & \\frac{\\sqrt{6}}{3} & \\frac{\\sqrt{6}}{6}\\\\0 & 0 & \\frac{\\sqrt{2}}{2}\\end{matrix}\\right]$"
      ],
      "text/plain": [
       "⎡    2⋅√3  √3⎤\n",
       "⎢√3  ────  ──⎥\n",
       "⎢     3    3 ⎥\n",
       "⎢            ⎥\n",
       "⎢     √6   √6⎥\n",
       "⎢0    ──   ──⎥\n",
       "⎢     3    6 ⎥\n",
       "⎢            ⎥\n",
       "⎢          √2⎥\n",
       "⎢0    0    ──⎥\n",
       "⎣          2 ⎦"
      ]
     },
     "execution_count": 126,
     "metadata": {},
     "output_type": "execute_result"
    }
   ],
   "source": [
    "R"
   ]
  },
  {
   "cell_type": "markdown",
   "metadata": {},
   "source": [
    "Verificamos que $QR$ = $A$"
   ]
  },
  {
   "cell_type": "code",
   "execution_count": 127,
   "metadata": {},
   "outputs": [
    {
     "data": {
      "text/latex": [
       "$\\displaystyle \\left[\\begin{matrix}1 & 0 & 0\\\\1 & 1 & 0\\\\1 & 1 & 1\\end{matrix}\\right]$"
      ],
      "text/plain": [
       "⎡1  0  0⎤\n",
       "⎢       ⎥\n",
       "⎢1  1  0⎥\n",
       "⎢       ⎥\n",
       "⎣1  1  1⎦"
      ]
     },
     "execution_count": 127,
     "metadata": {},
     "output_type": "execute_result"
    }
   ],
   "source": [
    "Q @ R"
   ]
  },
  {
   "cell_type": "markdown",
   "metadata": {},
   "source": [
    "En la explicación que sigue, consideramos cada vector columna en $A$ como $\\mathbf{a}_i$. Nuestro objetivo es crear una base ortonormal de tres vectores, $\\mathbf{u}_i$. Una vez normalizados, los representaremos como $\\hat{\\mathbf{u}}_i$."
   ]
  },
  {
   "cell_type": "markdown",
   "metadata": {},
   "source": [
    "### Paso 1: Selección del primer vector ortonormal\n"
   ]
  },
  {
   "cell_type": "markdown",
   "metadata": {},
   "source": [
    "Comenzamos seleccionando uno de los vectores de $A$ como el primero de los vectores de la base ortonormal, $\\mathbf{u}_1$. Elegimos $\\mathbf{a}_1$ y necesitamos normalizarlo usando la ecuación (2):\n",
    "\n",
    "$$\n",
    "\\mathbf{u}_1 = \\mathbf{a}_1\n",
    "$$\n",
    "\n",
    "$$\n",
    "\\hat{\\mathbf{u}}_1 = \\frac{\\mathbf{a}_1}{\\|\\mathbf{a}_1\\|}\n",
    "$$"
   ]
  },
  {
   "cell_type": "code",
   "execution_count": 128,
   "metadata": {},
   "outputs": [
    {
     "data": {
      "text/latex": [
       "$\\displaystyle \\left[\\begin{matrix}1\\\\1\\\\1\\end{matrix}\\right]$"
      ],
      "text/plain": [
       "⎡1⎤\n",
       "⎢ ⎥\n",
       "⎢1⎥\n",
       "⎢ ⎥\n",
       "⎣1⎦"
      ]
     },
     "execution_count": 128,
     "metadata": {},
     "output_type": "execute_result"
    }
   ],
   "source": [
    "# Extraer el primer vector columna de A\n",
    "a1 = A[:, 0]\n",
    "a1"
   ]
  },
  {
   "cell_type": "code",
   "execution_count": 129,
   "metadata": {},
   "outputs": [],
   "source": [
    "# Asignar el primer vector columna a u1\n",
    "u1 = a1"
   ]
  },
  {
   "cell_type": "code",
   "execution_count": 130,
   "metadata": {},
   "outputs": [
    {
     "data": {
      "image/png": "[encoded data removed]",
      "text/latex": [
       "$\\displaystyle \\sqrt{3}$"
      ],
      "text/plain": [
       "√3"
      ]
     },
     "execution_count": 130,
     "metadata": {},
     "output_type": "execute_result"
    }
   ],
   "source": [
    "# Calcular la norma de a1\n",
    "a1_norm = a1.norm()\n",
    "a1_norm\n"
   ]
  },
  {
   "cell_type": "code",
   "execution_count": 131,
   "metadata": {},
   "outputs": [
    {
     "data": {
      "text/latex": [
       "$\\displaystyle \\left[\\begin{matrix}\\frac{\\sqrt{3}}{3}\\\\\\frac{\\sqrt{3}}{3}\\\\\\frac{\\sqrt{3}}{3}\\end{matrix}\\right]$"
      ],
      "text/plain": [
       "⎡√3⎤\n",
       "⎢──⎥\n",
       "⎢3 ⎥\n",
       "⎢  ⎥\n",
       "⎢√3⎥\n",
       "⎢──⎥\n",
       "⎢3 ⎥\n",
       "⎢  ⎥\n",
       "⎢√3⎥\n",
       "⎢──⎥\n",
       "⎣3 ⎦"
      ]
     },
     "execution_count": 131,
     "metadata": {},
     "output_type": "execute_result"
    }
   ],
   "source": [
    "# Normalizar el vector u1\n",
    "u1_normalized = u1 / a1_norm\n",
    "u1_normalized\n"
   ]
  },
  {
   "cell_type": "markdown",
   "metadata": {},
   "source": [
    "### Cálculo de la proyección del vector $\\mathbf{a}_2$ sobre $\\mathbf{u}_1$\n"
   ]
  },
  {
   "cell_type": "markdown",
   "metadata": {},
   "source": [
    "La fórmula para calcular la proyección de un vector $\\mathbf{a}_2$ sobre un vector $\\mathbf{u}_1$ es:\n",
    "\n",
    "$$\n",
    "\\text{proj}_{\\mathbf{u}_1} \\mathbf{a}_2 = \\frac{\\mathbf{a}_2 \\cdot \\mathbf{u}_1}{\\|\\mathbf{u}_1\\|^2} \\mathbf{u}_1\n",
    "$$\n",
    "\n",
    "\n"
   ]
  },
  {
   "cell_type": "markdown",
   "metadata": {},
   "source": [
    "imagen"
   ]
  },
  {
   "cell_type": "code",
   "execution_count": 132,
   "metadata": {},
   "outputs": [
    {
     "data": {
      "text/latex": [
       "$\\displaystyle \\left[\\begin{matrix}0\\\\1\\\\1\\end{matrix}\\right]$"
      ],
      "text/plain": [
       "⎡0⎤\n",
       "⎢ ⎥\n",
       "⎢1⎥\n",
       "⎢ ⎥\n",
       "⎣1⎦"
      ]
     },
     "execution_count": 132,
     "metadata": {},
     "output_type": "execute_result"
    }
   ],
   "source": [
    "a2 = A[:,1] # Extraer el Segundo vector columna A\n",
    "a2"
   ]
  },
  {
   "cell_type": "code",
   "execution_count": 133,
   "metadata": {},
   "outputs": [
    {
     "data": {
      "text/latex": [
       "$\\displaystyle \\left[\\begin{matrix}\\frac{2}{3}\\\\\\frac{2}{3}\\\\\\frac{2}{3}\\end{matrix}\\right]$"
      ],
      "text/plain": [
       "⎡2/3⎤\n",
       "⎢   ⎥\n",
       "⎢2/3⎥\n",
       "⎢   ⎥\n",
       "⎣2/3⎦"
      ]
     },
     "execution_count": 133,
     "metadata": {},
     "output_type": "execute_result"
    }
   ],
   "source": [
    "# Calcular la proyección de a2 sobre u1\n",
    "projection_u1_a2 = (a1.dot(a2) / u1.norm()**2) * u1\n",
    "projection_u1_a2\n"
   ]
  },
  {
   "cell_type": "markdown",
   "metadata": {},
   "source": [
    "\n",
    "\n",
    "Convenientemente, la proyección de $\\mathbf{a}_2$ sobre $\\mathbf{u}_1$ es ortogonal, lo que nos permite derivar $\\mathbf{u}_2$. Encontramos que:\n",
    "\n",
    "$$\n",
    "\\mathbf{u}_2 + \\text{proj}_{\\mathbf{u}_1} \\mathbf{a}_2 = \\mathbf{a}_2 + \\frac{\\mathbf{a}_2 \\cdot \\mathbf{u}_1}{\\|\\mathbf{u}_1\\|^2} \\mathbf{u}_1\n",
    "$$\n",
    "\n",
    "Por lo tanto, podemos calcular $\\mathbf{u}_2$ usando:\n",
    "\n",
    "$$\n",
    "\\mathbf{u}_2 = \\mathbf{a}_2 - \\frac{\\mathbf{a}_2 \\cdot \\mathbf{u}_1}{\\|\\mathbf{u}_1\\|^2} \\mathbf{u}_1\n",
    "$$\n",
    "\n",
    "\n"
   ]
  },
  {
   "cell_type": "code",
   "execution_count": 134,
   "metadata": {},
   "outputs": [
    {
     "data": {
      "text/latex": [
       "$\\displaystyle \\left[\\begin{matrix}- \\frac{2}{3}\\\\\\frac{1}{3}\\\\\\frac{1}{3}\\end{matrix}\\right]$"
      ],
      "text/plain": [
       "⎡-2/3⎤\n",
       "⎢    ⎥\n",
       "⎢1/3 ⎥\n",
       "⎢    ⎥\n",
       "⎣1/3 ⎦"
      ]
     },
     "execution_count": 134,
     "metadata": {},
     "output_type": "execute_result"
    }
   ],
   "source": [
    "#Creacion de u2 como se presentó arriba\n",
    "u2 = a2 - projection_u1_a2\n",
    "u2"
   ]
  },
  {
   "cell_type": "markdown",
   "metadata": {},
   "source": [
    "normalizamos $\\mathbf{u}_2$ para obtener  $\\hat{\\mathbf{u}}_2$"
   ]
  },
  {
   "cell_type": "code",
   "execution_count": 135,
   "metadata": {},
   "outputs": [
    {
     "data": {
      "text/latex": [
       "$\\displaystyle \\left[\\begin{matrix}- \\frac{\\sqrt{6}}{3}\\\\\\frac{\\sqrt{6}}{6}\\\\\\frac{\\sqrt{6}}{6}\\end{matrix}\\right]$"
      ],
      "text/plain": [
       "⎡-√6 ⎤\n",
       "⎢────⎥\n",
       "⎢ 3  ⎥\n",
       "⎢    ⎥\n",
       "⎢ √6 ⎥\n",
       "⎢ ── ⎥\n",
       "⎢ 6  ⎥\n",
       "⎢    ⎥\n",
       "⎢ √6 ⎥\n",
       "⎢ ── ⎥\n",
       "⎣ 6  ⎦"
      ]
     },
     "execution_count": 135,
     "metadata": {},
     "output_type": "execute_result"
    }
   ],
   "source": [
    "\n",
    "u2_normalized = u2 / u2.norm()\n",
    "u2_normalized\n"
   ]
  },
  {
   "cell_type": "markdown",
   "metadata": {},
   "source": [
    "### Cálculo del vector $\\mathbf{u}_3$"
   ]
  },
  {
   "cell_type": "markdown",
   "metadata": {},
   "source": [
    "El vector $\\mathbf{u}_3$ debe ser ortogonal tanto a $\\mathbf{u}_2$ como a $\\mathbf{u}_1$. De hecho, podemos ampliar la fórmula en (4) y usar (5) para cualquier vector ortogonal arbitrario $\\mathbf{u}_i$:"
   ]
  },
  {
   "cell_type": "markdown",
   "metadata": {},
   "source": [
    "$$\n",
    "\\mathbf{u}_n = \\mathbf{a}_n - \\sum_{i=1}^{n-1} \\frac{\\mathbf{a}_n \\cdot \\mathbf{u}_i}{\\|\\mathbf{u}_i\\|^2} \\mathbf{u}_i\n",
    "\\tag{5}\n",
    "$$"
   ]
  },
  {
   "cell_type": "markdown",
   "metadata": {},
   "source": [
    "Para la suma mostrada en (5), necesitamos calcular dos proyecciones, como se muestra en (6):\n",
    "\n",
    "$$\n",
    "\\text{proj}_{\\mathbf{u}_2} \\mathbf{a}_3 = \\frac{\\mathbf{a}_3 \\cdot \\mathbf{u}_2}{\\|\\mathbf{u}_2\\|^2} \\mathbf{u}_2\n",
    "$$\n",
    "\n",
    "$$\n",
    "\\text{proj}_{\\mathbf{u}_1} \\mathbf{a}_3 = \\frac{\\mathbf{a}_3 \\cdot \\mathbf{u}_1}{\\|\\mathbf{u}_1\\|^2} \\mathbf{u}_1\n",
    "\\tag{6}\n",
    "$$"
   ]
  },
  {
   "cell_type": "markdown",
   "metadata": {},
   "source": [
    "El tercer vector columna, $\\mathbf{a}_3$, es extraído de la matriz $A$ y las proyecciones sobre $\\mathbf{u}_1$ y $\\mathbf{u}_2$ son calculadas.\n"
   ]
  },
  {
   "cell_type": "code",
   "execution_count": 136,
   "metadata": {},
   "outputs": [
    {
     "data": {
      "text/latex": [
       "$\\displaystyle \\left[\\begin{matrix}0\\\\0\\\\1\\end{matrix}\\right]$"
      ],
      "text/plain": [
       "⎡0⎤\n",
       "⎢ ⎥\n",
       "⎢0⎥\n",
       "⎢ ⎥\n",
       "⎣1⎦"
      ]
     },
     "execution_count": 136,
     "metadata": {},
     "output_type": "execute_result"
    }
   ],
   "source": [
    "a3 = A[:, 2]\n",
    "a3\n"
   ]
  },
  {
   "cell_type": "code",
   "execution_count": 137,
   "metadata": {},
   "outputs": [
    {
     "data": {
      "text/latex": [
       "$\\displaystyle \\left[\\begin{matrix}- \\frac{1}{3}\\\\\\frac{1}{6}\\\\\\frac{1}{6}\\end{matrix}\\right]$"
      ],
      "text/plain": [
       "⎡-1/3⎤\n",
       "⎢    ⎥\n",
       "⎢1/6 ⎥\n",
       "⎢    ⎥\n",
       "⎣1/6 ⎦"
      ]
     },
     "execution_count": 137,
     "metadata": {},
     "output_type": "execute_result"
    }
   ],
   "source": [
    "proj_u2_a3 = (a3.dot(u2) / (u2.norm()**2)) * u2\n",
    "proj_u2_a3\n"
   ]
  },
  {
   "cell_type": "code",
   "execution_count": 138,
   "metadata": {},
   "outputs": [
    {
     "data": {
      "text/latex": [
       "$\\displaystyle \\left[\\begin{matrix}\\frac{1}{3}\\\\\\frac{1}{3}\\\\\\frac{1}{3}\\end{matrix}\\right]$"
      ],
      "text/plain": [
       "⎡1/3⎤\n",
       "⎢   ⎥\n",
       "⎢1/3⎥\n",
       "⎢   ⎥\n",
       "⎣1/3⎦"
      ]
     },
     "execution_count": 138,
     "metadata": {},
     "output_type": "execute_result"
    }
   ],
   "source": [
    "proj_u1_a3 = (a3.dot(u1) / (u1.norm()**2)) * u1\n",
    "proj_u1_a3\n"
   ]
  },
  {
   "cell_type": "markdown",
   "metadata": {},
   "source": [
    "En (7), expandimos la suma mostrada en (5):"
   ]
  },
  {
   "cell_type": "markdown",
   "metadata": {},
   "source": [
    "$$\n",
    "\\mathbf{u}_3 + \\text{proj}_{\\mathbf{u}_2} \\mathbf{a}_3 + \\text{proj}_{\\mathbf{u}_1} \\mathbf{a}_3 = \\mathbf{a}_3\n",
    "$$"
   ]
  },
  {
   "cell_type": "markdown",
   "metadata": {},
   "source": [
    "$$\n",
    "\\mathbf{u}_3 = \\mathbf{a}_3 - \\frac{\\mathbf{a}_3 \\cdot \\mathbf{u}_2}{\\|\\mathbf{u}_2\\|^2} \\mathbf{u}_2 - \\frac{\\mathbf{a}_3 \\cdot \\mathbf{u}_1}{\\|\\mathbf{u}_1\\|^2} \\mathbf{u}_1\n",
    "$$"
   ]
  },
  {
   "cell_type": "code",
   "execution_count": 139,
   "metadata": {},
   "outputs": [
    {
     "data": {
      "text/latex": [
       "$\\displaystyle \\left[\\begin{matrix}0\\\\- \\frac{1}{2}\\\\\\frac{1}{2}\\end{matrix}\\right]$"
      ],
      "text/plain": [
       "⎡ 0  ⎤\n",
       "⎢    ⎥\n",
       "⎢-1/2⎥\n",
       "⎢    ⎥\n",
       "⎣1/2 ⎦"
      ]
     },
     "execution_count": 139,
     "metadata": {},
     "output_type": "execute_result"
    }
   ],
   "source": [
    "u3 = a3 - proj_u2_a3 - proj_u1_a3\n",
    "u3"
   ]
  },
  {
   "cell_type": "markdown",
   "metadata": {},
   "source": [
    "normalizamos $\\mathbf{u}_3$ para obtener  $\\hat{\\mathbf{u}}_3$"
   ]
  },
  {
   "cell_type": "code",
   "execution_count": 140,
   "metadata": {},
   "outputs": [
    {
     "data": {
      "text/latex": [
       "$\\displaystyle \\left[\\begin{matrix}0\\\\- \\frac{\\sqrt{2}}{2}\\\\\\frac{\\sqrt{2}}{2}\\end{matrix}\\right]$"
      ],
      "text/plain": [
       "⎡ 0  ⎤\n",
       "⎢    ⎥\n",
       "⎢-√2 ⎥\n",
       "⎢────⎥\n",
       "⎢ 2  ⎥\n",
       "⎢    ⎥\n",
       "⎢ √2 ⎥\n",
       "⎢ ── ⎥\n",
       "⎣ 2  ⎦"
      ]
     },
     "execution_count": 140,
     "metadata": {},
     "output_type": "execute_result"
    }
   ],
   "source": [
    "u3_normalized = u3 / u3.norm()\n",
    "u3_normalized\n"
   ]
  },
  {
   "cell_type": "markdown",
   "metadata": {},
   "source": [
    "combinamos los tres vectores ortonormales $\\hat{\\mathbf{u}}$ y obtenemos una matriz $Q$:\n"
   ]
  },
  {
   "cell_type": "markdown",
   "metadata": {},
   "source": [
    "u_hat = Matrix([u1_normalized, u2_normalized, u3_normalized]).reshape(3, 3).transpose()\n",
    "u_hat"
   ]
  },
  {
   "cell_type": "code",
   "execution_count": 121,
   "metadata": {},
   "outputs": [
    {
     "data": {
      "image/png": "[encoded data removed]",
      "text/latex": [
       "$\\displaystyle 0$"
      ],
      "text/plain": [
       "0"
      ]
     },
     "execution_count": 121,
     "metadata": {},
     "output_type": "execute_result"
    }
   ],
   "source": [
    "u1_normalized.dot(u2_normalized)  # Debe ser 0"
   ]
  },
  {
   "cell_type": "code",
   "execution_count": 122,
   "metadata": {},
   "outputs": [
    {
     "data": {
      "image/png": "[encoded data removed]",
      "text/latex": [
       "$\\displaystyle 0$"
      ],
      "text/plain": [
       "0"
      ]
     },
     "execution_count": 122,
     "metadata": {},
     "output_type": "execute_result"
    }
   ],
   "source": [
    "u1_normalized.dot(u3_normalized)  # Debe ser 0"
   ]
  },
  {
   "cell_type": "code",
   "execution_count": 119,
   "metadata": {},
   "outputs": [
    {
     "data": {
      "image/png": "[encoded data removed]",
      "text/latex": [
       "$\\displaystyle 0$"
      ],
      "text/plain": [
       "0"
      ]
     },
     "execution_count": 119,
     "metadata": {},
     "output_type": "execute_result"
    }
   ],
   "source": [
    "u2_normalized.dot(u3_normalized)  # Debe ser 0"
   ]
  },
  {
   "cell_type": "markdown",
   "metadata": {
    "jp-MarkdownHeadingCollapsed": true
   },
   "source": [
    "## _QR_ DECOMPOSITION"
   ]
  },
  {
   "cell_type": "markdown",
   "metadata": {},
   "source": [
    "Todavía necesitamos calcular la matriz $\\mathbf{R}$. La forma de $\\mathbf{R}$ se muestra en (8):"
   ]
  },
  {
   "cell_type": "markdown",
   "metadata": {},
   "source": [
    "$$\n",
    "\\mathbf{R} =\n",
    "\\begin{pmatrix}\n",
    "\\mathbf{a}_1 \\cdot \\hat{\\mathbf{u}}_1 & \\mathbf{a}_2 \\cdot \\hat{\\mathbf{u}}_1 & \\mathbf{a}_3 \\cdot \\hat{\\mathbf{u}}_1 \\\\\n",
    "0 & \\mathbf{a}_2 \\cdot \\hat{\\mathbf{u}}_2 & \\mathbf{a}_3 \\cdot \\hat{\\mathbf{u}}_2 \\\\\n",
    "0 & 0 & \\mathbf{a}_3 \\cdot \\hat{\\mathbf{u}}_3\n",
    "\\end{pmatrix}\n",
    "$$\n"
   ]
  },
  {
   "cell_type": "code",
   "execution_count": 123,
   "metadata": {},
   "outputs": [
    {
     "data": {
      "text/latex": [
       "$\\displaystyle \\left[\\begin{matrix}\\sqrt{3} & \\frac{2 \\sqrt{3}}{3} & \\frac{\\sqrt{3}}{3}\\\\0 & \\frac{\\sqrt{6}}{3} & \\frac{\\sqrt{6}}{6}\\\\0 & 0 & \\frac{\\sqrt{2}}{2}\\end{matrix}\\right]$"
      ],
      "text/plain": [
       "⎡    2⋅√3  √3⎤\n",
       "⎢√3  ────  ──⎥\n",
       "⎢     3    3 ⎥\n",
       "⎢            ⎥\n",
       "⎢     √6   √6⎥\n",
       "⎢0    ──   ──⎥\n",
       "⎢     3    6 ⎥\n",
       "⎢            ⎥\n",
       "⎢          √2⎥\n",
       "⎢0    0    ──⎥\n",
       "⎣          2 ⎦"
      ]
     },
     "execution_count": 123,
     "metadata": {},
     "output_type": "execute_result"
    }
   ],
   "source": [
    "R = Matrix([\n",
    "    [a1.dot(u1_normalized), a2.dot(u1_normalized), a3.dot(u1_normalized)],\n",
    "    [0, a2.dot(u2_normalized), a3.dot(u2_normalized)],\n",
    "    [0, 0, a3.dot(u3_normalized)]\n",
    "])\n",
    "R\n"
   ]
  },
  {
   "cell_type": "markdown",
   "metadata": {
    "jp-MarkdownHeadingCollapsed": true
   },
   "source": [
    "## Conclusión"
   ]
  },
  {
   "cell_type": "markdown",
   "metadata": {},
   "source": [
    "La descomposición $QR$ se utiliza en muchos algoritmos numéricos, como la determinación de los valores propios de matrices grandes.\n",
    "\n",
    "Aunque hemos utilizado el caso simple del producto punto, la ortonormalización y la descomposición $QR$ se describen para espacios de producto interno general. Por lo tanto, volvemos a los resultados mostrados en (5) y (8), presentados aquí como (9) y (10).\n",
    "\n",
    "$$\n",
    "\\mathbf{u}_n = \\mathbf{a}_n - \\sum_{i=1}^{n-1} \\frac{\\langle \\mathbf{a}_n, \\mathbf{u}_i \\rangle}{\\|\\mathbf{u}_i\\|^2} \\mathbf{u}_i\n",
    "\\tag{9}\n",
    "$$\n",
    "\n",
    "$$\n",
    "\\mathbf{R} =\n",
    "\\begin{pmatrix}\n",
    "\\langle \\mathbf{a}_1, \\hat{\\mathbf{u}}_1 \\rangle & \\langle \\mathbf{a}_2, \\hat{\\mathbf{u}}_1 \\rangle & \\langle \\mathbf{a}_3, \\hat{\\mathbf{u}}_1 \\rangle \\\\\n",
    "0 & \\langle \\mathbf{a}_2, \\hat{\\mathbf{u}}_2 \\rangle & \\langle \\mathbf{a}_3, \\hat{\\mathbf{u}}_2 \\rangle \\\\\n",
    "0 & 0 & \\langle \\mathbf{a}_3, \\hat{\\mathbf{u}}_3 \\rangle\n",
    "\\end{pmatrix}\n",
    "\\tag{10}\n",
    "$$"
   ]
  },
  {
   "cell_type": "markdown",
   "metadata": {},
   "source": [
    "## 3.2 Analisis del error"
   ]
  },
  {
   "cell_type": "markdown",
   "metadata": {},
   "source": [
    "En esta sección, se analizarán los errores introducidos en los cálculos del algoritmo QR y cómo estos afectan la convergencia del algoritmo y los resultados finales."
   ]
  },
  {
   "cell_type": "markdown",
   "metadata": {},
   "source": [
    "#### Desventaja 1: Costo Computacional\n",
    "\n",
    "Un paso del método QR básico es relativamente costoso. Más precisamente,La complejidad de un paso del método $QR$ básico es $ O(n^3) $.\n",
    "\n",
    "Por lo tanto, incluso en una situación excesivamente optimista donde el número de pasos fuera proporcional a  $n$, el algoritmo necesitaría $ O(n^4) $ operaciones.\n",
    "\n"
   ]
  },
  {
   "cell_type": "markdown",
   "metadata": {},
   "source": [
    "En los Test que se realizaron, podemos ver las matrices F, G, H al aplicarles el algoritmo QR, la matriz que retorna el algoritmo no logra convertirse en matriz triangular, por lo que los auto valores y vectores no logran ser precisos.\n",
    "\n",
    "#### Desventaja 2:\n",
    "el método QR básico puede ser arbitrariamente lento si los valores propios están muy cerca unos de otros. En la práctica, suele ser lento."
   ]
  },
  {
   "cell_type": "markdown",
   "metadata": {},
   "source": [
    "## 3.3 Codigo\n",
    "### El algoritmo QR\n"
   ]
  },
  {
   "cell_type": "code",
   "execution_count": null,
   "metadata": {},
   "outputs": [],
   "source": []
  },
  {
   "cell_type": "markdown",
   "metadata": {},
   "source": [
    "\n",
    "![QR_ALGO](Imagenes/QRALGO.png)\n"
   ]
  },
  {
   "cell_type": "markdown",
   "metadata": {},
   "source": [
    "el algoritmo funciona simultaneamente para p = n\n",
    "\n",
    "\n"
   ]
  },
  {
   "cell_type": "code",
   "execution_count": 305,
   "metadata": {},
   "outputs": [],
   "source": [
    "import numpy as np\n",
    "\n",
    "def QR_Decomposition(matrix_A):\n",
    "    # Obtener las dimensiones de la matriz A (n x m), donde n es el número de filas y m el número de columnas\n",
    "    num_rows, num_columns = matrix_A.shape  # num_rows es el número de filas, num_columns es el número de columnas\n",
    "    \n",
    "    # Inicializamos las matrices Q y u\n",
    "    Q = np.empty((num_rows, num_rows))  # Matriz Q tiene el mismo número de filas que matrix_A y num_rows columnas\n",
    "    u = np.empty((num_rows, num_rows))  # Matriz u almacena los vectores intermedios en el proceso de ortogonalización\n",
    "\n",
    "    # Paso 1: Definir el primer vector ortogonal\n",
    "    u[:, 0] = matrix_A[:, 0]  # Tomamos la primera columna de matrix_A como el primer vector u_1\n",
    "    Q[:, 0] = u[:, 0] / np.linalg.norm(u[:, 0])  # Normalizamos el primer vector u_1 para obtener el primer vector ortonormal q_1\n",
    "\n",
    "    # Paso 2: Para cada columna posterior de matrix_A, hacer ortogonalización y normalización\n",
    "    for column_index in range(1, num_rows):\n",
    "        # Paso 2.1: Inicializamos el vector u correspondiente a la columna actual de matrix_A\n",
    "        u[:, column_index] = matrix_A[:, column_index]\n",
    "        \n",
    "        # Paso 2.2: Restamos las proyecciones de los vectores anteriores de Q para ortogonalizar el vector u\n",
    "        for previous_vector_index in range(column_index):\n",
    "            u[:, column_index] -= (matrix_A[:, column_index] @ Q[:, previous_vector_index]) * Q[:, previous_vector_index]\n",
    "        \n",
    "        # Paso 2.3: Normalizamos el nuevo vector ortogonal u para obtener el siguiente vector ortonormal q\n",
    "        Q[:, column_index] = u[:, column_index] / np.linalg.norm(u[:, column_index])\n",
    "\n",
    "    # Paso 3: Calculamos la matriz R, que es triangular superior\n",
    "    R = np.zeros((num_rows, num_columns))  # Inicializamos la matriz R con ceros\n",
    "    \n",
    "    # Paso 3.1: Calculamos los elementos de R como el producto escalar entre las columnas de matrix_A y los vectores de Q\n",
    "    for row_index in range(num_rows):\n",
    "        for column_index in range(row_index, num_columns):\n",
    "            R[row_index, column_index] = matrix_A[:, column_index] @ Q[:, row_index]\n",
    "    \n",
    "    # Devolvemos las matrices Q y R\n",
    "    return Q, R\n"
   ]
  },
  {
   "cell_type": "code",
   "execution_count": 307,
   "metadata": {},
   "outputs": [],
   "source": [
    "def pure_qr(A, max_iter=2000):\n",
    "    # Copiamos la matriz de entrada A para no modificar la original\n",
    "    Ak = np.copy(A)\n",
    "    \n",
    "    # Obtenemos el tamaño de la matriz (asumimos que es cuadrada)\n",
    "    n = A.shape[0]\n",
    "    \n",
    "    # Inicializamos la matriz Q como la identidad, que es el valor inicial de la matriz ortogonal\n",
    "    QQ = np.eye(n)\n",
    "\n",
    "    # Iniciamos el ciclo de iteraciones\n",
    "    for k in range(max_iter+1):\n",
    "        # Aplicamos la descomposición QR a la matriz Ak\n",
    "        Q, R = QR_Decomposition(Ak)\n",
    "        \n",
    "        # Actualizamos Ak como el producto R @ Q\n",
    "        Ak = R @ Q\n",
    "        \n",
    "        # Multiplicamos la matriz Q actualizada a la matriz QQ\n",
    "        QQ = QQ @ Q\n",
    "        \n",
    "        # Imprimimos el estado de Ak y QQ cada 100 iteraciones para monitorear el progreso\n",
    "        if k % 200 == 0:\n",
    "            print(\"Iteración:\", k)\n",
    "            print(\"(matriz actualizada):\")\n",
    "            print(Ak)\n",
    "            print(\"\\n\")\n",
    "\n",
    "    # Después de max_iter iteraciones, devolvemos la matriz Ak y la matriz ortogonal QQ\n",
    "    return  Ak, QQ\n"
   ]
  },
  {
   "cell_type": "markdown",
   "metadata": {},
   "source": [
    "## 3.4 Testeo"
   ]
  },
  {
   "cell_type": "code",
   "execution_count": 308,
   "metadata": {},
   "outputs": [],
   "source": [
    "import numpy as np"
   ]
  },
  {
   "cell_type": "code",
   "execution_count": 309,
   "metadata": {},
   "outputs": [],
   "source": [
    "# Matrices Test Tarea\n",
    "A = np.array([[2, 1],\n",
    "              [3, 4]])\n",
    "\n",
    "B = np.array([[3, 2],\n",
    "              [3, 4]])\n",
    "\n",
    "C = np.array([[2, 3],\n",
    "              [1, 4]])\n",
    "\n",
    "D = np.array([[1, 1, 1],\n",
    "              [2, 1, 1],\n",
    "              [1, 1, 3]])\n",
    "\n",
    "E = np.array([[1, 1, 2],\n",
    "              [2, 1, 3],\n",
    "              [1, 1, 1]])\n",
    "\n",
    "F = np.array([[2, 1, 2],\n",
    "              [1, 1, 3],\n",
    "              [1, 1, 1]])\n",
    "\n",
    "G = np.array([[1, 1, 1, 1],\n",
    "              [1, 2, 1, 2],\n",
    "              [2, 1, 1, 1],\n",
    "              [2, 1, 1, 4]])\n",
    "\n",
    "H = np.array([[1, 1, 1, 2],\n",
    "              [2, 1, 1, 2],\n",
    "              [1, 1, 1, 4],\n",
    "              [2, 1, 1, 4]])\n"
   ]
  },
  {
   "cell_type": "code",
   "execution_count": 321,
   "metadata": {},
   "outputs": [
    {
     "name": "stdout",
     "output_type": "stream",
     "text": [
      "Iteración: 0\n",
      "(matriz actualizada):\n",
      "[[ 5.23076923 -0.84615385]\n",
      " [ 1.15384615  0.76923077]]\n",
      "\n",
      "\n",
      "Iteración: 200\n",
      "(matriz actualizada):\n",
      "[[ 5.00000000e+000 -2.00000000e+000]\n",
      " [ 1.54266052e-140  1.00000000e+000]]\n",
      "\n",
      "\n",
      "Iteración: 400\n",
      "(matriz actualizada):\n",
      "[[ 5.00000000e+000 -2.00000000e+000]\n",
      " [ 2.47895988e-280  1.00000000e+000]]\n",
      "\n",
      "\n",
      "Iteración: 600\n",
      "(matriz actualizada):\n",
      "[[ 5. -2.]\n",
      " [ 0.  1.]]\n",
      "\n",
      "\n",
      "Iteración: 800\n",
      "(matriz actualizada):\n",
      "[[ 5. -2.]\n",
      " [ 0.  1.]]\n",
      "\n",
      "\n",
      "Iteración: 1000\n",
      "(matriz actualizada):\n",
      "[[ 5. -2.]\n",
      " [ 0.  1.]]\n",
      "\n",
      "\n",
      "Iteración: 1200\n",
      "(matriz actualizada):\n",
      "[[ 5. -2.]\n",
      " [ 0.  1.]]\n",
      "\n",
      "\n",
      "Iteración: 1400\n",
      "(matriz actualizada):\n",
      "[[ 5. -2.]\n",
      " [ 0.  1.]]\n",
      "\n",
      "\n",
      "Iteración: 1600\n",
      "(matriz actualizada):\n",
      "[[ 5. -2.]\n",
      " [ 0.  1.]]\n",
      "\n",
      "\n",
      "Iteración: 1800\n",
      "(matriz actualizada):\n",
      "[[ 5. -2.]\n",
      " [ 0.  1.]]\n",
      "\n",
      "\n",
      "Iteración: 2000\n",
      "(matriz actualizada):\n",
      "[[ 5. -2.]\n",
      " [ 0.  1.]]\n",
      "\n",
      "\n"
     ]
    },
    {
     "data": {
      "text/plain": [
       "array([[ 0.31622777, -0.9486833 ],\n",
       "       [ 0.9486833 ,  0.31622777]])"
      ]
     },
     "execution_count": 321,
     "metadata": {},
     "output_type": "execute_result"
    }
   ],
   "source": [
    "Ak, QQ_a = pure_qr(A)\n",
    "QQ_a"
   ]
  },
  {
   "cell_type": "code",
   "execution_count": 312,
   "metadata": {},
   "outputs": [
    {
     "name": "stdout",
     "output_type": "stream",
     "text": [
      "Eigenvalores:\n",
      "[1. 5.]\n",
      "\n",
      "Eigenvectores:\n",
      "[[-0.70710678 -0.31622777]\n",
      " [ 0.70710678 -0.9486833 ]]\n"
     ]
    }
   ],
   "source": [
    "#COMPARACION CON NUMPY\n",
    "eigenvalores, eigenvectores = np.linalg.eig(A)\n",
    "\n",
    "# Mostrar los resultados\n",
    "print(\"Eigenvalores:\")\n",
    "print(eigenvalores)\n",
    "print(\"\\nEigenvectores:\")\n",
    "print(eigenvectores)"
   ]
  },
  {
   "cell_type": "code",
   "execution_count": 313,
   "metadata": {},
   "outputs": [
    {
     "name": "stdout",
     "output_type": "stream",
     "text": [
      "Iteración: 0\n",
      "(matriz actualizada):\n",
      "[[ 6.00000000e+00 -2.66453526e-15]\n",
      " [ 1.00000000e+00  1.00000000e+00]]\n",
      "\n",
      "\n",
      "Iteración: 200\n",
      "(matriz actualizada):\n",
      "[[ 6.0000000e+000 -1.0000000e+000]\n",
      " [ 2.2527686e-156  1.0000000e+000]]\n",
      "\n",
      "\n",
      "Iteración: 400\n",
      "(matriz actualizada):\n",
      "[[ 6.00000000e+000 -1.00000000e+000]\n",
      " [ 5.27796502e-312  1.00000000e+000]]\n",
      "\n",
      "\n",
      "Iteración: 600\n",
      "(matriz actualizada):\n",
      "[[ 6. -1.]\n",
      " [ 0.  1.]]\n",
      "\n",
      "\n",
      "Iteración: 800\n",
      "(matriz actualizada):\n",
      "[[ 6. -1.]\n",
      " [ 0.  1.]]\n",
      "\n",
      "\n",
      "Iteración: 1000\n",
      "(matriz actualizada):\n",
      "[[ 6. -1.]\n",
      " [ 0.  1.]]\n",
      "\n",
      "\n",
      "Iteración: 1200\n",
      "(matriz actualizada):\n",
      "[[ 6. -1.]\n",
      " [ 0.  1.]]\n",
      "\n",
      "\n",
      "Iteración: 1400\n",
      "(matriz actualizada):\n",
      "[[ 6. -1.]\n",
      " [ 0.  1.]]\n",
      "\n",
      "\n",
      "Iteración: 1600\n",
      "(matriz actualizada):\n",
      "[[ 6. -1.]\n",
      " [ 0.  1.]]\n",
      "\n",
      "\n",
      "Iteración: 1800\n",
      "(matriz actualizada):\n",
      "[[ 6. -1.]\n",
      " [ 0.  1.]]\n",
      "\n",
      "\n",
      "Iteración: 2000\n",
      "(matriz actualizada):\n",
      "[[ 6. -1.]\n",
      " [ 0.  1.]]\n",
      "\n",
      "\n"
     ]
    },
    {
     "data": {
      "text/plain": [
       "array([[ 0.5547002 , -0.83205029],\n",
       "       [ 0.83205029,  0.5547002 ]])"
      ]
     },
     "execution_count": 313,
     "metadata": {},
     "output_type": "execute_result"
    }
   ],
   "source": [
    "Bk, QQ_b = pure_qr(B)\n",
    "QB"
   ]
  },
  {
   "cell_type": "code",
   "execution_count": 314,
   "metadata": {},
   "outputs": [
    {
     "name": "stdout",
     "output_type": "stream",
     "text": [
      "Eigenvalores:\n",
      "[1. 6.]\n",
      "\n",
      "Eigenvectores:\n",
      "[[-0.70710678 -0.5547002 ]\n",
      " [ 0.70710678 -0.83205029]]\n"
     ]
    }
   ],
   "source": [
    "#COMPARACION CON NUMPY\n",
    "eigenvalores, eigenvectores = np.linalg.eig(B)\n",
    "\n",
    "# Mostrar los resultados\n",
    "print(\"Eigenvalores:\")\n",
    "print(eigenvalores)\n",
    "print(\"\\nEigenvectores:\")\n",
    "print(eigenvectores) "
   ]
  },
  {
   "cell_type": "code",
   "execution_count": 315,
   "metadata": {},
   "outputs": [
    {
     "name": "stdout",
     "output_type": "stream",
     "text": [
      "Iteración: 0\n",
      "(matriz actualizada):\n",
      "[[ 6.00000000e+00 -2.66453526e-15]\n",
      " [ 1.00000000e+00  1.00000000e+00]]\n",
      "\n",
      "\n",
      "Iteración: 200\n",
      "(matriz actualizada):\n",
      "[[ 6.0000000e+000 -1.0000000e+000]\n",
      " [ 2.2527686e-156  1.0000000e+000]]\n",
      "\n",
      "\n",
      "Iteración: 400\n",
      "(matriz actualizada):\n",
      "[[ 6.00000000e+000 -1.00000000e+000]\n",
      " [ 5.27796502e-312  1.00000000e+000]]\n",
      "\n",
      "\n",
      "Iteración: 600\n",
      "(matriz actualizada):\n",
      "[[ 6. -1.]\n",
      " [ 0.  1.]]\n",
      "\n",
      "\n",
      "Iteración: 800\n",
      "(matriz actualizada):\n",
      "[[ 6. -1.]\n",
      " [ 0.  1.]]\n",
      "\n",
      "\n",
      "Iteración: 1000\n",
      "(matriz actualizada):\n",
      "[[ 6. -1.]\n",
      " [ 0.  1.]]\n",
      "\n",
      "\n",
      "Iteración: 1200\n",
      "(matriz actualizada):\n",
      "[[ 6. -1.]\n",
      " [ 0.  1.]]\n",
      "\n",
      "\n",
      "Iteración: 1400\n",
      "(matriz actualizada):\n",
      "[[ 6. -1.]\n",
      " [ 0.  1.]]\n",
      "\n",
      "\n",
      "Iteración: 1600\n",
      "(matriz actualizada):\n",
      "[[ 6. -1.]\n",
      " [ 0.  1.]]\n",
      "\n",
      "\n",
      "Iteración: 1800\n",
      "(matriz actualizada):\n",
      "[[ 6. -1.]\n",
      " [ 0.  1.]]\n",
      "\n",
      "\n",
      "Iteración: 2000\n",
      "(matriz actualizada):\n",
      "[[ 6. -1.]\n",
      " [ 0.  1.]]\n",
      "\n",
      "\n"
     ]
    },
    {
     "data": {
      "text/plain": [
       "array([[ 0.5547002 , -0.83205029],\n",
       "       [ 0.83205029,  0.5547002 ]])"
      ]
     },
     "execution_count": 315,
     "metadata": {},
     "output_type": "execute_result"
    }
   ],
   "source": [
    "Bk, QQ_b = pure_qr(B)\n",
    "QQ_b"
   ]
  },
  {
   "cell_type": "code",
   "execution_count": 316,
   "metadata": {},
   "outputs": [
    {
     "name": "stdout",
     "output_type": "stream",
     "text": [
      "Iteración: 0\n",
      "(matriz actualizada):\n",
      "[[4. 3.]\n",
      " [1. 2.]]\n",
      "\n",
      "\n",
      "Iteración: 200\n",
      "(matriz actualizada):\n",
      "[[5.00000000e+000 2.00000000e+000]\n",
      " [2.57110087e-140 1.00000000e+000]]\n",
      "\n",
      "\n",
      "Iteración: 400\n",
      "(matriz actualizada):\n",
      "[[5.0000000e+000 2.0000000e+000]\n",
      " [4.1315998e-280 1.0000000e+000]]\n",
      "\n",
      "\n",
      "Iteración: 600\n",
      "(matriz actualizada):\n",
      "[[5. 2.]\n",
      " [0. 1.]]\n",
      "\n",
      "\n",
      "Iteración: 800\n",
      "(matriz actualizada):\n",
      "[[5. 2.]\n",
      " [0. 1.]]\n",
      "\n",
      "\n",
      "Iteración: 1000\n",
      "(matriz actualizada):\n",
      "[[5. 2.]\n",
      " [0. 1.]]\n",
      "\n",
      "\n",
      "Iteración: 1200\n",
      "(matriz actualizada):\n",
      "[[5. 2.]\n",
      " [0. 1.]]\n",
      "\n",
      "\n",
      "Iteración: 1400\n",
      "(matriz actualizada):\n",
      "[[5. 2.]\n",
      " [0. 1.]]\n",
      "\n",
      "\n",
      "Iteración: 1600\n",
      "(matriz actualizada):\n",
      "[[5. 2.]\n",
      " [0. 1.]]\n",
      "\n",
      "\n",
      "Iteración: 1800\n",
      "(matriz actualizada):\n",
      "[[5. 2.]\n",
      " [0. 1.]]\n",
      "\n",
      "\n",
      "Iteración: 2000\n",
      "(matriz actualizada):\n",
      "[[5. 2.]\n",
      " [0. 1.]]\n",
      "\n",
      "\n"
     ]
    },
    {
     "data": {
      "text/plain": [
       "array([[ 0.70710678, -0.70710678],\n",
       "       [ 0.70710678,  0.70710678]])"
      ]
     },
     "execution_count": 316,
     "metadata": {},
     "output_type": "execute_result"
    }
   ],
   "source": [
    "Ck, QQ_c = pure_qr(C)\n",
    "QQ_c"
   ]
  },
  {
   "cell_type": "code",
   "execution_count": 317,
   "metadata": {},
   "outputs": [
    {
     "name": "stdout",
     "output_type": "stream",
     "text": [
      "Eigenvalores:\n",
      "[1. 5.]\n",
      "\n",
      "Eigenvectores:\n",
      "[[-0.9486833  -0.70710678]\n",
      " [ 0.31622777 -0.70710678]]\n"
     ]
    }
   ],
   "source": [
    "#COMPARACION CON NUMPY\n",
    "eigenvalores, eigenvectores = np.linalg.eig(C)\n",
    "\n",
    "# Mostrar los resultados\n",
    "print(\"Eigenvalores:\")\n",
    "print(eigenvalores)\n",
    "print(\"\\nEigenvectores:\")\n",
    "print(eigenvectores) "
   ]
  },
  {
   "cell_type": "code",
   "execution_count": 318,
   "metadata": {},
   "outputs": [
    {
     "name": "stdout",
     "output_type": "stream",
     "text": [
      "Iteración: 0\n",
      "(matriz actualizada):\n",
      "[[3.33333333e+00 1.88561808e+00 4.21884749e-15]\n",
      " [1.17851130e+00 6.66666667e-01 1.22474487e+00]\n",
      " [5.77350269e-01 8.16496581e-01 1.00000000e+00]]\n",
      "\n",
      "\n",
      "Iteración: 200\n",
      "(matriz actualizada):\n",
      "[[ 4.16424794e+000  8.81780589e-002 -6.31615086e-001]\n",
      " [ 9.88413594e-107  1.22713444e+000  7.70251267e-001]\n",
      " [ 7.80854598e-206  1.75945392e-099 -3.91382381e-001]]\n",
      "\n",
      "\n",
      "Iteración: 400\n",
      "(matriz actualizada):\n",
      "[[ 4.16424794e+000  8.81780589e-002 -6.31615086e-001]\n",
      " [ 7.34601761e-213  1.22713444e+000  7.70251267e-001]\n",
      " [ 0.00000000e+000  9.70963425e-199 -3.91382381e-001]]\n",
      "\n",
      "\n",
      "Iteración: 600\n",
      "(matriz actualizada):\n",
      "[[ 4.16424794e+000  8.81780589e-002 -6.31615086e-001]\n",
      " [ 5.45967242e-319  1.22713444e+000  7.70251267e-001]\n",
      " [ 0.00000000e+000  5.35831012e-298 -3.91382381e-001]]\n",
      "\n",
      "\n",
      "Iteración: 800\n",
      "(matriz actualizada):\n",
      "[[ 4.16424794  0.08817806 -0.63161509]\n",
      " [ 0.          1.22713444  0.77025127]\n",
      " [ 0.          0.         -0.39138238]]\n",
      "\n",
      "\n",
      "Iteración: 1000\n",
      "(matriz actualizada):\n",
      "[[ 4.16424794  0.08817806 -0.63161509]\n",
      " [ 0.          1.22713444  0.77025127]\n",
      " [ 0.          0.         -0.39138238]]\n",
      "\n",
      "\n",
      "Iteración: 1200\n",
      "(matriz actualizada):\n",
      "[[ 4.16424794  0.08817806 -0.63161509]\n",
      " [ 0.          1.22713444  0.77025127]\n",
      " [ 0.          0.         -0.39138238]]\n",
      "\n",
      "\n",
      "Iteración: 1400\n",
      "(matriz actualizada):\n",
      "[[ 4.16424794  0.08817806 -0.63161509]\n",
      " [ 0.          1.22713444  0.77025127]\n",
      " [ 0.          0.         -0.39138238]]\n",
      "\n",
      "\n",
      "Iteración: 1600\n",
      "(matriz actualizada):\n",
      "[[ 4.16424794  0.08817806 -0.63161509]\n",
      " [ 0.          1.22713444  0.77025127]\n",
      " [ 0.          0.         -0.39138238]]\n",
      "\n",
      "\n",
      "Iteración: 1800\n",
      "(matriz actualizada):\n",
      "[[ 4.16424794  0.08817806 -0.63161509]\n",
      " [ 0.          1.22713444  0.77025127]\n",
      " [ 0.          0.         -0.39138238]]\n",
      "\n",
      "\n",
      "Iteración: 2000\n",
      "(matriz actualizada):\n",
      "[[ 4.16424794  0.08817806 -0.63161509]\n",
      " [ 0.          1.22713444  0.77025127]\n",
      " [ 0.          0.         -0.39138238]]\n",
      "\n",
      "\n"
     ]
    },
    {
     "data": {
      "text/plain": [
       "array([[ 0.40031591, -0.37121716, -0.83782157],\n",
       "       [ 0.49644754, -0.68063221,  0.53877606],\n",
       "       [ 0.77025127,  0.63161509,  0.08817806]])"
      ]
     },
     "execution_count": 318,
     "metadata": {},
     "output_type": "execute_result"
    }
   ],
   "source": [
    "Dk, QQ_d = pure_qr(D)\n",
    "QQ_d"
   ]
  },
  {
   "cell_type": "code",
   "execution_count": 319,
   "metadata": {},
   "outputs": [
    {
     "name": "stdout",
     "output_type": "stream",
     "text": [
      "Eigenvalores:\n",
      "[ 4.16424794 -0.39138238  1.22713444]\n",
      "\n",
      "Eigenvectores:\n",
      "[[-0.40031591 -0.53877606 -0.38306286]\n",
      " [-0.49644754  0.83782157 -0.69522332]\n",
      " [-0.77025127 -0.08817806  0.60821655]]\n"
     ]
    }
   ],
   "source": [
    "#COMPARACION CON NUMPY\n",
    "eigenvalores, eigenvectores = np.linalg.eig(D)\n",
    "\n",
    "# Mostrar los resultados\n",
    "print(\"Eigenvalores:\")\n",
    "print(eigenvalores)\n",
    "print(\"\\nEigenvectores:\")\n",
    "print(eigenvectores) "
   ]
  },
  {
   "cell_type": "code",
   "execution_count": 320,
   "metadata": {},
   "outputs": [
    {
     "name": "stdout",
     "output_type": "stream",
     "text": [
      "Iteración: 0\n",
      "(matriz actualizada):\n",
      "[[ 3.83333333e+00  2.59272486e+00 -8.66025404e-01]\n",
      " [ 4.71404521e-01 -3.33333333e-01 -7.09894518e-17]\n",
      " [ 2.88675135e-01  4.08248290e-01 -5.00000000e-01]]\n",
      "\n",
      "\n",
      "Iteración: 200\n",
      "(matriz actualizada):\n",
      "[[ 4.04891734e+000  2.39475083e+000  4.98818945e-001]\n",
      " [ 1.43776605e-154 -6.92021472e-001 -1.27859767e-001]\n",
      " [ 3.26125182e-212  6.98580645e-059 -3.56895868e-001]]\n",
      "\n",
      "\n",
      "Iteración: 400\n",
      "(matriz actualizada):\n",
      "[[ 4.04891734e+000  2.39475083e+000  4.98818945e-001]\n",
      " [ 5.17392413e-308 -6.92021472e-001 -1.27859767e-001]\n",
      " [ 0.00000000e+000  2.13111341e-116 -3.56895868e-001]]\n",
      "\n",
      "\n",
      "Iteración: 600\n",
      "(matriz actualizada):\n",
      "[[ 4.04891734e+000  2.39475083e+000  4.98818945e-001]\n",
      " [ 0.00000000e+000 -6.92021472e-001 -1.27859767e-001]\n",
      " [ 0.00000000e+000  6.50124564e-174 -3.56895868e-001]]\n",
      "\n",
      "\n",
      "Iteración: 800\n",
      "(matriz actualizada):\n",
      "[[ 4.04891734e+000  2.39475083e+000  4.98818945e-001]\n",
      " [ 0.00000000e+000 -6.92021472e-001 -1.27859767e-001]\n",
      " [ 0.00000000e+000  1.98329167e-231 -3.56895868e-001]]\n",
      "\n",
      "\n",
      "Iteración: 1000\n",
      "(matriz actualizada):\n",
      "[[ 4.04891734e+000  2.39475083e+000  4.98818945e-001]\n",
      " [ 0.00000000e+000 -6.92021472e-001 -1.27859767e-001]\n",
      " [ 0.00000000e+000  6.05029572e-289 -3.56895868e-001]]\n",
      "\n",
      "\n",
      "Iteración: 1200\n",
      "(matriz actualizada):\n",
      "[[ 4.04891734  2.39475083  0.49881895]\n",
      " [ 0.         -0.69202147 -0.12785977]\n",
      " [ 0.          0.         -0.35689587]]\n",
      "\n",
      "\n",
      "Iteración: 1400\n",
      "(matriz actualizada):\n",
      "[[ 4.04891734  2.39475083  0.49881895]\n",
      " [ 0.         -0.69202147 -0.12785977]\n",
      " [ 0.          0.         -0.35689587]]\n",
      "\n",
      "\n",
      "Iteración: 1600\n",
      "(matriz actualizada):\n",
      "[[ 4.04891734  2.39475083  0.49881895]\n",
      " [ 0.         -0.69202147 -0.12785977]\n",
      " [ 0.          0.         -0.35689587]]\n",
      "\n",
      "\n",
      "Iteración: 1800\n",
      "(matriz actualizada):\n",
      "[[ 4.04891734  2.39475083  0.49881895]\n",
      " [ 0.         -0.69202147 -0.12785977]\n",
      " [ 0.          0.         -0.35689587]]\n",
      "\n",
      "\n",
      "Iteración: 2000\n",
      "(matriz actualizada):\n",
      "[[ 4.04891734  2.39475083  0.49881895]\n",
      " [ 0.         -0.69202147 -0.12785977]\n",
      " [ 0.          0.         -0.35689587]]\n",
      "\n",
      "\n"
     ]
    },
    {
     "data": {
      "text/plain": [
       "array([[ 0.51769363, -0.03900114,  0.85467668],\n",
       "       [ 0.74808896, -0.46410467, -0.47430977],\n",
       "       [ 0.41515805,  0.88492134, -0.21108771]])"
      ]
     },
     "execution_count": 320,
     "metadata": {},
     "output_type": "execute_result"
    }
   ],
   "source": [
    "Ek, QQ_e = pure_qr(E)\n",
    "QQ_e"
   ]
  },
  {
   "cell_type": "code",
   "execution_count": 300,
   "metadata": {},
   "outputs": [
    {
     "name": "stdout",
     "output_type": "stream",
     "text": [
      "Eigenvalores:\n",
      "[ 4.04891734 -0.35689587 -0.69202147]\n",
      "\n",
      "Eigenvectores:\n",
      "[[-0.51769363 -0.85467668 -0.26822309]\n",
      " [-0.74808896  0.21108771 -0.75154439]\n",
      " [-0.41515805  0.47430977  0.6026918 ]]\n"
     ]
    }
   ],
   "source": [
    "#COMPARACION CON NUMPY\n",
    "eigenvalores, eigenvectores = np.linalg.eig(E)\n",
    "\n",
    "# Mostrar los resultados\n",
    "print(\"Eigenvalores:\")\n",
    "print(eigenvalores)\n",
    "print(\"\\nEigenvectores:\")\n",
    "print(eigenvectores) "
   ]
  },
  {
   "cell_type": "code",
   "execution_count": 301,
   "metadata": {},
   "outputs": [
    {
     "name": "stdout",
     "output_type": "stream",
     "text": [
      "Iteración: 0\n",
      "(matriz actualizada):\n",
      "[[ 4.          1.41421356 -1.15470054]\n",
      " [ 0.70710678  1.         -0.40824829]\n",
      " [ 0.57735027  0.81649658 -1.        ]]\n",
      "\n",
      "\n",
      "Iteración: 200\n",
      "(matriz actualizada):\n",
      "[[ 4.12488542e+000  1.83902152e+000  1.03502220e+000]\n",
      " [-5.55451060e-148 -7.61557182e-001 -7.39411184e-001]\n",
      " [ 7.22787913e-163  9.90986182e-016  6.36671762e-001]]\n",
      "\n",
      "\n",
      "Iteración: 400\n",
      "(matriz actualizada):\n",
      "[[ 4.12488542e+000  1.83902152e+000  1.03502220e+000]\n",
      " [-1.00640214e-294 -7.61557182e-001 -7.39411184e-001]\n",
      " [ 0.00000000e+000  2.74588055e-031  6.36671762e-001]]\n",
      "\n",
      "\n",
      "Iteración: 600\n",
      "(matriz actualizada):\n",
      "[[ 4.12488542e+00  1.83902152e+00  1.03502220e+00]\n",
      " [ 0.00000000e+00 -7.61557182e-01 -7.39411184e-01]\n",
      " [ 0.00000000e+00  7.60844107e-47  6.36671762e-01]]\n",
      "\n",
      "\n",
      "Iteración: 800\n",
      "(matriz actualizada):\n",
      "[[ 4.12488542e+00  1.83902152e+00  1.03502220e+00]\n",
      " [ 0.00000000e+00 -7.61557182e-01 -7.39411184e-01]\n",
      " [ 0.00000000e+00  2.10818987e-62  6.36671762e-01]]\n",
      "\n",
      "\n",
      "Iteración: 1000\n",
      "(matriz actualizada):\n",
      "[[ 4.12488542e+00  1.83902152e+00  1.03502220e+00]\n",
      " [ 0.00000000e+00 -7.61557182e-01 -7.39411184e-01]\n",
      " [ 0.00000000e+00  5.84149169e-78  6.36671762e-01]]\n",
      "\n",
      "\n",
      "Iteración: 1200\n",
      "(matriz actualizada):\n",
      "[[ 4.12488542e+00  1.83902152e+00  1.03502220e+00]\n",
      " [ 0.00000000e+00 -7.61557182e-01 -7.39411184e-01]\n",
      " [ 0.00000000e+00  1.61859355e-93  6.36671762e-01]]\n",
      "\n",
      "\n",
      "Iteración: 1400\n",
      "(matriz actualizada):\n",
      "[[ 4.12488542e+000  1.83902152e+000  1.03502220e+000]\n",
      " [ 0.00000000e+000 -7.61557182e-001 -7.39411184e-001]\n",
      " [ 0.00000000e+000  4.48489051e-109  6.36671762e-001]]\n",
      "\n",
      "\n",
      "Iteración: 1600\n",
      "(matriz actualizada):\n",
      "[[ 4.12488542e+000  1.83902152e+000  1.03502220e+000]\n",
      " [ 0.00000000e+000 -7.61557182e-001 -7.39411184e-001]\n",
      " [ 0.00000000e+000  1.24269882e-124  6.36671762e-001]]\n",
      "\n",
      "\n",
      "Iteración: 1800\n",
      "(matriz actualizada):\n",
      "[[ 4.12488542e+000  1.83902152e+000  1.03502220e+000]\n",
      " [ 0.00000000e+000 -7.61557182e-001 -7.39411184e-001]\n",
      " [ 0.00000000e+000  3.44334016e-140  6.36671762e-001]]\n",
      "\n",
      "\n",
      "Iteración: 2000\n",
      "(matriz actualizada):\n",
      "[[ 4.12488542e+000  1.83902152e+000  1.03502220e+000]\n",
      " [ 0.00000000e+000 -7.61557182e-001 -7.39411184e-001]\n",
      " [ 0.00000000e+000  9.54100160e-156  6.36671762e-001]]\n",
      "\n",
      "\n",
      "Iteración: 2200\n",
      "(matriz actualizada):\n",
      "[[ 4.12488542e+000  1.83902152e+000  1.03502220e+000]\n",
      " [ 0.00000000e+000 -7.61557182e-001 -7.39411184e-001]\n",
      " [ 0.00000000e+000  2.64367467e-171  6.36671762e-001]]\n",
      "\n",
      "\n",
      "Iteración: 2400\n",
      "(matriz actualizada):\n",
      "[[ 4.12488542e+000  1.83902152e+000  1.03502220e+000]\n",
      " [ 0.00000000e+000 -7.61557182e-001 -7.39411184e-001]\n",
      " [ 0.00000000e+000  7.32524325e-187  6.36671762e-001]]\n",
      "\n",
      "\n",
      "Iteración: 2600\n",
      "(matriz actualizada):\n",
      "[[ 4.12488542e+000  1.83902152e+000  1.03502220e+000]\n",
      " [ 0.00000000e+000 -7.61557182e-001 -7.39411184e-001]\n",
      " [ 0.00000000e+000  2.02971982e-202  6.36671762e-001]]\n",
      "\n",
      "\n",
      "Iteración: 2800\n",
      "(matriz actualizada):\n",
      "[[ 4.12488542e+000  1.83902152e+000  1.03502220e+000]\n",
      " [ 0.00000000e+000 -7.61557182e-001 -7.39411184e-001]\n",
      " [ 0.00000000e+000  5.62406243e-218  6.36671762e-001]]\n",
      "\n",
      "\n",
      "Iteración: 3000\n",
      "(matriz actualizada):\n",
      "[[ 4.12488542e+000  1.83902152e+000  1.03502220e+000]\n",
      " [ 0.00000000e+000 -7.61557182e-001 -7.39411184e-001]\n",
      " [ 0.00000000e+000  1.55834702e-233  6.36671762e-001]]\n",
      "\n",
      "\n"
     ]
    },
    {
     "data": {
      "text/plain": [
       "array([[ 0.67550236,  0.17865763, -0.71538662],\n",
       "       [ 0.61159354, -0.67770693,  0.40824829],\n",
       "       [ 0.41188579,  0.71329852,  0.56705848]])"
      ]
     },
     "execution_count": 301,
     "metadata": {},
     "output_type": "execute_result"
    }
   ],
   "source": [
    "Fk, QQ_f = pure_qr(F)\n",
    "QQ_f"
   ]
  },
  {
   "cell_type": "code",
   "execution_count": 282,
   "metadata": {},
   "outputs": [
    {
     "name": "stdout",
     "output_type": "stream",
     "text": [
      "Eigenvalores:\n",
      "[ 4.12488542  0.63667176 -0.76155718]\n",
      "\n",
      "Eigenvectores:\n",
      "[[-0.67550236 -0.72653358 -0.07072589]\n",
      " [-0.61159354  0.66793428 -0.84969749]\n",
      " [-0.41188579  0.16128473  0.52250553]]\n"
     ]
    }
   ],
   "source": [
    "#COMPARACION CON NUMPY\n",
    "eigenvalores, eigenvectores = np.linalg.eig(F)\n",
    "\n",
    "# Mostrar los resultados\n",
    "print(\"Eigenvalores:\")\n",
    "print(eigenvalores)\n",
    "print(\"\\nEigenvectores:\")\n",
    "print(eigenvectores) "
   ]
  },
  {
   "cell_type": "code",
   "execution_count": 302,
   "metadata": {},
   "outputs": [
    {
     "name": "stdout",
     "output_type": "stream",
     "text": [
      "Iteración: 0\n",
      "(matriz actualizada):\n",
      "[[ 5.5         0.98198051  1.3174651   1.56524758]\n",
      " [ 1.2001984   0.97619048 -0.62822862  0.048795  ]\n",
      " [-0.09759001  0.04259177  0.02380952 -0.54554473]\n",
      " [ 1.34164079 -0.58554004 -0.32732684  1.5       ]]\n",
      "\n",
      "\n",
      "Iteración: 200\n",
      "(matriz actualizada):\n",
      "[[ 6.09964773e+000  1.52542362e-001  6.41103498e-001  1.17035971e+000]\n",
      " [ 3.83687961e-136  1.28353694e+000 -7.64983465e-001  3.31678699e-001]\n",
      " [-3.82487504e-158  2.15785803e-023  1.00000000e+000  7.07647380e-001]\n",
      " [ 9.37258329e-241 -5.28767710e-106 -2.45042863e-083 -3.83184672e-001]]\n",
      "\n",
      "\n",
      "Iteración: 400\n",
      "(matriz actualizada):\n",
      "[[ 6.09964773e+000  1.52542362e-001  6.41103498e-001  1.17035971e+000]\n",
      " [ 1.60214531e-271  1.28353694e+000 -7.64983465e-001  3.31678699e-001]\n",
      " [-3.32404143e-315  4.49105438e-045  1.00000000e+000  7.07647380e-001]\n",
      " [ 0.00000000e+000 -5.28708070e-211 -1.17724709e-166 -3.83184672e-001]]\n",
      "\n",
      "\n",
      "Iteración: 600\n",
      "(matriz actualizada):\n",
      "[[ 6.09964773e+000  1.52542362e-001  6.41103498e-001  1.17035971e+000]\n",
      " [ 0.00000000e+000  1.28353694e+000 -7.64983465e-001  3.31678699e-001]\n",
      " [ 0.00000000e+000  9.34703265e-067  1.00000000e+000  7.07647380e-001]\n",
      " [ 0.00000000e+000 -5.28648438e-316 -5.65578891e-250 -3.83184672e-001]]\n",
      "\n",
      "\n",
      "Iteración: 800\n",
      "(matriz actualizada):\n",
      "[[ 6.09964773e+00  1.52542362e-01  6.41103498e-01  1.17035971e+00]\n",
      " [ 0.00000000e+00  1.28353694e+00 -7.64983465e-01  3.31678699e-01]\n",
      " [ 0.00000000e+00  1.94535652e-88  1.00000000e+00  7.07647380e-01]\n",
      " [ 0.00000000e+00  0.00000000e+00  0.00000000e+00 -3.83184672e-01]]\n",
      "\n",
      "\n",
      "Iteración: 1000\n",
      "(matriz actualizada):\n",
      "[[ 6.09964773e+000  1.52542362e-001  6.41103498e-001  1.17035971e+000]\n",
      " [ 0.00000000e+000  1.28353694e+000 -7.64983465e-001  3.31678699e-001]\n",
      " [ 0.00000000e+000  4.04878441e-110  1.00000000e+000  7.07647380e-001]\n",
      " [ 0.00000000e+000  0.00000000e+000  0.00000000e+000 -3.83184672e-001]]\n",
      "\n",
      "\n",
      "Iteración: 1200\n",
      "(matriz actualizada):\n",
      "[[ 6.09964773e+000  1.52542362e-001  6.41103498e-001  1.17035971e+000]\n",
      " [ 0.00000000e+000  1.28353694e+000 -7.64983465e-001  3.31678699e-001]\n",
      " [ 0.00000000e+000  8.42655573e-132  1.00000000e+000  7.07647380e-001]\n",
      " [ 0.00000000e+000  0.00000000e+000  0.00000000e+000 -3.83184672e-001]]\n",
      "\n",
      "\n",
      "Iteración: 1400\n",
      "(matriz actualizada):\n",
      "[[ 6.09964773e+000  1.52542362e-001  6.41103498e-001  1.17035971e+000]\n",
      " [ 0.00000000e+000  1.28353694e+000 -7.64983465e-001  3.31678699e-001]\n",
      " [ 0.00000000e+000  1.75378174e-153  1.00000000e+000  7.07647380e-001]\n",
      " [ 0.00000000e+000  0.00000000e+000  0.00000000e+000 -3.83184672e-001]]\n",
      "\n",
      "\n",
      "Iteración: 1600\n",
      "(matriz actualizada):\n",
      "[[ 6.09964773e+000  1.52542362e-001  6.41103498e-001  1.17035971e+000]\n",
      " [ 0.00000000e+000  1.28353694e+000 -7.64983465e-001  3.31678699e-001]\n",
      " [ 0.00000000e+000  3.65006828e-175  1.00000000e+000  7.07647380e-001]\n",
      " [ 0.00000000e+000  0.00000000e+000  0.00000000e+000 -3.83184672e-001]]\n",
      "\n",
      "\n",
      "Iteración: 1800\n",
      "(matriz actualizada):\n",
      "[[ 6.09964773e+000  1.52542362e-001  6.41103498e-001  1.17035971e+000]\n",
      " [ 0.00000000e+000  1.28353694e+000 -7.64983465e-001  3.31678699e-001]\n",
      " [ 0.00000000e+000  7.59672552e-197  1.00000000e+000  7.07647380e-001]\n",
      " [ 0.00000000e+000  0.00000000e+000  0.00000000e+000 -3.83184672e-001]]\n",
      "\n",
      "\n",
      "Iteración: 2000\n",
      "(matriz actualizada):\n",
      "[[ 6.09964773e+000  1.52542362e-001  6.41103498e-001  1.17035971e+000]\n",
      " [ 0.00000000e+000  1.28353694e+000 -7.64983465e-001  3.31678699e-001]\n",
      " [ 0.00000000e+000  1.58107285e-218  1.00000000e+000  7.07647380e-001]\n",
      " [ 0.00000000e+000  0.00000000e+000  0.00000000e+000 -3.83184672e-001]]\n",
      "\n",
      "\n",
      "Iteración: 2200\n",
      "(matriz actualizada):\n",
      "[[ 6.09964773e+000  1.52542362e-001  6.41103498e-001  1.17035971e+000]\n",
      " [ 0.00000000e+000  1.28353694e+000 -7.64983465e-001  3.31678699e-001]\n",
      " [ 0.00000000e+000  3.29061692e-240  1.00000000e+000  7.07647380e-001]\n",
      " [ 0.00000000e+000  0.00000000e+000  0.00000000e+000 -3.83184672e-001]]\n",
      "\n",
      "\n",
      "Iteración: 2400\n",
      "(matriz actualizada):\n",
      "[[ 6.09964773e+000  1.52542362e-001  6.41103498e-001  1.17035971e+000]\n",
      " [ 0.00000000e+000  1.28353694e+000 -7.64983465e-001  3.31678699e-001]\n",
      " [ 0.00000000e+000  6.84861531e-262  1.00000000e+000  7.07647380e-001]\n",
      " [ 0.00000000e+000  0.00000000e+000  0.00000000e+000 -3.83184672e-001]]\n",
      "\n",
      "\n",
      "Iteración: 2600\n",
      "(matriz actualizada):\n",
      "[[ 6.09964773e+000  1.52542362e-001  6.41103498e-001  1.17035971e+000]\n",
      " [ 0.00000000e+000  1.28353694e+000 -7.64983465e-001  3.31678699e-001]\n",
      " [ 0.00000000e+000  1.42537198e-283  1.00000000e+000  7.07647380e-001]\n",
      " [ 0.00000000e+000  0.00000000e+000  0.00000000e+000 -3.83184672e-001]]\n",
      "\n",
      "\n",
      "Iteración: 2800\n",
      "(matriz actualizada):\n",
      "[[ 6.09964773e+000  1.52542362e-001  6.41103498e-001  1.17035971e+000]\n",
      " [ 0.00000000e+000  1.28353694e+000 -7.64983465e-001  3.31678699e-001]\n",
      " [ 0.00000000e+000  2.96656360e-305  1.00000000e+000  7.07647380e-001]\n",
      " [ 0.00000000e+000  0.00000000e+000  0.00000000e+000 -3.83184672e-001]]\n",
      "\n",
      "\n",
      "Iteración: 3000\n",
      "(matriz actualizada):\n",
      "[[ 6.09964773e+000  1.52542362e-001  6.41103498e-001  1.17035971e+000]\n",
      " [ 0.00000000e+000  1.28353694e+000 -7.64983465e-001  3.31678699e-001]\n",
      " [ 0.00000000e+000  9.88131292e-324  1.00000000e+000  7.07647380e-001]\n",
      " [ 0.00000000e+000  0.00000000e+000  0.00000000e+000 -3.83184672e-001]]\n",
      "\n",
      "\n"
     ]
    },
    {
     "data": {
      "text/plain": [
       "array([[ 0.31147039,  0.41960533,  0.02253298,  0.8522968 ],\n",
       "       [ 0.51244186, -0.05145287, -0.84573836, -0.13957997],\n",
       "       [ 0.36253406,  0.74044997,  0.25776971, -0.50384291],\n",
       "       [ 0.71341334, -0.52251106,  0.46666227, -0.01580904]])"
      ]
     },
     "execution_count": 302,
     "metadata": {},
     "output_type": "execute_result"
    }
   ],
   "source": [
    "Gk, QQ_g = pure_qr(G)\n",
    "QQ_g"
   ]
  },
  {
   "cell_type": "code",
   "execution_count": 303,
   "metadata": {},
   "outputs": [
    {
     "name": "stdout",
     "output_type": "stream",
     "text": [
      "Eigenvalores:\n",
      "[ 6.09964773 -0.38318467  1.          1.28353694]\n",
      "\n",
      "Eigenvectores:\n",
      "[[ 0.31147039  0.51356051  0.37796447 -0.40953464]\n",
      " [ 0.51244186  0.2099646  -0.37796447  0.06764969]\n",
      " [ 0.36253406 -0.82668232  0.75592895 -0.72860193]\n",
      " [ 0.71341334 -0.0936313  -0.37796447  0.54483403]]\n"
     ]
    }
   ],
   "source": [
    "#COMPARACION CON NUMPY\n",
    "eigenvalores, eigenvectores = np.linalg.eig(G)\n",
    "\n",
    "# Mostrar los resultados\n",
    "print(\"Eigenvalores:\")\n",
    "print(eigenvalores)\n",
    "print(\"\\nEigenvectores:\")\n",
    "print(eigenvectores) "
   ]
  },
  {
   "cell_type": "code",
   "execution_count": 304,
   "metadata": {},
   "outputs": [
    {
     "name": "stdout",
     "output_type": "stream",
     "text": [
      "Iteración: 0\n",
      "(matriz actualizada):\n",
      "[[ 6.4         0.8        -1.46558698 -0.34783765]\n",
      " [ 1.8        -0.4         0.20936957  0.75817737]\n",
      " [-1.83198373  0.26171196 -0.06849315 -1.09168807]\n",
      " [-0.42936209  0.21468105 -0.16855379 -0.34420116]]\n",
      "\n",
      "\n",
      "Iteración: 200\n",
      "(matriz actualizada):\n",
      "[[ 7.17748574e+000 -3.94520684e+000  2.34347439e+000 -4.08075588e+000]\n",
      " [ 4.55895088e-090 -2.55815017e+000  9.85243001e-002 -9.08555088e-001]\n",
      " [ 0.00000000e+000  2.91888089e-304 -3.16007520e-003 -2.84626655e-001]\n",
      " [ 0.00000000e+000 -2.28532507e-305  1.94828330e-002 -6.52473972e-002]]\n",
      "\n",
      "\n",
      "Iteración: 400\n",
      "(matriz actualizada):\n",
      "[[ 7.17748574e+000 -3.94520684e+000  3.58030781e+000 -3.05382330e+000]\n",
      " [ 1.12099696e-179 -2.55815017e+000  3.98594302e-001 -8.22375807e-001]\n",
      " [ 0.00000000e+000  0.00000000e+000  7.38449740e-002 -2.34907002e-001]\n",
      " [ 0.00000000e+000  0.00000000e+000  6.92024858e-002 -1.42252446e-001]]\n",
      "\n",
      "\n",
      "Iteración: 600\n",
      "(matriz actualizada):\n",
      "[[ 7.17748574e+000 -3.94520684e+000  1.79707717e+000  4.34913260e+000]\n",
      " [ 2.75641088e-269 -2.55815017e+000  6.58821612e-001  6.33350984e-001]\n",
      " [ 0.00000000e+000  0.00000000e+000 -1.70317768e-001 -1.48591973e-001]\n",
      " [ 0.00000000e+000  0.00000000e+000  1.55517515e-001  1.01910296e-001]]\n",
      "\n",
      "\n",
      "Iteración: 800\n",
      "(matriz actualizada):\n",
      "[[ 7.17748574 -3.94520684 -1.02676583  4.59240598]\n",
      " [ 0.         -2.55815017  0.17556315  0.8968595 ]\n",
      " [ 0.          0.         -0.08377486 -0.27886848]\n",
      " [ 0.          0.          0.02524101  0.01536739]]\n",
      "\n",
      "\n",
      "Iteración: 1000\n",
      "(matriz actualizada):\n",
      "[[ 7.17748574 -3.94520684 -1.85260824  4.3257697 ]\n",
      " [ 0.         -2.55815017  0.00788776  0.91384745]\n",
      " [ 0.          0.         -0.03465023 -0.28821208]\n",
      " [ 0.          0.          0.0158974  -0.03375725]]\n",
      "\n",
      "\n",
      "Iteración: 1200\n",
      "(matriz actualizada):\n",
      "[[ 7.17748574 -3.94520684 -2.60810533  3.91691554]\n",
      " [ 0.         -2.55815017 -0.15836849  0.90005489]\n",
      " [ 0.          0.          0.01405751 -0.27937274]\n",
      " [ 0.          0.          0.02473675 -0.08246498]]\n",
      "\n",
      "\n",
      "Iteración: 1400\n",
      "(matriz actualizada):\n",
      "[[ 7.17748574 -3.94520684 -4.33870737  1.82210295]\n",
      " [ 0.         -2.55815017 -0.62954496  0.66245945]\n",
      " [ 0.          0.          0.10186136 -0.15708558]\n",
      " [ 0.          0.          0.14702391 -0.17026884]]\n",
      "\n",
      "\n",
      "Iteración: 1600\n",
      "(matriz actualizada):\n",
      "[[ 7.17748574 -3.94520684 -0.31333785 -4.69534452]\n",
      " [ 0.         -2.55815017 -0.42193469 -0.8106482 ]\n",
      " [ 0.          0.         -0.1446254  -0.23171702]\n",
      " [ 0.          0.          0.07239247  0.07621792]]\n",
      "\n",
      "\n",
      "Iteración: 1800\n",
      "(matriz actualizada):\n",
      "[[ 7.17748574e+00 -3.94520684e+00  1.33310605e+00 -4.51301108e+00]\n",
      " [ 0.00000000e+00 -2.55815017e+00 -1.14886988e-01 -9.06631328e-01]\n",
      " [ 0.00000000e+00  0.00000000e+00 -6.63188914e-02 -2.84371172e-01]\n",
      " [ 0.00000000e+00  0.00000000e+00  1.97383154e-02 -2.08858094e-03]]\n",
      "\n",
      "\n",
      "Iteración: 2000\n",
      "(matriz actualizada):\n",
      "[[ 7.17748574 -3.94520684  2.06137544 -4.23026855]\n",
      " [ 0.         -2.55815017  0.03669082 -0.91314466]\n",
      " [ 0.          0.         -0.02138287 -0.28760785]\n",
      " [ 0.          0.          0.01650163 -0.04702461]]\n",
      "\n",
      "\n",
      "Iteración: 2200\n",
      "(matriz actualizada):\n",
      "[[ 7.17748574 -3.94520684  2.94632914 -3.66927586]\n",
      " [ 0.         -2.55815017  0.23783728 -0.8823904 ]\n",
      " [ 0.          0.          0.03586361 -0.26880057]\n",
      " [ 0.          0.          0.03530892 -0.10427108]]\n",
      "\n",
      "\n",
      "Iteración: 2400\n",
      "(matriz actualizada):\n",
      "[[ 7.17748574e+00 -3.94520684e+00  4.54352679e+00  1.22507350e+00]\n",
      " [ 0.00000000e+00 -2.55815017e+00  9.03632839e-01 -1.36481053e-01]\n",
      " [ 0.00000000e+00  0.00000000e+00  4.18561891e-03 -2.14206065e-02]\n",
      " [ 0.00000000e+00  0.00000000e+00  2.82688881e-01 -7.25930913e-02]]\n",
      "\n",
      "\n",
      "Iteración: 2600\n",
      "(matriz actualizada):\n",
      "[[ 7.17748574 -3.94520684 -0.46075494  4.68317688]\n",
      " [ 0.         -2.55815017  0.28331008  0.86885832]\n",
      " [ 0.          0.         -0.11291898 -0.26315348]\n",
      " [ 0.          0.          0.040956    0.04451151]]\n",
      "\n",
      "\n",
      "Iteración: 2800\n",
      "(matriz actualizada):\n",
      "[[ 7.17748574 -3.94520684 -1.58004917  4.43259353]\n",
      " [ 0.         -2.55815017  0.06469508  0.91158869]\n",
      " [ 0.          0.         -0.0515464  -0.28710382]\n",
      " [ 0.          0.          0.01700567 -0.01686107]]\n",
      "\n",
      "\n",
      "Iteración: 3000\n",
      "(matriz actualizada):\n",
      "[[ 7.17748574e+00 -3.94520684e+00 -2.28171205e+00  4.11560821e+00]\n",
      " [ 0.00000000e+00 -2.55815017e+00 -8.48213569e-02  9.09936659e-01]\n",
      " [ 0.00000000e+00  0.00000000e+00 -7.16938924e-03 -2.85501979e-01]\n",
      " [ 0.00000000e+00  0.00000000e+00  1.86075089e-02 -6.12380831e-02]]\n",
      "\n",
      "\n"
     ]
    },
    {
     "data": {
      "text/plain": [
       "array([[ 0.61021998,  1.16487778, -0.15494665, -0.26550973],\n",
       "       [ 0.50402139, -0.87309744, -0.15945656,  0.46214147],\n",
       "       [ 0.59138409,  0.85225356, -0.17336813, -0.07571004],\n",
       "       [ 0.4851855 , -1.18572166, -0.17787804,  0.65194115]])"
      ]
     },
     "execution_count": 304,
     "metadata": {},
     "output_type": "execute_result"
    }
   ],
   "source": [
    "Hk, QQ_h = pure_qr(H)\n",
    "QQ_h"
   ]
  },
  {
   "cell_type": "code",
   "execution_count": 285,
   "metadata": {},
   "outputs": [
    {
     "name": "stdout",
     "output_type": "stream",
     "text": [
      "Eigenvalores:\n",
      "[ 6.85410197e+00 -3.41870405e-08  3.41870454e-08  1.45898034e-01]\n",
      "\n",
      "Eigenvectores:\n",
      "[[ 3.75338235e-01 -2.41738883e-08  2.41738915e-08 -9.17077354e-02]\n",
      " [ 4.30099346e-01  7.07106781e-01  7.07106781e-01 -7.20281905e-01]\n",
      " [ 5.52548911e-01 -7.07106781e-01 -7.07106781e-01  6.85252667e-01]\n",
      " [ 6.07310022e-01  1.20869437e-08 -1.20869462e-08  5.66784975e-02]]\n"
     ]
    }
   ],
   "source": [
    "#COMPARACION CON NUMPY\n",
    "eigenvalores, eigenvectores = np.linalg.eig(H)\n",
    "\n",
    "# Mostrar los resultados\n",
    "print(\"Eigenvalores:\")\n",
    "print(eigenvalores)\n",
    "print(\"\\nEigenvectores:\")\n",
    "print(eigenvectores) "
   ]
  },
  {
   "cell_type": "code",
   "execution_count": null,
   "metadata": {},
   "outputs": [],
   "source": []
  }
 ],
 "metadata": {
  "kernelspec": {
   "display_name": "Python 3 (ipykernel)",
   "language": "python",
   "name": "python3"
  },
  "language_info": {
   "codemirror_mode": {
    "name": "ipython",
    "version": 3
   },
   "file_extension": ".py",
   "mimetype": "text/x-python",
   "name": "python",
   "nbconvert_exporter": "python",
   "pygments_lexer": "ipython3",
   "version": "3.12.7"
  }
 },
 "nbformat": 4,
 "nbformat_minor": 4
}
