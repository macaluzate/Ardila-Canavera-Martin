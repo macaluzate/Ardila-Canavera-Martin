{
 "cells": [
  {
   "cell_type": "markdown",
   "metadata": {},
   "source": [
    "<div style=\"text-align: center;\">\n",
    "\n",
    "<img src=\"Imagenes/logo.png\" alt=\"Escudo Universidad Nacional de Colombia\" width=\"150\"/>\n",
    "\n",
    "# Tarea 1\n",
    "\n",
    "**Ardila Otero, María Paula**  \n",
    "**Cañavera Aluma, Mateo**  \n",
    "**Martin Acosta, David Esteban**  \n",
    "\n",
    "\n",
    "---\n",
    "\n",
    "**3006886: Análisis Numérico**  \n",
    "**Departamento de Matemáticas**  \n",
    "**Universidad Nacional de Colombia**\n",
    "\n",
    "---\n",
    "\n",
    "**Diciembre 6, 2024**\n",
    "\n",
    "</div>\n"
   ]
  },
  {
   "cell_type": "markdown",
   "metadata": {},
   "source": [
    "# Tabla de contenidos\n",
    "- [Método del Polinomio Característico](#1-metodo-del-polinomio-caracteristico)\n",
    "  - [Teoría](#11-teoria)\n",
    "  - [Análisis del error](#12-analisis-del-error)\n",
    "  - [Código](#13-codigo)\n",
    "  - [Testeo](#14-testeo)\n",
    "- [Método de las Potencias](#2-metodo-de-las-potencias)\n",
    "  - [Teoría](#21-teoria)\n",
    "  - [Análisis del error](#22-analisis-del-error)\n",
    "  - [Código](#23-codigo)\n",
    "  - [Testeo](#24-testeo)\n",
    "- [Método de Descomposición QR](#3-metodo-de-descomposicion-qr)\n",
    "  - [Teoría](#31-teoria)\n",
    "  - [Análisis del error](#32-analisis-del-error)\n",
    "  - [Código](#33-codigo)\n",
    "  - [Testeo](#34-testeo)\n"
   ]
  },
  {
   "cell_type": "markdown",
   "metadata": {},
   "source": [
    "# 1. Metodo del polinomio caracteristico"
   ]
  },
  {
   "cell_type": "markdown",
   "metadata": {},
   "source": [
    "## 1.1 Teoria"
   ]
  },
  {
   "cell_type": "markdown",
   "metadata": {},
   "source": [
    "## 1.2 Analisis del error"
   ]
  },
  {
   "cell_type": "markdown",
   "metadata": {},
   "source": [
    "## 1.3 Codigo"
   ]
  },
  {
   "cell_type": "markdown",
   "metadata": {},
   "source": [
    "## 1.4 Testeo"
   ]
  },
  {
   "cell_type": "markdown",
   "metadata": {},
   "source": [
    "# 2. Metodo de las potencias"
   ]
  },
  {
   "cell_type": "markdown",
   "metadata": {},
   "source": [
    "## 2.1 Teoria"
   ]
  },
  {
   "cell_type": "markdown",
   "metadata": {},
   "source": [
    "## 2.2 Analisis del error"
   ]
  },
  {
   "cell_type": "markdown",
   "metadata": {},
   "source": [
    "## 2.3 Codigo"
   ]
  },
  {
   "cell_type": "markdown",
   "metadata": {},
   "source": [
    "## 2.4 Testeo"
   ]
  },
  {
   "cell_type": "markdown",
   "metadata": {},
   "source": [
    "# 3. Metodo de descomposicion QR"
   ]
  },
  {
   "cell_type": "markdown",
   "metadata": {},
   "source": [
    "## 3.1 Teoria"
   ]
  },
  {
   "cell_type": "markdown",
   "metadata": {},
   "source": [
    "## 3.2 Analisis del error"
   ]
  },
  {
   "cell_type": "markdown",
   "metadata": {},
   "source": [
    "## 3.3 Codigo"
   ]
  },
  {
   "cell_type": "markdown",
   "metadata": {},
   "source": [
    "## 3.4 Testeo"
   ]
  }
 ],
 "metadata": {
  "kernelspec": {
   "display_name": "Python 3",
   "language": "python",
   "name": "python3"
  },
  "language_info": {
   "codemirror_mode": {
    "name": "ipython",
    "version": 3
   },
   "file_extension": ".py",
   "mimetype": "text/x-python",
   "name": "python",
   "nbconvert_exporter": "python",
   "pygments_lexer": "ipython3",
   "version": "3.13.0"
  }
 },
 "nbformat": 4,
 "nbformat_minor": 2
}
