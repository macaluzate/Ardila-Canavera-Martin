{
 "cells": [
  {
   "cell_type": "markdown",
   "metadata": {},
   "source": [
    "<div style=\"text-align: center;\">\n",
    "\n",
    "<img src=\"Imagenes/logo.png\" alt=\"Escudo Universidad Nacional de Colombia\" width=\"150\"/>\n",
    "\n",
    "# Tarea 1\n",
    "\n",
    "**Ardila Otero, María Paula**  \n",
    "**Cañavera Aluma, Mateo**  \n",
    "**Martin Acosta, David Esteban**  \n",
    "\n",
    "\n",
    "---\n",
    "\n",
    "**3006886: Análisis Numérico**  \n",
    "**Departamento de Matemáticas**  \n",
    "**Universidad Nacional de Colombia**\n",
    "\n",
    "---\n",
    "\n",
    "**Diciembre 6, 2024**\n",
    "\n",
    "</div>"
   ]
  },
  {
   "cell_type": "markdown",
   "metadata": {},
   "source": [
    "# Tabla de contenidos\n",
    "- [Método del Polinomio Característico](#1-metodo-del-polinomio-caracteristico)\n",
    "  - [Teoría](#11-teoria)\n",
    "  - [Análisis del error](#12-analisis-del-error)\n",
    "  - [Código](#13-codigo)\n",
    "  - [Testeo](#14-testeo)\n",
    "- [Método de las Potencias](#2-metodo-de-las-potencias)\n",
    "  - [Teoría](#21-teoria)\n",
    "  - [Análisis del error](#22-analisis-del-error)\n",
    "  - [Código](#23-codigo)\n",
    "  - [Testeo](#24-testeo)\n",
    "- [Método de Descomposición QR](#3-metodo-de-descomposicion-qr)\n",
    "  - [Teoría](#31-teoria)\n",
    "  - [Análisis del error](#32-analisis-del-error)\n",
    "  - [Código](#33-codigo)\n",
    "  - [Testeo](#34-testeo)\n"
   ]
  },
  {
   "cell_type": "markdown",
   "metadata": {},
   "source": [
    "# 1. Metodo del polinomio caracteristico"
   ]
  },
  {
   "cell_type": "markdown",
   "metadata": {},
   "source": [
    "## 1.1 Teoria"
   ]
  },
  {
   "cell_type": "markdown",
   "metadata": {},
   "source": [
    "## 1.2 Analisis del error"
   ]
  },
  {
   "cell_type": "markdown",
   "metadata": {},
   "source": [
    "## 1.3 Codigo"
   ]
  },
  {
   "cell_type": "markdown",
   "metadata": {},
   "source": [
    "## 1.4 Testeo"
   ]
  },
  {
   "cell_type": "markdown",
   "metadata": {},
   "source": [
    "# 2. Metodo de las potencias"
   ]
  },
  {
   "cell_type": "markdown",
   "metadata": {},
   "source": [
    "## 2.1 Teoria"
   ]
  },
  {
   "cell_type": "markdown",
   "metadata": {},
   "source": [
    "El método más simple para calcular los valores y vectores propios de una matriz es el método de las potencias. En la práctica, este método se usa para calcular algunos (no todos) valores propios extremos/dominantes (Allaire & Kaber, 2008, p. 194), es decir el mayor valor (en valor absoluto) que tiene el valor propio de la matriz. \n",
    "\n",
    "Lyche (2020, p. 335-337) explica el método de las potencias de la siguiente manera:\n",
    "\n",
    "Definimos una secuencia de vectores en $\\mathbb{C}^n$ mediante:\n",
    "$$\n",
    "z_k := A^k z_0 = A z_{k-1}, \\quad k = 1, 2, \\ldots. \\tag{15.1}\n",
    "$$\n",
    "\n",
    "Ejemplo 15.1 (Método de las Potencias):\n",
    "Sea:\n",
    "$$\n",
    "A = \\begin{bmatrix} \n",
    "2 & -1 \\\\ \n",
    "-1 & 2 \n",
    "\\end{bmatrix}, \\quad \n",
    "z_0 := \\begin{bmatrix} \n",
    "1 \\\\ \n",
    "0 \n",
    "\\end{bmatrix}.\n",
    "$$\n",
    "\n",
    "Calculamos:\n",
    "$$\n",
    "z_1 = A z_0 = \\begin{bmatrix} \n",
    "2 \\\\ \n",
    "-1 \n",
    "\\end{bmatrix}, \\quad \n",
    "z_2 = A z_1 = \\begin{bmatrix} \n",
    "5 \\\\ \n",
    "-4 \n",
    "\\end{bmatrix}, \\quad \\ldots, \\quad\n",
    "z_k = \\frac{1}{2} \\begin{bmatrix} \n",
    "1 + 3^k \\\\ \n",
    "1 - 3^k \n",
    "\\end{bmatrix}, \\ldots\n",
    "$$\n",
    "\n",
    "De esto se sigue que $2 z_k / 3^k$ converge a $[1, -1]^T$, un vector propio correspondiente al valor propio dominante $\\lambda = 3$.\n",
    "\n",
    "Para comprender mejor lo que sucede, expandimos $z_0$ en términos de los vectores propios:\n",
    "$$\n",
    "z_0 = \\frac{1}{2} \\begin{bmatrix} \n",
    "1 \\\\ \n",
    "-1 \n",
    "\\end{bmatrix} + \\frac{1}{2} \\begin{bmatrix} \n",
    "1 \\\\ \n",
    "1 \n",
    "\\end{bmatrix} = c_1 v_1 + c_2 v_2.\n",
    "$$\n",
    "\n",
    "Dado que $A^k$ tiene pares propios $(\\lambda_j^k, v_j)$, $j = 1, 2$, encontramos que:\n",
    "$$\n",
    "z_k = c_1 \\lambda_1^k v_1 + c_2 \\lambda_2^k v_2 = c_1 3^k v_1 + c_2 1^k v_2\n",
    "$$\n",
    "\n",
    "Por lo tanto:\n",
    "$$\n",
    "3^{-k} z_k = c_1 v_1 + 3^{-k} c_2 v_2 \\to c_1 v_1.\n",
    "$$\n",
    "\n",
    "Dado que $c_1 \\neq 0$, obtenemos convergencia hacia el vector propio dominante.\n",
    "\n",
    "Sea $A \\in \\mathbb{C}^{n \\times n}$ con pares propios $(\\lambda_j, v_j)$, $j = 1, \\ldots, n$, tales que $|\\lambda_1| > |\\lambda_2| \\geq \\ldots \\geq |\\lambda_n|$. Dado $z_0 \\in \\mathbb{C}^n$, asumimos que:\n",
    "\n",
    "(15.2)\n",
    "\n",
    "(i) $|\\lambda_1| > |\\lambda_2| \\geq |\\lambda_3| \\geq \\ldots \\geq |\\lambda_n|.$\n",
    "\n",
    "(ii) $z_0^T v_1 \\neq 0.$\n",
    "\n",
    "(iii) A tiene vectores propios linealmente independientes.\n",
    "\n",
    "La primera suposición significa que $A$ tiene un valor propio dominante $\\lambda_1$ de multiplicidad algebraica uno. La segunda suposición dice que $z_0$ tiene un componente en la dirección de $v_1$. La tercera suposición no es estrictamente necesaria, pero se incluye para simplificar el análisis.\n",
    "\n",
    "Para observar qué sucede, sea:\n",
    "$$\n",
    "z_0 = c_1 v_1 + c_2 v_2 + \\cdots + c_n v_n,\n",
    "$$\n",
    "donde por la suposición (ii) de $(15.2)$, tenemos $c_1 \\neq 0$. Como $A^k v_j = \\lambda_j^k v_j$ para todo $j$, vemos que:\n",
    "$$\n",
    "z_k = c_1 \\lambda_1^k v_1 + c_2 \\lambda_2^k v_2 + \\cdots + c_n \\lambda_n^k v_n, \\quad k = 0, 1, 2, \\ldots. \\tag{15.3}\n",
    "$$\n",
    "\n",
    "Dividiendo por $\\lambda_1^k$, obtenemos:\n",
    "$$\n",
    "\\frac{z_k}{\\lambda_1^k} = c_1 v_1 + c_2 \\left(\\frac{\\lambda_2}{\\lambda_1}\\right)^k v_2 + \\cdots + c_n \\left(\\frac{\\lambda_n}{\\lambda_1}\\right)^k v_n, \\quad k = 0, 1, 2, \\ldots. \\tag{15.4}\n",
    "$$\n",
    "\n",
    "La suposición (i) de $(15.2)$ implica que $(\\lambda_j / \\lambda_1)^k \\to 0$ cuando $k \\to \\infty$ para todo $j \\geq 2$, y obtenemos:\n",
    "$$\n",
    "\\lim_{k \\to \\infty} \\frac{z_k}{\\lambda_1^k} = c_1 v_1. \\tag{15.5}\n",
    "$$\n",
    "\n",
    "Ahora, Wendland (2017, p. 152)\n",
    "\n",
    "El último término es un vector propio de $A$ asociado al valor propio $\\lambda_1$. Sin embargo, esto es de uso limitado, ya que no conocemos el valor propio $\\lambda_1$ y, por lo tanto, no podemos formar el cociente $A^m x / \\lambda_1^m$. Otro problema surge del hecho de que la norma de $A^m x$ converge a cero si $|\\lambda_1| < 1$ y tiende a infinito si $|\\lambda_1| > 1$. Ambos problemas se resuelven mediante la normalización. Por ejemplo, si tomamos la norma euclidiana de $A^m x$, entonces:\n",
    "$$\n",
    "\\|A^m x\\|_2 = \\left( \\sum_{i,j=1}^n c_i c_j \\lambda_i^m \\lambda_j^m w_i^T w_j \\right)^{1/2} =: |\\lambda_1|^m \\left( |c_1| \\|w_1\\|_2 + r_m \\right), \\tag{5.13}\n",
    "$$\n",
    "donde $r_m \\to 0$ cuando $m \\to \\infty$. A partir de esto podemos concluir que:\n",
    "$$\n",
    "\\frac{\\|A^{m+1} x\\|_2}{\\|A^m x\\|_2} = \\frac{\\|A^m x\\|_2 |\\lambda_1|^{m+1}}{\\|A^m x\\|_2 |\\lambda_1|^m} \\to |\\lambda_1|, \\quad m \\to \\infty. \\tag{5.14}\n",
    "$$\n",
    "\n",
    "Esto nos proporciona $\\lambda_1$ hasta su signo. Para determinar también su signo y un vector propio correspondiente, refinamos el método como sigue.\n",
    "\n",
    "\n",
    "\n",
    "\n"
   ]
  },
  {
   "cell_type": "markdown",
   "metadata": {},
   "source": [
    "## 2.2 Analisis del error"
   ]
  },
  {
   "cell_type": "markdown",
   "metadata": {},
   "source": [
    "## 2.3 Codigo"
   ]
  },
  {
   "cell_type": "markdown",
   "metadata": {},
   "source": [
    "## 2.4 Testeo"
   ]
  },
  {
   "cell_type": "markdown",
   "metadata": {},
   "source": [
    "# 3. Metodo de descomposicion QR"
   ]
  },
  {
   "cell_type": "markdown",
   "metadata": {},
   "source": [
    "## 3.1 Teoria"
   ]
  },
  {
   "cell_type": "markdown",
   "metadata": {},
   "source": [
    "## 3.2 Analisis del error"
   ]
  },
  {
   "cell_type": "markdown",
   "metadata": {},
   "source": [
    "## 3.3 Codigo"
   ]
  },
  {
   "cell_type": "markdown",
   "metadata": {},
   "source": [
    "## 3.4 Testeo"
   ]
  }
 ],
 "metadata": {
  "kernelspec": {
   "display_name": "Python 3",
   "language": "python",
   "name": "python3"
  },
  "language_info": {
   "codemirror_mode": {
    "name": "ipython",
    "version": 3
   },
   "file_extension": ".py",
   "mimetype": "text/x-python",
   "name": "python",
   "nbconvert_exporter": "python",
   "pygments_lexer": "ipython3",
   "version": "3.13.0"
  }
 },
 "nbformat": 4,
 "nbformat_minor": 2
}
