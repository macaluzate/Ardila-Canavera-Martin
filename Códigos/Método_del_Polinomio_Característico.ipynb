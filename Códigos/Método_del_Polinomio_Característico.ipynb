{
  "nbformat": 4,
  "nbformat_minor": 0,
  "metadata": {
    "colab": {
      "provenance": []
    },
    "kernelspec": {
      "name": "python3",
      "display_name": "Python 3"
    },
    "language_info": {
      "name": "python"
    }
  },
  "cells": [
    {
      "cell_type": "markdown",
      "source": [
        "# **Método del polinomio característico**"
      ],
      "metadata": {
        "id": "oQHGbfjvEfi-"
      }
    },
    {
      "cell_type": "markdown",
      "source": [
        "## **Código y análisis matemático computacional de cada función utilizada**"
      ],
      "metadata": {
        "id": "9i7IgYgqkmV3"
      }
    },
    {
      "cell_type": "markdown",
      "source": [
        "**Importaciones**"
      ],
      "metadata": {
        "id": "av8zFJMHEl7W"
      }
    },
    {
      "cell_type": "code",
      "source": [
        "import numpy as np\n",
        "import sympy as sp"
      ],
      "metadata": {
        "id": "jTvnUiV3EoTT"
      },
      "execution_count": 2,
      "outputs": []
    },
    {
      "cell_type": "markdown",
      "source": [
        "**-------------------------------------------------------------------------------------------------------------------------------------------------------------------**"
      ],
      "metadata": {
        "id": "WT77JaTBTSlX"
      }
    },
    {
      "cell_type": "markdown",
      "source": [
        "**Calcular el polinomio característico**"
      ],
      "metadata": {
        "id": "odg-xwfWFd02"
      }
    },
    {
      "cell_type": "markdown",
      "source": [
        "**-------------------------------------------------------------------------------------------------------------------------------------------------------------------**"
      ],
      "metadata": {
        "id": "18eq9NlVZrtx"
      }
    },
    {
      "cell_type": "markdown",
      "source": [
        "<div align=\"justify\">\n",
        "\n",
        "**Fundamentación matemática**\n",
        "\n",
        "1. Construcción de $λ$$I$:\n",
        "\n",
        "   - Se construye la matriz identidad $I$ de tamaño $n$$x$$n$ y se escala por $λ$.\n",
        "   - Esto genera $λ$$I$, esto genera una matriz diagonal donde los valores diagonales son $λ$\n",
        "\n",
        "2. Construcción de $A$-$λ$$I$:\n",
        "\n",
        "   - Se resta $λ$$I$ de la matriz $A$, obteniendo $A$-$λ$$I$\n",
        "  \n",
        " 3. Cálculo del determinante:\n",
        "\n",
        "   - El polinomio característico es el determinante de $A$-$λ$$I$:\n",
        "\n",
        "$$p(λ) = det(A-λI)$$\n",
        "\n",
        "\n",
        "</div>"
      ],
      "metadata": {
        "id": "V5hQwz1LHm8X"
      }
    },
    {
      "cell_type": "markdown",
      "source": [
        "**-------------------------------------------------------------------------------------------------------------------------------------------------------------------**"
      ],
      "metadata": {
        "id": "RevcPrlhTgID"
      }
    },
    {
      "cell_type": "markdown",
      "source": [
        "<div align=\"justify\">\n",
        "\n",
        "**Complejidad Computacional**\n",
        "\n",
        "1. **Construcción de matrices**\n",
        "\n",
        "$$( \\lambda I - A)$$\n",
        "\n",
        "- La matriz $(λ I - A)$ se obtiene restando la matriz original $A$ de una matriz identidad $I$ escalada por el valor simbólico $\\lambda$.\n",
        "\n",
        "Pasos necesarios:\n",
        "1. Crear la matriz identidad $I$, que tiene 1 en la diagonal y 0 en las demás entradas. Esto requiere recorrer todas las posiciones de una matriz $( n \\times n)$.\n",
        "2. Multiplicar $\\lambda$ por $I$, lo que involucra $n$ operaciones para escalar las $n$ entradas de la diagonal.\n",
        "3. Restar $A$ de $\\lambda I$, lo que requiere recorrer todas las entradas $( n^2)$ operaciones.\n",
        "\n",
        "**Complejidad total**:\n",
        "$$O(n^2)$$\n",
        "  - La complejidad depende del número de entradas de la matriz $( n \\times n)$, ya que cada entrada debe calcularse.\n",
        "\n",
        "\n",
        "2. **Determinante simbólico**\n",
        "\n",
        "El cálculo del determinante simbólico de la matriz resultante $(λ I - A)$  es uno de los pasos más costosos en este proceso\n",
        "\n",
        "\n",
        "SymPy utiliza algoritmos más avanzados para calcular el determinante simbólico, como métodos de descomposición LU o de eliminación Gaussiana adaptados a cálculos simbólicos.\n",
        "\n",
        "- Estos métodos tienen una complejidad aproximada de $O(n^3)$, ya que descomponen la matriz en una forma triangular que simplifica el cálculo del determinante.\n",
        "\n",
        "**Descomposición LU**:\n",
        "1. Divide la matriz en dos matrices triangulares (una triangular superior y otra inferior).\n",
        "2. El determinante se calcula multiplicando los elementos diagonales de estas matrices.\n",
        "\n",
        "**Eliminación Gaussiana**\n",
        "1. Transforma la matriz en una forma escalonada (triangular superior).\n",
        "2. El determinante se calcula multiplicando los elementos de la diagonal de la matriz escalonada.\n",
        "\n",
        "**Complejidad**:\n",
        "-  $O(n^3)$: Esto se debe a que ambos métodos implican $n^3$ operaciones para matrices de $n \\times n$.\n",
        "\n",
        "\n",
        "</div>"
      ],
      "metadata": {
        "id": "IvPzWCWqOELM"
      }
    },
    {
      "cell_type": "markdown",
      "source": [
        "**-------------------------------------------------------------------------------------------------------------------------------------------------------------------**"
      ],
      "metadata": {
        "id": "yjFNmtG-Thpv"
      }
    },
    {
      "cell_type": "code",
      "source": [
        "\n",
        "def calculate_characteristic_polynomial_manual(matrix):\n",
        "    \"\"\"\n",
        "    Calcula el polinomio característico de una matriz sin usar funciones de alto nivel.\n",
        "    \"\"\"\n",
        "    # Dimensión de la matriz\n",
        "    n = len(matrix)\n",
        "\n",
        "    # Crear el símbolo lambda\n",
        "    lambd = sp.symbols('λ')\n",
        "\n",
        "    # Construir la matriz (A - λI)\n",
        "    identity_matrix = [[1 if i == j else 0 for j in range(n)] for i in range(n)]\n",
        "    lambda_matrix = [[lambd * identity_matrix[i][j] for j in range(n)] for i in range(n)]\n",
        "    char_matrix = [[matrix[i][j] - lambda_matrix[i][j] for j in range(n)] for i in range(n)]\n",
        "\n",
        "    # Calcular el determinante simbólicamente\n",
        "    determinant = sp.Matrix(char_matrix).det()\n",
        "    return determinant\n"
      ],
      "metadata": {
        "id": "AACPmvsgFnik"
      },
      "execution_count": 4,
      "outputs": []
    },
    {
      "cell_type": "markdown",
      "source": [
        "**-------------------------------------------------------------------------------------------------------------------------------------------------------------------**"
      ],
      "metadata": {
        "id": "TxZSXyCDTi1r"
      }
    },
    {
      "cell_type": "markdown",
      "source": [
        "**Calcular valores propios**"
      ],
      "metadata": {
        "id": "5Sdt7JOhFzZ6"
      }
    },
    {
      "cell_type": "markdown",
      "source": [
        "**-------------------------------------------------------------------------------------------------------------------------------------------------------------------**"
      ],
      "metadata": {
        "id": "FqmJ314XZusU"
      }
    },
    {
      "cell_type": "markdown",
      "source": [
        "<div align=\"justify\">\n",
        "\n",
        "**Fundamentación matemática y Complejidad Computacional**\n",
        "\n",
        "1. Definición de valores propios:\n",
        "\n",
        "- Los valores propios son la solución de:\n",
        "\n",
        "$$p(λ) = 0$$\n",
        "\n",
        "2. Resolución del polinomio:\n",
        "\n",
        "- Usamos el método algebraico de SymPy para encontrar las raíces exactas del polinomio.\n",
        "\n",
        "- Resolución Exacta para Polinomios de Grado $n \\leq 4$\n",
        "\n",
        "Para polinomios de grado $n \\leq 4$, **`sp.solvers.solve`** utiliza soluciones cerradas basadas en fórmulas algebraicas clásicas:\n",
        "\n",
        "**Polinomios Lineales $(n = 1)$**:\n",
        "   - Resolución directa de la forma:\n",
        "     \n",
        "     $$ax + b = 0 \\implies x = -\\frac{b}{a}$$\n",
        "   - **Complejidad**: $O(1)$.\n",
        "\n",
        "**Polinomios Cuadráticos $( n = 2)$**:\n",
        "\n",
        "   - Se utiliza la fórmula cuadrática:\n",
        "     \n",
        "     $$x = \\frac{-b \\pm \\sqrt{b^2 - 4ac}}{2a}$$\n",
        "     \n",
        "   - **Complejidad**: $O(1)$.\n",
        "\n",
        "**Polinomios Cúbicos $( n = 3)$**:\n",
        "\n",
        "- Usa la fórmula de Cardano, que implica expresiones más complejas que involucran raíces cúbicas:\n",
        "  \n",
        "  $$x = \\sqrt[3]{-q + \\sqrt{q^2 + p^3}} + \\sqrt[3]{-q - \\sqrt{q^2 + p^3}}$$\n",
        "  Donde \\( p, q \\) son funciones de los coeficientes del polinomio.\n",
        "\n",
        "**Polinomios Cuárticos $( n = 4)$**:\n",
        "\n",
        "- Utiliza la fórmula de Ferrari, que descompone el polinomio en términos de dos ecuaciones cuadráticas auxiliares.\n",
        "\n",
        "\n",
        "**Métodos Numéricos para $(n > 4)$**:\n",
        "\n",
        "Para polinomios de grado mayor a 4, **`sp.solvers.solve`** recurre a métodos numéricos o aproximaciones. Los más comunes incluyen:\n",
        "\n",
        "1. Método de Newton-Raphson:\n",
        "- Aproxima iterativamente las raíces utilizando:\n",
        "  \n",
        "  $$x_{n+1} = x_n - \\frac{f(x_n)}{f'(x_n)}$$\n",
        "\n",
        "- Requiere un buen punto inicial $x_0$.\n",
        "\n",
        "- **Complejidad**: Depende del número de iteraciones y el grado del polinomio, típicamente $O(n \\cdot k)$, donde $k$ es el número de iteraciones necesarias.\n",
        "\n",
        "2. Método de Durand-Kerner (para todas las raíces simultáneamente):\n",
        "\n",
        "- Aproxima las raíces de forma iterativa usando un conjunto inicial de conjeturas. Se basa en resolver todas las raíces simultáneamente:\n",
        "  \n",
        "  $$x_i^{(k+1)} = x_i^{(k)} - \\frac{P(x_i^{(k)})}{\\prod_{j \\neq i} (x_i^{(k)} - x_j^{(k)})}$$\n",
        "\n",
        "- Este método es útil para polinomios de grado alto.\n",
        "\n",
        "- **Complejidad**: Aproximadamente $O(n^2 \\cdot k)$, donde $n$ es el grado del polinomio y $k$ es el número de iteraciones.\n",
        "\n",
        "**Elección de Método por SymPy**\n",
        "\n",
        "SymPy utiliza un flujo de trabajo híbrido:\n",
        "1. Intenta resolver analíticamente si $n \\leq 4$.\n",
        "2. Para $n > 4$, selecciona un método numérico apropiado (usualmente Newton-Raphson o Durand-Kerner, dependiendo de la estructura del polinomio).\n",
        "\n",
        "\n",
        "</div>"
      ],
      "metadata": {
        "id": "0Yg8V5eGS88j"
      }
    },
    {
      "cell_type": "markdown",
      "source": [
        "**-------------------------------------------------------------------------------------------------------------------------------------------------------------------**"
      ],
      "metadata": {
        "id": "h0AU_FRNTkIo"
      }
    },
    {
      "cell_type": "code",
      "source": [
        "\n",
        "def find_roots_manual(polynomial):\n",
        "    \"\"\"\n",
        "    Encuentra las raíces reales de un polinomio manualmente.\n",
        "    \"\"\"\n",
        "    lambd = sp.symbols('λ')\n",
        "    # Usar SymPy para resolver el polinomio\n",
        "    roots = sp.solvers.solve(polynomial, lambd)\n",
        "    return roots\n"
      ],
      "metadata": {
        "id": "D8LJiHbnF5tA"
      },
      "execution_count": 5,
      "outputs": []
    },
    {
      "cell_type": "code",
      "source": [
        "\n",
        "def find_roots_manual(polynomial):\n",
        "    \"\"\"\n",
        "    Encuentra las raíces reales o complejas de un polinomio y las convierte al formato adecuado.\n",
        "    \"\"\"\n",
        "    lambd = sp.symbols('λ')\n",
        "    # Usar SymPy para resolver el polinomio\n",
        "    roots = sp.solvers.solve(polynomial, lambd)\n",
        "\n",
        "    # Convertir raíces al tipo adecuado (float o complex)\n",
        "    roots_numeric = []\n",
        "    for root in roots:\n",
        "        if sp.im(root) != 0:  # Si tiene parte imaginaria no nula, es complejo\n",
        "            roots_numeric.append(complex(root.evalf()))\n",
        "        else:  # Si no, es un número real\n",
        "            roots_numeric.append(float(root.evalf()))\n",
        "\n",
        "    return roots_numeric\n"
      ],
      "metadata": {
        "id": "1GrkKnKugIM7"
      },
      "execution_count": 6,
      "outputs": []
    },
    {
      "cell_type": "markdown",
      "source": [
        "**-------------------------------------------------------------------------------------------------------------------------------------------------------------------**"
      ],
      "metadata": {
        "id": "F1VoYF1XZycw"
      }
    },
    {
      "cell_type": "markdown",
      "source": [
        "**Calcular vectores propios**"
      ],
      "metadata": {
        "id": "RmAjLPjlGC9u"
      }
    },
    {
      "cell_type": "markdown",
      "source": [
        "<div align=\"justify\">\n",
        "\n",
        "**Fundamentación matemática**\n",
        "\n",
        "Utilizamos el método algebraico de SymPy que se lleva a cabo del siguiente modo:\n",
        "\n",
        "1. Construcción de $A - \\lambda I$:\n",
        "\n",
        " Para encontrar los vectores propios asociados a un valor propio $\\lambda$, necesitamos trabajar con la matriz modificada $A - \\lambda I$, donde:\n",
        "  - $A$ es la matriz original.\n",
        "  - $\\lambda$ es un valor propio (previamente calculado).\n",
        "  - $I$ es la matriz identidad del mismo tamaño que $A$.\n",
        "\n",
        "**Interpretación**:\n",
        "- El término $A - \\lambda I$ desplaza los valores propios de $A$ a cero. Esto crea una matriz cuyas filas y columnas están linealmente dependientes, lo que nos permite resolver sistemas homogéneos (es decir, sistemas sin solución única).\n",
        "\n",
        "**Forma explícita**:\n",
        "\n",
        "Si $$A = \\begin{bmatrix} a & b \\\\ c & d \\end{bmatrix}$$ y $\\lambda$ es un valor propio, entonces:\n",
        "\n",
        "$$A - \\lambda I = \\begin{bmatrix} a - \\lambda & b \\\\ c & d - \\lambda \\end{bmatrix}$$\n",
        "\n",
        "**Importancia**:\n",
        "Esta matriz $A - \\lambda I$ es clave porque nos permite buscar soluciones no triviales para el sistema:\n",
        "\n",
        "$$(A - \\lambda I)v = 0$$\n",
        "\n",
        "\n",
        "2. Espacio Nulo:\n",
        "\n",
        "- Para calcular los vectores propios, resolvemos el sistema de ecuaciones lineales homogéneo:\n",
        "  \n",
        "  $$(A - \\lambda I)v = 0$$\n",
        "  donde $v$  es un vector (el vector propio) asociado a $\\lambda$.\n",
        "\n",
        "**Espacio Nulo**:\n",
        "- El **espacio nulo** de una matriz $A - \\lambda I$ está compuesto por todos los vectores $v$ que satisfacen la ecuación anterior.\n",
        "\n",
        "- Matemáticamente, el espacio nulo es el conjunto:\n",
        "  \n",
        "  $$\\text{Nul}(A - \\lambda I) = \\{ v \\in \\mathbb{R}^n \\mid (A - \\lambda I)v = 0 \\}$$\n",
        "\n",
        "3. Normalización del vector:\n",
        "\n",
        "- Los vectores propios no son únicos, ya que cualquier múltiplo escalar de un vector propio también es un vector propio. Para evitar esta ambigüedad, normalizamos los vectores.\n",
        "\n",
        "**Método de normalización**:\n",
        "  - Elegimos una convención para definir un único representante del conjunto de vectores propios. En este caso:\n",
        "  - Normalizamos el vector dividiendo cada componente por el **primer elemento no nulo** (de la solución obtenida).\n",
        "  - Esto garantiza que el primer componente sea igual a 1.\n",
        "</div>"
      ],
      "metadata": {
        "id": "MDXiwWSja0bn"
      }
    },
    {
      "cell_type": "markdown",
      "source": [
        "**-------------------------------------------------------------------------------------------------------------------------------------------------------------------**"
      ],
      "metadata": {
        "id": "Z5XJKJ51ZzJ5"
      }
    },
    {
      "cell_type": "markdown",
      "source": [
        "<div align=\"justify\">\n",
        "\n",
        "**Complejidad Computacional**\n",
        "\n",
        "\n",
        "1. Construcción de $A - \\lambda I$: Complejidad $O(n^2)$\n",
        "\n",
        "- La matriz $A - \\lambda I$ se construye restando el producto $\\lambda I$ de la matriz identidad $I$ a la matriz $A$.\n",
        "- Esto implica calcular cada elemento de la matriz resultante:\n",
        "  \n",
        "  $$(A - \\lambda I)_{ij} = A_{ij} - \\lambda \\cdot I_{ij},$$\n",
        "\n",
        "  donde $I_{ij}$ es igual a 1 si $i = j$ (diagonal principal) y 0 en otro caso.\n",
        "\n",
        "Cálculo de complejidad:\n",
        "\n",
        "1. La matriz $A$ tiene $n^2$  elementos en una matriz de tamaño $n \\times n$.\n",
        "2. La operación $A_{ij} - \\lambda \\cdot I_{ij}$ es una resta escalar que se realiza para cada elemento.\n",
        "3. Por lo tanto, hay $n^2$ operaciones aritméticas para construir $A - \\lambda I$.\n",
        "\n",
        "- **Complejidad total**: $O(n^2)$, ya que la operación afecta todos los elementos de la matriz.\n",
        "\n",
        "2. Cálculo del espacio nulo: Complejidad $O(n^3)$ usando eliminación de Gauss:\n",
        "\n",
        "- Para calcular el vector propio asociado a un valor propio $\\lambda, resolvemos el sistema homogéneo:\n",
        "  \n",
        "  $$(A - \\lambda I)v = 0.$$\n",
        "\n",
        "- Esto se reduce a encontrar el espacio nulo de la matriz $A - \\lambda I$.\n",
        "- Una técnica común para resolver este sistema lineal es la **eliminación de Gauss**:\n",
        "\n",
        "\n",
        "1. **Reducción a forma escalonada**:\n",
        "   - La matriz $A - \\lambda I$ se transforma mediante operaciones elementales de fila (suma, intercambio, multiplicación) hasta obtener una forma escalonada.\n",
        "   - Esto implica $O(n^3)$ operaciones en el peor caso, ya que:\n",
        "     - Para la fila $i$ , realizamos $n - i$  operaciones.\n",
        "     - La suma de todas estas operaciones es $\\frac{n(n-1)}{2}$, que es $O(n^2)$.\n",
        "     - El algoritmo itera $n$ veces, lo que lleva a $O(n^3)$ en total.\n",
        "\n",
        "2. **Resolución hacia atrás**:\n",
        "   - Una vez obtenida la forma escalonada, el sistema se resuelve hacia atrás para obtener las soluciones.\n",
        "   - Esto toma $O(n^2)$, pero como el paso dominante es la reducción a forma escalonada $O(n^3)$, se ignora.\n",
        "\n",
        "Conclusión:\n",
        "- Resolver un sistema lineal para encontrar el espacio nulo tiene una **complejidad total de $O(n^3)$.\n",
        "</div>"
      ],
      "metadata": {
        "id": "mfbPqj4rfINn"
      }
    },
    {
      "cell_type": "markdown",
      "source": [
        "**-------------------------------------------------------------------------------------------------------------------------------------------------------------------**"
      ],
      "metadata": {
        "id": "nWPlgE1qfCw9"
      }
    },
    {
      "cell_type": "code",
      "source": [
        "\n",
        "def calculate_eigenvector_manual_1(matrix, eigenvalue):\n",
        "    \"\"\"\n",
        "    Calcula el vector propio asociado a un valor propio sin usar funciones avanzadas.\n",
        "    \"\"\"\n",
        "    n = len(matrix)\n",
        "\n",
        "    # Crear la matriz (A - λI)\n",
        "    eig_matrix = [[matrix[i][j] - (eigenvalue if i == j else 0) for j in range(n)] for i in range(n)]\n",
        "    eig_matrix_sympy = sp.Matrix(eig_matrix)\n",
        "\n",
        "    # Resolver el sistema homogéneo (A - λI)x = 0 para el espacio nulo\n",
        "    null_space = eig_matrix_sympy.nullspace()\n",
        "\n",
        "    if null_space:\n",
        "        eig_vector = null_space[0]  # Tomar el primer vector propio\n",
        "\n",
        "        # Normalizar para que el primer elemento sea 1\n",
        "        eig_vector = [v / eig_vector[0] for v in eig_vector]\n",
        "\n",
        "        return eig_vector\n",
        "    return None\n"
      ],
      "metadata": {
        "id": "B7AstauOLcuv"
      },
      "execution_count": 7,
      "outputs": []
    },
    {
      "cell_type": "code",
      "source": [
        "\n",
        "def calculate_eigenvector_numeric(matrix, eigenvalue):\n",
        "    \"\"\"\n",
        "    Calcula el vector propio asociado a un valor propio (real o complejo) usando métodos numéricos eficientes.\n",
        "    \"\"\"\n",
        "    n = len(matrix)\n",
        "\n",
        "    # Convertir la matriz a tipo complejo si el valor propio es complejo\n",
        "    if np.iscomplex(eigenvalue):\n",
        "        matrix = np.array(matrix, dtype=complex)\n",
        "    else:\n",
        "        matrix = np.array(matrix, dtype=float)\n",
        "\n",
        "    # Crear la matriz (A - λI)\n",
        "    eig_matrix = matrix - eigenvalue * np.eye(n, dtype=matrix.dtype)\n",
        "\n",
        "    # Resolver el sistema homogéneo usando SVD para encontrar el espacio nulo\n",
        "    u, s, vh = np.linalg.svd(eig_matrix)\n",
        "\n",
        "    # El vector propio es el vector singular correspondiente al valor singular más pequeño\n",
        "    null_space = vh.T[:, np.argmin(s)]\n",
        "\n",
        "    # Normalizar el vector propio para que el primer elemento no sea cero\n",
        "    if null_space[0] != 0:\n",
        "        null_space = null_space / null_space[0]\n",
        "\n",
        "    return null_space"
      ],
      "metadata": {
        "id": "_d3C4WWLPdzB"
      },
      "execution_count": 8,
      "outputs": []
    },
    {
      "cell_type": "markdown",
      "source": [
        "**Resultados Finales de la complejidad computacional**\n",
        "\n",
        "Al combinar los tres pasos:\n",
        "1. Calcular el polinomio característico $O(n^3)$.\n",
        "2. Encontrar los valores propios $O(n^2)$ a $O(n^3)$.\n",
        "3. Calcular los vectores propios $O(n^3)$.\n",
        "\n",
        "La **complejidad total** es aproximadamente:\n",
        "\n",
        "$$O(n^3)$$\n",
        "\n",
        "Este enfoque es eficiente para matrices pequeñas y medianas. Para matrices grandes $n > 1000$), los métodos iterativos como el método de potencias son más adecuados.\n"
      ],
      "metadata": {
        "id": "dZpFlI5_kzWC"
      }
    },
    {
      "cell_type": "markdown",
      "source": [
        "# **Testing**"
      ],
      "metadata": {
        "id": "zmc8yVOFlGiu"
      }
    },
    {
      "cell_type": "markdown",
      "source": [
        "**-------------------------------------------------------------------------------------------------------------------------------------------------------------------**"
      ],
      "metadata": {
        "id": "QVJCh4UFq-1L"
      }
    },
    {
      "cell_type": "markdown",
      "source": [
        "<center>\n",
        "\n",
        "![image.png](data:image/png;base64,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)\n",
        "\n",
        "</center>"
      ],
      "metadata": {
        "id": "moydg9r2m-E4"
      }
    },
    {
      "cell_type": "code",
      "source": [
        "\n",
        "A = np.array([[2, 1],\n",
        "              [3, 4]], dtype=float)"
      ],
      "metadata": {
        "id": "oet3bCgmmxGO"
      },
      "execution_count": 10,
      "outputs": []
    },
    {
      "cell_type": "code",
      "source": [
        "\n",
        "char_poly = calculate_characteristic_polynomial_manual(A)\n",
        "print(\"Polinomio Característico:\", char_poly)"
      ],
      "metadata": {
        "colab": {
          "base_uri": "https://localhost:8080/"
        },
        "id": "F0UGUrLynJOD",
        "outputId": "bebc4790-30c9-4c19-bf74-e2c4d8063824"
      },
      "execution_count": 11,
      "outputs": [
        {
          "output_type": "stream",
          "name": "stdout",
          "text": [
            "Polinomio Característico: λ**2 - 6.0*λ + 5.0\n"
          ]
        }
      ]
    },
    {
      "cell_type": "code",
      "source": [
        "\n",
        "eigenvalues = find_roots_manual(char_poly)\n",
        "eigenvalues"
      ],
      "metadata": {
        "colab": {
          "base_uri": "https://localhost:8080/"
        },
        "id": "zV9HS6C3nPYB",
        "outputId": "174a8809-3ee6-4589-84b3-e7ae8ce0ae75"
      },
      "execution_count": 12,
      "outputs": [
        {
          "output_type": "execute_result",
          "data": {
            "text/plain": [
              "[1.0, 5.0]"
            ]
          },
          "metadata": {},
          "execution_count": 12
        }
      ]
    },
    {
      "cell_type": "code",
      "source": [
        "\n",
        "eigenvectors = [calculate_eigenvector_manual_1(A, ev) for ev in eigenvalues]\n",
        "\n",
        "\n",
        "eigenvectors"
      ],
      "metadata": {
        "colab": {
          "base_uri": "https://localhost:8080/"
        },
        "id": "-_te0QORnT2x",
        "outputId": "67259884-fdbd-4e35-e8d0-60ce5698d6f1"
      },
      "execution_count": null,
      "outputs": [
        {
          "output_type": "execute_result",
          "data": {
            "text/plain": [
              "[[1.00000000000000, -1.00000000000000], [1.00000000000000, 3.00000000000000]]"
            ]
          },
          "metadata": {},
          "execution_count": 214
        }
      ]
    },
    {
      "cell_type": "code",
      "source": [
        "\n",
        "eigenvectors = [calculate_eigenvector_numeric(A, ev) for ev in eigenvalues]\n",
        "\n",
        "# Mostrar resultados\n",
        "for i, vec in enumerate(eigenvectors):\n",
        "    print(f\"Vector Propio {i+1}: {vec}\")"
      ],
      "metadata": {
        "colab": {
          "base_uri": "https://localhost:8080/"
        },
        "id": "gzjc0xd1R9US",
        "outputId": "d543cbd5-f989-468d-e34d-edfa59a14ef2"
      },
      "execution_count": null,
      "outputs": [
        {
          "output_type": "stream",
          "name": "stdout",
          "text": [
            "Vector Propio 1: [ 1. -1.]\n",
            "Vector Propio 2: [1. 3.]\n"
          ]
        }
      ]
    },
    {
      "cell_type": "markdown",
      "source": [
        "**-------------------------------------------------------------------------------------------------------------------------------------------------------------------**"
      ],
      "metadata": {
        "id": "9aKOS-L9rAC9"
      }
    },
    {
      "cell_type": "markdown",
      "source": [
        "<center>\n",
        "\n",
        "![image.png](data:image/png;base64,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)\n",
        "\n",
        "</center>"
      ],
      "metadata": {
        "id": "hoyyUwXTormX"
      }
    },
    {
      "cell_type": "code",
      "source": [
        "\n",
        "B = np.array([[3, 2], [3, 4]], dtype=float)"
      ],
      "metadata": {
        "id": "7J7MlQKfot4J"
      },
      "execution_count": 13,
      "outputs": []
    },
    {
      "cell_type": "code",
      "source": [
        "\n",
        "char_poly = calculate_characteristic_polynomial_manual(B)\n",
        "print(\"Polinomio Característico:\", char_poly)"
      ],
      "metadata": {
        "colab": {
          "base_uri": "https://localhost:8080/"
        },
        "id": "h7q3cYBtov2g",
        "outputId": "b1de5551-7325-47f5-f802-7aae1f3eddd6"
      },
      "execution_count": 14,
      "outputs": [
        {
          "output_type": "stream",
          "name": "stdout",
          "text": [
            "Polinomio Característico: λ**2 - 7.0*λ + 6.0\n"
          ]
        }
      ]
    },
    {
      "cell_type": "code",
      "source": [
        "\n",
        "eigenvalues = find_roots_manual(char_poly)\n",
        "eigenvalues"
      ],
      "metadata": {
        "colab": {
          "base_uri": "https://localhost:8080/"
        },
        "id": "W_ahy8XAoxUd",
        "outputId": "816ae15f-ccab-480b-c0fc-e8bdab42817f"
      },
      "execution_count": 15,
      "outputs": [
        {
          "output_type": "execute_result",
          "data": {
            "text/plain": [
              "[1.0, 6.0]"
            ]
          },
          "metadata": {},
          "execution_count": 15
        }
      ]
    },
    {
      "cell_type": "code",
      "source": [
        "\n",
        "eigenvectors = [calculate_eigenvector_manual_1(B, ev) for ev in eigenvalues]\n",
        "eigenvectors"
      ],
      "metadata": {
        "colab": {
          "base_uri": "https://localhost:8080/"
        },
        "id": "TNoUU9G9ozqO",
        "outputId": "cafa0fdc-899a-4470-acad-6fbcf2e5ea9a"
      },
      "execution_count": null,
      "outputs": [
        {
          "output_type": "execute_result",
          "data": {
            "text/plain": [
              "[[1.00000000000000, -1.00000000000000], [1.00000000000000, 1.50000000000000]]"
            ]
          },
          "metadata": {},
          "execution_count": 155
        }
      ]
    },
    {
      "cell_type": "code",
      "source": [
        "\n",
        "eigenvectors = [calculate_eigenvector_numeric(B, ev) for ev in eigenvalues]\n",
        "\n",
        "# Mostrar resultados\n",
        "for i, vec in enumerate(eigenvectors):\n",
        "    print(f\"Vector Propio {i+1}: {vec}\")"
      ],
      "metadata": {
        "colab": {
          "base_uri": "https://localhost:8080/"
        },
        "id": "pM_cRjApS2ax",
        "outputId": "bc96d5ce-7efc-49cc-82f9-ba8eb94de7ee"
      },
      "execution_count": null,
      "outputs": [
        {
          "output_type": "stream",
          "name": "stdout",
          "text": [
            "Vector Propio 1: [ 1. -1.]\n",
            "Vector Propio 2: [1.  1.5]\n"
          ]
        }
      ]
    },
    {
      "cell_type": "markdown",
      "source": [
        "**-------------------------------------------------------------------------------------------------------------------------------------------------------------------**"
      ],
      "metadata": {
        "id": "i4nkVuNkrCZF"
      }
    },
    {
      "cell_type": "markdown",
      "source": [
        "<center>\n",
        "\n",
        "![image.png](data:image/png;base64,iVBORw0KGgoAAAANSUhEUgAAAHsAAABBCAYAAADxJtu0AAAAAXNSR0IArs4c6QAAAARnQU1BAACxjwv8YQUAAAAJcEhZcwAADsMAAA7DAcdvqGQAAAoWSURBVHhe7Z0JWBNnGsf/STgVXUSLRxQEFarYqrUeHGrBC7kDrAUFWqxHrQXBY1VWpR5YDg9YaK0nKBaliq5UgZWCLHgFrNbHE7SWqmiFFS8CRJJ8G2TUCAFCuCIzv+f5yMw7A3P8M9/xvu83sIgUMNACNvXJQAMYsWkEIzaNoJfYpbFw1dOBjk6t0tUI81IqqZ3eAQQJmN5dznV06Qvff9d/HfTqoJXuwDTuIjybGwHfD9QooxSWNkwme2C8AYcyqDiiW0iPz8KfYmq9mvIziF5yBGYJD5DgrkUZa1EtNm14tJ3YaukRr8MVlKEDUbyNTNXSJZ4H6782ps2mEYzYdZCg9HwcVvi4wsnOBpaWNnD2WYLoXwrRJq26pAT82FXw91uMJQELMGemG9xmf4P9l55Iz6yZUE84PWi0GheTe4e/Js6+MeTMQ1GNRfA7ORY0nvRQ0yNjV6STYvFLc+sgKiSJC33IisQr5PGr44gekOS5JkRT25R8ceie9AzrganGm4ak5DCC93GxbusCmOvXdNbYnYxhvy4BEQ5s5Ib7Ymnyo+Y/YfUgzNmENal/QSjhoNMrZTi9YL/yK1iI8xG3NBTZQsquBIzYMjw6ngC+UICrN55TFgo2F+4zp6AbKcKRuGN4TJlbmqr793HvZjq+2/Yf/CXzjWJ37433tFkQ37+JgjLKqASM2K8Ro/juXeQfD4Hv8gMooayv0OpvhD4cgoo/bqFQRBlbGB23cCTt2omk72fBQEYZSUkRHlYQcLgmMNGhjErAiP0aDgbxvsRnjq7wnz0RepT1FeKypyirfto666ALq8bW4mgaY5LvLNgP7kIZqpHgXkoaLoi6wHzeXFhpUmYlYMSWQWPoF9iRfAhhbsZS6WUR4cbJ07gnUceQiZNg3Ia+F2HBHiwOzYXR7F3Yu2goZFxBTYYRWxHKsrD9x8tAf2+s8RvRrBuuEII8xAb5YZbrOAy1iUa3DWfB3/Z3GDXzwIzYjVIOftgyxJWOwcofI+Gs3wa3rPMo+G6Ixu7DOfgtOwTcPQ740C4YqUWy/tGmw4jdIBIUH18M350aWHjoCFaay7albUNn42lYtXc1huaFwM1uObKeUhuUgBG7AQS/bobXknx4/HQc623ea7ebxe7lBJ5VJ1Re/h7Bu25Jxw3KwYhdD6Lb8fgy4Awc9h3F6nF6b26UpLVcKmW4lBCMwKA4XKwzlu4EQwN9cEgFfj3FRwVlbSqM2HKQFKdiecAJjP8hAf4jZapucT42LY1EQfOaTvmUH8eG+esQGRqIiLTaXniCqqoq6U9ATV1dadEU+z3JcxSeS8bO0OXwm/MZPN3c4DlnCdZGxuJo3n28eLVbSRYi/hmLa63kdGgTyvKwZdlRDAnbiTlmteLCpXxcrzRGq4S91bjgcvvgI9cA+I7ToIwUkkfIv1kMCasLLGwsUU+0ulEaFltSirzYJXAaaoBBFi7wi8nAXaIPs3GTYTOSCxTlIHrGRxhitwo/5x3DP+xcELTnLO60xje/LXhRgNjPPRB16SYSA5wwderU12XKJGtYTAjCjd6DoE7t3qJomGPe1+NhPGoaRvV8W5YXV2MRf/oFdD4OwGpvrvLVMRUQqcsTPonkDSTaLBCWphHhhZ8kdyqpbbII75GsMCdiqMEiLOmf43DnkFR5+6kCDUa9ROTGxvGks/R6q2+L3MLSJdMTy6j9WwHxI3Jqoxex5fmR8PhUcjr3HEnfE0RsDXVJ/6mrSVpRTSROLgpEveSLLbxOtjn1IZxqodWMifdPd6S3oiEqycUNVqQr+10WW3WoKr5CMg7tJpHrg8ma8B/IoXN3SKNnrJzYIvJ7zBSiKxVOWsuTnp/uJw8VieFW5JBFpmqM2O2FUvFsYTa2bM7Ak+oRBqc3HLwdoZDTSGssfD4dWsunzKBK1JHxRW4y0qgeFkv9A4wZ3fnlcuOoYbD9DDhYmaE3o7hKUktsMYpyz+NPaujE7mEAg641y4qgMXopkg4sxLBWjxQwKEOtvHERclcMh2XoVemS9Fk1CcTJy5thVWvY13yEyNsagH+degqxzNEVgsWC5gB3fBPMg2FTa5CXeePL0SOhCPE8ZUerKkrJdtgaLINefP1547XEFuNaiDmGr8xDlXSNY/gVTuR/B5tmBMzlI8GTgrM4/8dziJQQW6PHEFiM7Nd05wLNxa7TGy+NdXo91mTrzSRJHanjyvTG36brhAkYqVGTdyN5fgs3ChV3h4kLYuBmG4Lz77K7tANTR2yOgSs8PvlbzQbRFWRl3lc4dbbsQjZOPWMrlKNV/uAazufywec3seTm4rfbpUqH+eiM3Il9lfzVsLRZjwvlgPqQQGTwN2FcY1mNkrvY6TwGu83TkR1k1kjqjhCnw70RkqlkB22gF7ZEeWEA00F7gzJtdg1Ckr+DR7hqLCIdbBMj923k0nNqk1wE5HKMA+n/4WKS+YwyqSJMmy0PDZjM3o+cg4sxTh8oTJqPT6w8seZALh68FWqV4PHlg1g7czycdvXGt4dDYd32mTs0QIDHT5oxFYSiHrGr0YSRSwSyblxE0oZZGMM5g80+Y9FXTx8Dh42ChflImPbtifd50bhttgopOdvhMaBjeVPExWewZQYPa/mvIvbtgRj5Ma4Y7Z/S/ImF1BOuEFWlheRK3mmSmXqMpGScIhdu/U9a4b9DNFqNi0kxP5HERASTwM95xPp9XcLmGJL5v7RfZEd0ayuZ1p1DdD0PNhz5Ur4al49aN0OYfWwBa1t7TLOxxIgB3aUVfseCo6mDnqYT4LM2Flt9h7RvYEdciH0b9yC/vKm9WPk0SeyODxt6w+zg7miN4f102jmCJ8HdA1G4OkHahGq1zHwjRmwVRfIgCVEXzRHg2B0tNbWMEVsVkTzE0cizGLHQHX1asHphxFY5JHiUEomswf7w6Ney8jBiqxqP07HlxAD4e/dv8T4DI7ZK8RSZkT+Du8C36a5gBWDEViHKsiOR1GM+5pi2zjiAEVtVEJxF1IGumDevsSCS8jBiqwhPj2xC3LlUrODZw95epvC+RXaZBILsMPCq112CkVbr/T4KQ3nS6EGTol4icjPMgqi3mbtURERVVaSqVhEWRhJrDRbR9Ugkz6ttonqma7S0u5ShNeGAo6YGtTqFkojFrlnnKN+eM2LXC8HTZ9L6klSg7Fl1+mX7QATlqCRAVbn0k7IpCyN2LQTpa+Dm4gLHyZaYvvU21LUESPazgo29M3iui7D/rfc+tx6VGevg5myPSW5RuKyuDWSthM0kR7jMisFFZXP8qOqcHjCZKgx0gRGbRjBi0whGbBrBiE0jGLFpBP3EJk+Q6N0Lurq6b0q3gZif2vy87DZDsB+ePWXOv7oMDERmIxnP9Pq/XsLrSNn737qv7mJpw9TWC9ZNnvDdTogKkBabiTpzLlmaGDTFBxON5F8HvcSmOUybTSMYsWkD8H+Z0gQlaWI3ugAAAABJRU5ErkJggg==)\n",
        "\n",
        "</center>"
      ],
      "metadata": {
        "id": "J8bTm7xypI5i"
      }
    },
    {
      "cell_type": "code",
      "source": [
        "\n",
        "C = np.array([[2, 3], [1, 4]], dtype=float)"
      ],
      "metadata": {
        "id": "nZ5lam8lpSP6"
      },
      "execution_count": 16,
      "outputs": []
    },
    {
      "cell_type": "code",
      "source": [
        "\n",
        "char_poly = calculate_characteristic_polynomial_manual(C)\n",
        "print(\"Polinomio Característico:\", char_poly)"
      ],
      "metadata": {
        "colab": {
          "base_uri": "https://localhost:8080/"
        },
        "id": "pr1gnpLnpUAo",
        "outputId": "61916dcb-9dfc-4191-f23d-85137e694c6a"
      },
      "execution_count": 17,
      "outputs": [
        {
          "output_type": "stream",
          "name": "stdout",
          "text": [
            "Polinomio Característico: λ**2 - 6.0*λ + 5.0\n"
          ]
        }
      ]
    },
    {
      "cell_type": "code",
      "source": [
        "\n",
        "eigenvalues = find_roots_manual(char_poly)\n",
        "eigenvalues"
      ],
      "metadata": {
        "colab": {
          "base_uri": "https://localhost:8080/"
        },
        "id": "UVCN_lV_pV_1",
        "outputId": "cb786923-2701-4930-a785-2c5566f7c7f9"
      },
      "execution_count": null,
      "outputs": [
        {
          "output_type": "execute_result",
          "data": {
            "text/plain": [
              "[1.0, 5.0]"
            ]
          },
          "metadata": {},
          "execution_count": 159
        }
      ]
    },
    {
      "cell_type": "code",
      "source": [
        "\n",
        "eigenvectors = [calculate_eigenvector_manual_1(C, ev) for ev in eigenvalues]\n",
        "eigenvectors"
      ],
      "metadata": {
        "colab": {
          "base_uri": "https://localhost:8080/"
        },
        "id": "ZSPd4pQLpXbo",
        "outputId": "496a4372-dac1-41dd-db7a-c5487abead23"
      },
      "execution_count": null,
      "outputs": [
        {
          "output_type": "execute_result",
          "data": {
            "text/plain": [
              "[[1.00000000000000, -0.333333333333333], [1.00000000000000, 1.00000000000000]]"
            ]
          },
          "metadata": {},
          "execution_count": 160
        }
      ]
    },
    {
      "cell_type": "code",
      "source": [
        "\n",
        "eigenvectors = [calculate_eigenvector_numeric(C, ev) for ev in eigenvalues]\n",
        "\n",
        "# Mostrar resultados\n",
        "for i, vec in enumerate(eigenvectors):\n",
        "    print(f\"Vector Propio {i+1}: {vec}\")"
      ],
      "metadata": {
        "colab": {
          "base_uri": "https://localhost:8080/"
        },
        "id": "WHbUcR1iTB8i",
        "outputId": "537036d9-e825-45b6-8a12-e889948e2a4e"
      },
      "execution_count": null,
      "outputs": [
        {
          "output_type": "stream",
          "name": "stdout",
          "text": [
            "Vector Propio 1: [ 1.         -0.33333333]\n",
            "Vector Propio 2: [1. 1.]\n"
          ]
        }
      ]
    },
    {
      "cell_type": "markdown",
      "source": [
        "**-------------------------------------------------------------------------------------------------------------------------------------------------------------------**"
      ],
      "metadata": {
        "id": "-FGRHro9rD0E"
      }
    },
    {
      "cell_type": "markdown",
      "source": [
        "<center>\n",
        "\n",
        "\n",
        "![image.png](data:image/png;base64,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)\n",
        "\n",
        "\n",
        "</center>"
      ],
      "metadata": {
        "id": "gxw19lSnprqg"
      }
    },
    {
      "cell_type": "code",
      "source": [
        "\n",
        "D = np.array([[1, 1, 2], [2, 1, 1], [1, 1, 3]], dtype=float)"
      ],
      "metadata": {
        "id": "AU4QXBGagshG"
      },
      "execution_count": null,
      "outputs": []
    },
    {
      "cell_type": "code",
      "source": [
        "\n",
        "char_poly = calculate_characteristic_polynomial_manual(D)\n",
        "print(\"Polinomio Característico:\", char_poly)"
      ],
      "metadata": {
        "colab": {
          "base_uri": "https://localhost:8080/"
        },
        "id": "6B6K-g0Qp0gH",
        "outputId": "64b96379-1f97-4183-bd3a-6a76aa7958ff"
      },
      "execution_count": null,
      "outputs": [
        {
          "output_type": "stream",
          "name": "stdout",
          "text": [
            "Polinomio Característico: -λ**3 + 5.0*λ**2 - 2.0*λ - 1.0\n"
          ]
        }
      ]
    },
    {
      "cell_type": "code",
      "source": [
        "\n",
        "eigenvalues = find_roots_manual(char_poly)\n",
        "eigenvalues"
      ],
      "metadata": {
        "colab": {
          "base_uri": "https://localhost:8080/"
        },
        "id": "FOhWTfGGp2pK",
        "outputId": "f4c7d07c-e1c2-429a-9f4a-1d5fc8aaef12"
      },
      "execution_count": null,
      "outputs": [
        {
          "output_type": "execute_result",
          "data": {
            "text/plain": [
              "[(-0.28514248182978535+1.3552527156068805e-20j),\n",
              " (0.778123837736809-5.293955920339377e-23j),\n",
              " (4.507018644092977-8.470329472543003e-22j)]"
            ]
          },
          "metadata": {},
          "execution_count": 221
        }
      ]
    },
    {
      "cell_type": "code",
      "source": [
        "\n",
        "eigenvectors = [calculate_eigenvector_numeric(D, ev) for ev in eigenvalues]\n",
        "\n",
        "# Mostrar resultados\n",
        "for i, vec in enumerate(eigenvectors):\n",
        "    print(f\"Vector Propio {i+1}: {vec}\")"
      ],
      "metadata": {
        "colab": {
          "base_uri": "https://localhost:8080/"
        },
        "id": "Vqar0GTYTSLV",
        "outputId": "e7b41a9f-835b-44b6-8de2-f551d4e07d5f"
      },
      "execution_count": null,
      "outputs": [
        {
          "output_type": "stream",
          "name": "stdout",
          "text": [
            "Vector Propio 1: [ 1.        +0.00000000e+00j -1.72889481+2.09042856e-20j\n",
            "  0.22187616-9.55535085e-21j]\n",
            "Vector Propio 2: [ 1.        -0.00000000e+00j  6.79216113-1.23645637e-21j\n",
            " -3.50701864+5.58276553e-22j]\n",
            "Vector Propio 3: [1.        +0.00000000e+00j 0.93673368-3.80020323e-23j\n",
            " 1.28514248+1.00740312e-22j]\n"
          ]
        }
      ]
    },
    {
      "cell_type": "markdown",
      "source": [
        "**-------------------------------------------------------------------------------------------------------------------------------------------------------------------**"
      ],
      "metadata": {
        "id": "2VEioiAarFJW"
      }
    },
    {
      "cell_type": "markdown",
      "source": [
        "<center>\n",
        "\n",
        "![image.png](data:image/png;base64,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)\n",
        "\n",
        "</center>"
      ],
      "metadata": {
        "id": "RD7k7q0yqeBG"
      }
    },
    {
      "cell_type": "code",
      "source": [
        "\n",
        "E = np.array([[1, 1, 2], [2, 1, 3], [1, 1, 1]], dtype=float)"
      ],
      "metadata": {
        "id": "n9mw9ogCqk1g"
      },
      "execution_count": null,
      "outputs": []
    },
    {
      "cell_type": "code",
      "source": [
        "\n",
        "char_poly = calculate_characteristic_polynomial_manual(E)\n",
        "print(\"Polinomio Característico:\", char_poly)"
      ],
      "metadata": {
        "colab": {
          "base_uri": "https://localhost:8080/"
        },
        "id": "1cg0PG1WqnmG",
        "outputId": "d0410f82-563f-4bf6-eb49-965ba7a21390"
      },
      "execution_count": null,
      "outputs": [
        {
          "output_type": "stream",
          "name": "stdout",
          "text": [
            "Polinomio Característico: -λ**3 + 3.0*λ**2 + 4.0*λ + 1.0\n"
          ]
        }
      ]
    },
    {
      "cell_type": "code",
      "source": [
        "\n",
        "eigenvalues = find_roots_manual(char_poly)\n",
        "eigenvalues"
      ],
      "metadata": {
        "colab": {
          "base_uri": "https://localhost:8080/"
        },
        "id": "140f2Pa7qp1J",
        "outputId": "a2bd0997-32d9-4dd6-8288-9a835cf76ec9"
      },
      "execution_count": null,
      "outputs": [
        {
          "output_type": "execute_result",
          "data": {
            "text/plain": [
              "[(-0.6920214716300959+5.293955920339377e-23j),\n",
              " (-0.35689586789220945+1.3552527156068805e-20j),\n",
              " (4.048917339522306-4.235164736271502e-22j)]"
            ]
          },
          "metadata": {},
          "execution_count": 192
        }
      ]
    },
    {
      "cell_type": "code",
      "source": [
        "\n",
        "eigenvectors = [calculate_eigenvector_numeric(E, complex(ev)) for ev in eigenvalues]\n",
        "\n",
        "# Mostrar resultados\n",
        "for i, vec in enumerate(eigenvectors):\n",
        "    print(f\"Vector Propio {i+1}: {vec}\")"
      ],
      "metadata": {
        "colab": {
          "base_uri": "https://localhost:8080/"
        },
        "id": "TVpF5nZeqvGl",
        "outputId": "4eed3ff4-3c0e-439d-89c6-1b763d15ff49"
      },
      "execution_count": null,
      "outputs": [
        {
          "output_type": "stream",
          "name": "stdout",
          "text": [
            "Vector Propio 1: [ 1.        +0.00000000e+00j  2.80193774+5.02560001e-22j\n",
            " -2.2469796 -2.99824403e-22j]\n",
            "Vector Propio 2: [ 1.        +0.00000000e+00j -0.2469796 +1.56828797e-20j\n",
            " -0.55495813-8.31093909e-21j]\n",
            "Vector Propio 3: [1.        +0.00000000e+00j 1.44504187-5.26708793e-23j\n",
            " 0.80193774+4.98073560e-23j]\n"
          ]
        }
      ]
    },
    {
      "cell_type": "markdown",
      "source": [
        "**-------------------------------------------------------------------------------------------------------------------------------------------------------------------**"
      ],
      "metadata": {
        "id": "oNO9Vlb8rGZY"
      }
    },
    {
      "cell_type": "markdown",
      "source": [
        "<center>\n",
        "\n",
        "![image.png](data:image/png;base64,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)\n",
        "\n",
        "\n",
        "</center>"
      ],
      "metadata": {
        "id": "3zU94VuFrkGJ"
      }
    },
    {
      "cell_type": "code",
      "source": [
        "\n",
        "F = np.array([[2, 1, 2], [1, 1, 3], [1, 1, 1]], dtype=float)"
      ],
      "metadata": {
        "id": "wh35TAiUrOgh"
      },
      "execution_count": null,
      "outputs": []
    },
    {
      "cell_type": "code",
      "source": [
        "\n",
        "char_poly = calculate_characteristic_polynomial_manual(F)\n",
        "print(\"Polinomio Característico:\", char_poly)"
      ],
      "metadata": {
        "colab": {
          "base_uri": "https://localhost:8080/"
        },
        "id": "zKeXLqznrzNi",
        "outputId": "e59318a2-3e40-474c-d263-358c8234a75a"
      },
      "execution_count": null,
      "outputs": [
        {
          "output_type": "stream",
          "name": "stdout",
          "text": [
            "Polinomio Característico: -λ**3 + 4.0*λ**2 + 1.0*λ - 2.0\n"
          ]
        }
      ]
    },
    {
      "cell_type": "code",
      "source": [
        "\n",
        "eigenvalues = find_roots_manual(char_poly)\n",
        "eigenvalues"
      ],
      "metadata": {
        "colab": {
          "base_uri": "https://localhost:8080/"
        },
        "id": "Ivlt0b4Qrz8c",
        "outputId": "7bdcfd50-715f-40a8-f2da-65a2cff67249"
      },
      "execution_count": null,
      "outputs": [
        {
          "output_type": "execute_result",
          "data": {
            "text/plain": [
              "[(-0.7615571818318906-1.0587911840678754e-22j),\n",
              " (0.6366717620673165+2.117582368135751e-22j),\n",
              " (4.124885419764574-1.6940658945086007e-21j)]"
            ]
          },
          "metadata": {},
          "execution_count": 196
        }
      ]
    },
    {
      "cell_type": "code",
      "source": [
        "\n",
        "eigenvectors = [calculate_eigenvector_numeric(F, complex(ev)) for ev in eigenvalues]\n",
        "\n",
        "# Mostrar resultados\n",
        "for i, vec in enumerate(eigenvectors):\n",
        "    print(f\"Vector Propio {i+1}: {vec}\")"
      ],
      "metadata": {
        "colab": {
          "base_uri": "https://localhost:8080/"
        },
        "id": "t_sIOWNLr3O-",
        "outputId": "f4f8404d-0c26-401a-b4f0-ee78ce17fb15"
      },
      "execution_count": null,
      "outputs": [
        {
          "output_type": "stream",
          "name": "stdout",
          "text": [
            "Vector Propio 1: [ 1.        +0.00000000e+00j 12.01395332+3.57651825e-21j\n",
            " -7.38775525-1.84461995e-21j]\n",
            "Vector Propio 2: [ 1.        -0.00000000e+00j -0.91934399-1.14977739e-22j\n",
            " -0.22199212+4.37597380e-23j]\n",
            "Vector Propio 3: [1.        +0.00000000e+00j 0.90539067+1.88150616e-23j\n",
            " 0.60974737+2.17843979e-22j]\n"
          ]
        }
      ]
    },
    {
      "cell_type": "markdown",
      "source": [
        "**-------------------------------------------------------------------------------------------------------------------------------------------------------------------**"
      ],
      "metadata": {
        "id": "JeSdOSkzrNZx"
      }
    },
    {
      "cell_type": "markdown",
      "source": [
        "<center>\n",
        "\n",
        "![image.png](data:image/png;base64,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)\n",
        "\n",
        "</center>"
      ],
      "metadata": {
        "id": "N846KfFHsBy2"
      }
    },
    {
      "cell_type": "code",
      "source": [
        "\n",
        "G = np.array([[1, 1, 1, 2], [2, 1, 1, 1], [3, 2, 1, 2], [2, 1, 1, 4]], dtype=float)"
      ],
      "metadata": {
        "id": "HrJvQbSQsLss"
      },
      "execution_count": null,
      "outputs": []
    },
    {
      "cell_type": "code",
      "source": [
        "\n",
        "char_poly = calculate_characteristic_polynomial_manual(G)\n",
        "print(\"Polinomio Característico:\", char_poly)"
      ],
      "metadata": {
        "colab": {
          "base_uri": "https://localhost:8080/"
        },
        "id": "W8L7MWBwtrp5",
        "outputId": "93b5efd1-a6cf-48d4-d4ce-4f5881db94a7"
      },
      "execution_count": null,
      "outputs": [
        {
          "output_type": "stream",
          "name": "stdout",
          "text": [
            "Polinomio Característico: 1.0*λ**4 - 7.0*λ**3 + 1.0*λ**2 + 9.0*λ + 3.0\n"
          ]
        }
      ]
    },
    {
      "cell_type": "code",
      "source": [
        "\n",
        "eigenvalues = find_roots_manual(char_poly)\n",
        "eigenvalues"
      ],
      "metadata": {
        "colab": {
          "base_uri": "https://localhost:8080/"
        },
        "id": "P2PsomKVtvQY",
        "outputId": "f86a7c48-351c-4e23-ebb8-7cb3891424e0"
      },
      "execution_count": null,
      "outputs": [
        {
          "output_type": "execute_result",
          "data": {
            "text/plain": [
              "[(-0.7356415384387972+4.467612648532395e-30j),\n",
              " (-0.4074562701381242-5.147211431710122e-30j),\n",
              " (1.5085633449433247+6.475892277259207e-31j),\n",
              " (6.634534463633597+3.2009555451806406e-32j)]"
            ]
          },
          "metadata": {},
          "execution_count": 203
        }
      ]
    },
    {
      "cell_type": "code",
      "source": [
        "\n",
        "eigenvectors = [calculate_eigenvector_numeric(G, complex(ev)) for ev in eigenvalues]\n",
        "\n",
        "# Mostrar resultados\n",
        "for i, vec in enumerate(eigenvectors):\n",
        "    print(f\"Vector Propio {i+1}: {vec}\")"
      ],
      "metadata": {
        "colab": {
          "base_uri": "https://localhost:8080/"
        },
        "id": "_kvv_l5PtwlE",
        "outputId": "c873b5fe-0fa8-446e-f5ed-ace5d6f12239"
      },
      "execution_count": null,
      "outputs": [
        {
          "output_type": "stream",
          "name": "stdout",
          "text": [
            "Vector Propio 1: [ 1.        -0.00000000e+00j -0.49071912+3.34345244e-30j\n",
            " -1.05165261-2.27720316e-30j -0.09663491-3.65245702e-31j]\n",
            "Vector Propio 2: [ 1.        -0.00000000e+00j -2.05831238-1.03169458e-29j\n",
            "  1.14311321+1.51838804e-29j -0.24612855-9.65239059e-31j]\n",
            "Vector Propio 3: [ 1.        -0.00000000e+00j  5.04659888+4.47522341e-30j\n",
            "  5.67106596+5.52295767e-30j -5.10455075-4.21569050e-30j]\n",
            "Vector Propio 4: [1.        -0.00000000e+00j 0.90243261+1.75572270e-33j\n",
            " 1.43747344+5.24201804e-33j 1.64731421+9.49003965e-34j]\n"
          ]
        }
      ]
    },
    {
      "cell_type": "markdown",
      "source": [
        "**-------------------------------------------------------------------------------------------------------------------------------------------------------------------**"
      ],
      "metadata": {
        "id": "SzkdmTWNsA33"
      }
    },
    {
      "cell_type": "markdown",
      "source": [
        "<center>\n",
        "\n",
        "![image.png](data:image/png;base64,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)\n",
        "\n",
        "</center>"
      ],
      "metadata": {
        "id": "BetqMG9psPJT"
      }
    },
    {
      "cell_type": "code",
      "source": [
        "\n",
        "H = np.array([[1, 2, 1, 2], [2, 1, 1, 1], [3, 2, 1, 2], [2, 1, 1, 4]], dtype=float)"
      ],
      "metadata": {
        "id": "fwzuxPH_sZKC"
      },
      "execution_count": null,
      "outputs": []
    },
    {
      "cell_type": "code",
      "source": [
        "\n",
        "char_poly = calculate_characteristic_polynomial_manual(H)\n",
        "print(\"Polinomio Característico:\", char_poly)"
      ],
      "metadata": {
        "colab": {
          "base_uri": "https://localhost:8080/"
        },
        "id": "2qv21QCluKt0",
        "outputId": "0ecef721-e279-4218-8052-80c4beb1c4ec"
      },
      "execution_count": null,
      "outputs": [
        {
          "output_type": "stream",
          "name": "stdout",
          "text": [
            "Polinomio Característico: 1.0*λ**4 - 7.0*λ**3 - 1.0*λ**2 + 14.0*λ + 6.0\n"
          ]
        }
      ]
    },
    {
      "cell_type": "code",
      "source": [
        "\n",
        "eigenvalues = find_roots_manual(char_poly)\n",
        "eigenvalues"
      ],
      "metadata": {
        "colab": {
          "base_uri": "https://localhost:8080/"
        },
        "id": "AOBjLZuQuMfU",
        "outputId": "08f4a389-fe94-4665-83a2-605dd3f045a3"
      },
      "execution_count": null,
      "outputs": [
        {
          "output_type": "execute_result",
          "data": {
            "text/plain": [
              "[(-1.087934923662562+8.922433312368532e-30j),\n",
              " (-0.46744323473112087-1.1419135653533586e-29j),\n",
              " (1.7281159082896402+2.4859872019709935e-30j),\n",
              " (6.8272622501040425+1.0715139194060878e-32j)]"
            ]
          },
          "metadata": {},
          "execution_count": 208
        }
      ]
    },
    {
      "cell_type": "code",
      "source": [
        "\n",
        "eigenvectors = [calculate_eigenvector_numeric(H, complex(ev)) for ev in eigenvalues]\n",
        "\n",
        "# Mostrar resultados\n",
        "for i, vec in enumerate(eigenvectors):\n",
        "    print(f\"Vector Propio {i+1}: {vec}\")"
      ],
      "metadata": {
        "colab": {
          "base_uri": "https://localhost:8080/"
        },
        "id": "e61sGZ3JuOCI",
        "outputId": "ddc7b11b-fdcc-4daf-a1d3-c99814b3e075"
      },
      "execution_count": null,
      "outputs": [
        {
          "output_type": "stream",
          "name": "stdout",
          "text": [
            "Vector Propio 1: [ 1.        +0.00000000e+00j -0.49346694-4.84081739e-30j\n",
            " -0.83834525+9.40184789e-30j -0.1313279 -9.84855454e-31j]\n",
            "Vector Propio 2: [ 1.        +0.00000000e+00j  0.79799809+3.54852287e-29j\n",
            " -3.27859439-7.39595551e-29j  0.10757748+8.19911345e-30j]\n",
            "Vector Propio 3: [ 1.        -0.00000000e+00j  1.99218283+8.07875103e-31j\n",
            "  2.15732978+2.42158913e-30j -2.70678977-1.57562943e-30j]\n",
            "Vector Propio 4: [1.        -0.00000000e+00j 0.81439712+1.18899555e-34j\n",
            " 1.29294319+1.30609843e-33j 1.45276241+7.17984127e-35j]\n"
          ]
        }
      ]
    },
    {
      "cell_type": "markdown",
      "source": [
        "**-------------------------------------------------------------------------------------------------------------------------------------------------------------------**"
      ],
      "metadata": {
        "id": "Tgx0eyr0sNYq"
      }
    }
  ]
}