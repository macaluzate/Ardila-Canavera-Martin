{
 "cells": [
  {
   "cell_type": "markdown",
   "metadata": {
    "id": "v48xUaZd7PeV"
   },
   "source": [
    "<div style=\"text-align: center;\">\n",
    "\n",
    "<img src=\"https://github.com/macaluzate/Tarea-1-AN-2024/blob/main/Imagenes/logo.png?raw=1\" alt=\"Escudo Universidad Nacional de Colombia\" width=\"150\"/>\n",
    "\n",
    "# Tarea 1\n",
    "\n",
    "**Ardila Otero, María Paula**  \n",
    "**Cañavera Aluma, Mateo**  \n",
    "**Martin Acosta, David Esteban**  \n",
    "\n",
    "\n",
    "---\n",
    "\n",
    "**3006886: Análisis Numérico**  \n",
    "**Departamento de Matemáticas**  \n",
    "**Universidad Nacional de Colombia**\n",
    "\n",
    "---\n",
    "\n",
    "**Diciembre 6, 2024**\n",
    "\n",
    "</div>"
   ]
  },
  {
   "cell_type": "markdown",
   "metadata": {
    "id": "tvgKevpR7Peg"
   },
   "source": [
    "## Código"
   ]
  },
  {
   "cell_type": "markdown",
   "metadata": {},
   "source": [
    "## El Algoritmo QR"
   ]
  },
  {
   "cell_type": "markdown",
   "metadata": {},
   "source": [
    "![]()"
   ]
  },
  {
   "cell_type": "code",
   "execution_count": 1,
   "metadata": {},
   "outputs": [],
   "source": [
    "import numpy as np\n",
    "\n",
    "def QR_Decomposition(matrix_A):\n",
    "    # Obtener las dimensiones de la matriz A (n x m), donde n es el número de filas y m el número de columnas\n",
    "    num_rows, num_columns = matrix_A.shape  # num_rows es el número de filas, num_columns es el número de columnas\n",
    "    \n",
    "    # Inicializamos las matrices Q y u\n",
    "    Q = np.empty((num_rows, num_rows))  # Matriz Q tiene el mismo número de filas que matrix_A y num_rows columnas\n",
    "    u = np.empty((num_rows, num_rows))  # Matriz u almacena los vectores intermedios en el proceso de ortogonalización\n",
    "\n",
    "    # Paso 1: Definir el primer vector ortogonal\n",
    "    u[:, 0] = matrix_A[:, 0]  # Tomamos la primera columna de matrix_A como el primer vector u_1\n",
    "    Q[:, 0] = u[:, 0] / np.linalg.norm(u[:, 0])  # Normalizamos el primer vector u_1 para obtener el primer vector ortonormal q_1\n",
    "\n",
    "    # Paso 2: Para cada columna posterior de matrix_A, hacer ortogonalización y normalización\n",
    "    for column_index in range(1, num_rows):\n",
    "        # Paso 2.1: Inicializamos el vector u correspondiente a la columna actual de matrix_A\n",
    "        u[:, column_index] = matrix_A[:, column_index]\n",
    "        \n",
    "        # Paso 2.2: Restamos las proyecciones de los vectores anteriores de Q para ortogonalizar el vector u\n",
    "        for previous_vector_index in range(column_index):\n",
    "            u[:, column_index] -= (matrix_A[:, column_index] @ Q[:, previous_vector_index]) * Q[:, previous_vector_index]\n",
    "        \n",
    "        # Paso 2.3: Normalizamos el nuevo vector ortogonal u para obtener el siguiente vector ortonormal q\n",
    "        Q[:, column_index] = u[:, column_index] / np.linalg.norm(u[:, column_index])\n",
    "\n",
    "    # Paso 3: Calculamos la matriz R, que es triangular superior\n",
    "    R = np.zeros((num_rows, num_columns))  # Inicializamos la matriz R con ceros\n",
    "    \n",
    "    # Paso 3.1: Calculamos los elementos de R como el producto escalar entre las columnas de matrix_A y los vectores de Q\n",
    "    for row_index in range(num_rows):\n",
    "        for column_index in range(row_index, num_columns):\n",
    "            R[row_index, column_index] = matrix_A[:, column_index] @ Q[:, row_index]\n",
    "    \n",
    "    # Devolvemos las matrices Q y R\n",
    "    return Q, R\n"
   ]
  },
  {
   "cell_type": "code",
   "execution_count": 2,
   "metadata": {},
   "outputs": [],
   "source": [
    "def pure_qr(A, max_iter=2000):\n",
    "    # Copiamos la matriz de entrada A para no modificar la original\n",
    "    Ak = np.copy(A)\n",
    "    \n",
    "    # Obtenemos el tamaño de la matriz (asumimos que es cuadrada)\n",
    "    n = A.shape[0]\n",
    "    \n",
    "    # Inicializamos la matriz Q como la identidad, que es el valor inicial de la matriz ortogonal\n",
    "    QQ = np.eye(n)\n",
    "\n",
    "    # Iniciamos el ciclo de iteraciones\n",
    "    for k in range(max_iter+1):\n",
    "        # Aplicamos la descomposición QR a la matriz Ak\n",
    "        Q, R = QR_Decomposition(Ak)\n",
    "        \n",
    "        # Actualizamos Ak como el producto R @ Q\n",
    "        Ak = R @ Q\n",
    "        \n",
    "        # Multiplicamos la matriz Q actualizada a la matriz QQ\n",
    "        QQ = QQ @ Q\n",
    "        \n",
    "        # Imprimimos el estado de Ak y QQ cada 100 iteraciones para monitorear el progreso\n",
    "        if k % 200 == 0:\n",
    "            print(\"Iteración:\", k)\n",
    "            print(\"(matriz actualizada):\")\n",
    "            print(Ak)\n",
    "            print(\"\\n\")\n",
    "\n",
    "    # Después de max_iter iteraciones, devolvemos la matriz Ak y la matriz ortogonal QQ\n",
    "    return  Ak, QQ\n"
   ]
  },
  {
   "cell_type": "markdown",
   "metadata": {},
   "source": [
    "### Testeo"
   ]
  },
  {
   "cell_type": "code",
   "execution_count": 3,
   "metadata": {},
   "outputs": [],
   "source": [
    "# Matrices Test Tarea\n",
    "A = np.array([[2, 1],\n",
    "              [3, 4]])\n",
    "\n",
    "B = np.array([[3, 2],\n",
    "              [3, 4]])\n",
    "\n",
    "C = np.array([[2, 3],\n",
    "              [1, 4]])\n",
    "\n",
    "D = np.array([[1, 1, 1],\n",
    "              [2, 1, 1],\n",
    "              [1, 1, 3]])\n",
    "\n",
    "E = np.array([[1, 1, 2],\n",
    "              [2, 1, 3],\n",
    "              [1, 1, 1]])\n",
    "\n",
    "F = np.array([[2, 1, 2],\n",
    "              [1, 1, 3],\n",
    "              [1, 1, 1]])\n",
    "\n",
    "G = np.array([[1, 1, 1, 1],\n",
    "              [1, 2, 1, 2],\n",
    "              [2, 1, 1, 1],\n",
    "              [2, 1, 1, 4]])\n",
    "\n",
    "H = np.array([[1, 1, 1, 2],\n",
    "              [2, 1, 1, 2],\n",
    "              [1, 1, 1, 4],\n",
    "              [2, 1, 1, 4]])\n"
   ]
  },
  {
   "cell_type": "code",
   "execution_count": 4,
   "metadata": {},
   "outputs": [
    {
     "name": "stdout",
     "output_type": "stream",
     "text": [
      "Iteración: 0\n",
      "(matriz actualizada):\n",
      "[[ 5.23076923 -0.84615385]\n",
      " [ 1.15384615  0.76923077]]\n",
      "\n",
      "\n",
      "Iteración: 200\n",
      "(matriz actualizada):\n",
      "[[ 5.00000000e+000 -2.00000000e+000]\n",
      " [ 1.54266052e-140  1.00000000e+000]]\n",
      "\n",
      "\n",
      "Iteración: 400\n",
      "(matriz actualizada):\n",
      "[[ 5.00000000e+000 -2.00000000e+000]\n",
      " [ 2.47895988e-280  1.00000000e+000]]\n",
      "\n",
      "\n",
      "Iteración: 600\n",
      "(matriz actualizada):\n",
      "[[ 5. -2.]\n",
      " [ 0.  1.]]\n",
      "\n",
      "\n",
      "Iteración: 800\n",
      "(matriz actualizada):\n",
      "[[ 5. -2.]\n",
      " [ 0.  1.]]\n",
      "\n",
      "\n",
      "Iteración: 1000\n",
      "(matriz actualizada):\n",
      "[[ 5. -2.]\n",
      " [ 0.  1.]]\n",
      "\n",
      "\n",
      "Iteración: 1200\n",
      "(matriz actualizada):\n",
      "[[ 5. -2.]\n",
      " [ 0.  1.]]\n",
      "\n",
      "\n",
      "Iteración: 1400\n",
      "(matriz actualizada):\n",
      "[[ 5. -2.]\n",
      " [ 0.  1.]]\n",
      "\n",
      "\n",
      "Iteración: 1600\n",
      "(matriz actualizada):\n",
      "[[ 5. -2.]\n",
      " [ 0.  1.]]\n",
      "\n",
      "\n",
      "Iteración: 1800\n",
      "(matriz actualizada):\n",
      "[[ 5. -2.]\n",
      " [ 0.  1.]]\n",
      "\n",
      "\n",
      "Iteración: 2000\n",
      "(matriz actualizada):\n",
      "[[ 5. -2.]\n",
      " [ 0.  1.]]\n",
      "\n",
      "\n"
     ]
    },
    {
     "data": {
      "text/plain": [
       "array([[ 0.31622777, -0.9486833 ],\n",
       "       [ 0.9486833 ,  0.31622777]])"
      ]
     },
     "execution_count": 4,
     "metadata": {},
     "output_type": "execute_result"
    }
   ],
   "source": [
    "Ak, QQ_a = pure_qr(A)\n",
    "QQ_a"
   ]
  },
  {
   "cell_type": "code",
   "execution_count": 5,
   "metadata": {},
   "outputs": [
    {
     "name": "stdout",
     "output_type": "stream",
     "text": [
      "Eigenvalores:\n",
      "[1. 5.]\n",
      "\n",
      "Eigenvectores:\n",
      "[[-0.70710678 -0.31622777]\n",
      " [ 0.70710678 -0.9486833 ]]\n"
     ]
    }
   ],
   "source": [
    "#COMPARACION CON NUMPY\n",
    "eigenvalores, eigenvectores = np.linalg.eig(A)\n",
    "\n",
    "# Mostrar los resultados\n",
    "print(\"Eigenvalores:\")\n",
    "print(eigenvalores)\n",
    "print(\"\\nEigenvectores:\")\n",
    "print(eigenvectores)"
   ]
  },
  {
   "cell_type": "code",
   "execution_count": 11,
   "metadata": {},
   "outputs": [
    {
     "name": "stdout",
     "output_type": "stream",
     "text": [
      "Iteración: 0\n",
      "(matriz actualizada):\n",
      "[[ 6.00000000e+00 -2.66453526e-15]\n",
      " [ 1.00000000e+00  1.00000000e+00]]\n",
      "\n",
      "\n",
      "Iteración: 200\n",
      "(matriz actualizada):\n",
      "[[ 6.0000000e+000 -1.0000000e+000]\n",
      " [ 2.2527686e-156  1.0000000e+000]]\n",
      "\n",
      "\n",
      "Iteración: 400\n",
      "(matriz actualizada):\n",
      "[[ 6.00000000e+000 -1.00000000e+000]\n",
      " [ 5.27796502e-312  1.00000000e+000]]\n",
      "\n",
      "\n",
      "Iteración: 600\n",
      "(matriz actualizada):\n",
      "[[ 6. -1.]\n",
      " [ 0.  1.]]\n",
      "\n",
      "\n",
      "Iteración: 800\n",
      "(matriz actualizada):\n",
      "[[ 6. -1.]\n",
      " [ 0.  1.]]\n",
      "\n",
      "\n",
      "Iteración: 1000\n",
      "(matriz actualizada):\n",
      "[[ 6. -1.]\n",
      " [ 0.  1.]]\n",
      "\n",
      "\n",
      "Iteración: 1200\n",
      "(matriz actualizada):\n",
      "[[ 6. -1.]\n",
      " [ 0.  1.]]\n",
      "\n",
      "\n",
      "Iteración: 1400\n",
      "(matriz actualizada):\n",
      "[[ 6. -1.]\n",
      " [ 0.  1.]]\n",
      "\n",
      "\n",
      "Iteración: 1600\n",
      "(matriz actualizada):\n",
      "[[ 6. -1.]\n",
      " [ 0.  1.]]\n",
      "\n",
      "\n",
      "Iteración: 1800\n",
      "(matriz actualizada):\n",
      "[[ 6. -1.]\n",
      " [ 0.  1.]]\n",
      "\n",
      "\n",
      "Iteración: 2000\n",
      "(matriz actualizada):\n",
      "[[ 6. -1.]\n",
      " [ 0.  1.]]\n",
      "\n",
      "\n"
     ]
    },
    {
     "data": {
      "text/plain": [
       "array([[ 0.5547002 , -0.83205029],\n",
       "       [ 0.83205029,  0.5547002 ]])"
      ]
     },
     "execution_count": 11,
     "metadata": {},
     "output_type": "execute_result"
    }
   ],
   "source": [
    "Bk, QQ_b = pure_qr(B)\n",
    "QQ_b"
   ]
  },
  {
   "cell_type": "code",
   "execution_count": 12,
   "metadata": {},
   "outputs": [
    {
     "name": "stdout",
     "output_type": "stream",
     "text": [
      "Eigenvalores:\n",
      "[1. 6.]\n",
      "\n",
      "Eigenvectores:\n",
      "[[-0.70710678 -0.5547002 ]\n",
      " [ 0.70710678 -0.83205029]]\n"
     ]
    }
   ],
   "source": [
    "#COMPARACION CON NUMPY\n",
    "eigenvalores, eigenvectores = np.linalg.eig(B)\n",
    "\n",
    "# Mostrar los resultados\n",
    "print(\"Eigenvalores:\")\n",
    "print(eigenvalores)\n",
    "print(\"\\nEigenvectores:\")\n",
    "print(eigenvectores)"
   ]
  },
  {
   "cell_type": "code",
   "execution_count": 13,
   "metadata": {},
   "outputs": [
    {
     "name": "stdout",
     "output_type": "stream",
     "text": [
      "Iteración: 0\n",
      "(matriz actualizada):\n",
      "[[4. 3.]\n",
      " [1. 2.]]\n",
      "\n",
      "\n",
      "Iteración: 200\n",
      "(matriz actualizada):\n",
      "[[5.00000000e+000 2.00000000e+000]\n",
      " [2.57110087e-140 1.00000000e+000]]\n",
      "\n",
      "\n",
      "Iteración: 400\n",
      "(matriz actualizada):\n",
      "[[5.0000000e+000 2.0000000e+000]\n",
      " [4.1315998e-280 1.0000000e+000]]\n",
      "\n",
      "\n",
      "Iteración: 600\n",
      "(matriz actualizada):\n",
      "[[5. 2.]\n",
      " [0. 1.]]\n",
      "\n",
      "\n",
      "Iteración: 800\n",
      "(matriz actualizada):\n",
      "[[5. 2.]\n",
      " [0. 1.]]\n",
      "\n",
      "\n",
      "Iteración: 1000\n",
      "(matriz actualizada):\n",
      "[[5. 2.]\n",
      " [0. 1.]]\n",
      "\n",
      "\n",
      "Iteración: 1200\n",
      "(matriz actualizada):\n",
      "[[5. 2.]\n",
      " [0. 1.]]\n",
      "\n",
      "\n",
      "Iteración: 1400\n",
      "(matriz actualizada):\n",
      "[[5. 2.]\n",
      " [0. 1.]]\n",
      "\n",
      "\n",
      "Iteración: 1600\n",
      "(matriz actualizada):\n",
      "[[5. 2.]\n",
      " [0. 1.]]\n",
      "\n",
      "\n",
      "Iteración: 1800\n",
      "(matriz actualizada):\n",
      "[[5. 2.]\n",
      " [0. 1.]]\n",
      "\n",
      "\n",
      "Iteración: 2000\n",
      "(matriz actualizada):\n",
      "[[5. 2.]\n",
      " [0. 1.]]\n",
      "\n",
      "\n"
     ]
    },
    {
     "data": {
      "text/plain": [
       "array([[ 0.70710678, -0.70710678],\n",
       "       [ 0.70710678,  0.70710678]])"
      ]
     },
     "execution_count": 13,
     "metadata": {},
     "output_type": "execute_result"
    }
   ],
   "source": [
    "Ck, QQ_c = pure_qr(C)\n",
    "QQ_c"
   ]
  },
  {
   "cell_type": "code",
   "execution_count": null,
   "metadata": {},
   "outputs": [],
   "source": [
    "#COMPARACION CON NUMPY\n",
    "eigenvalores, eigenvectores = np.linalg.eig(C)\n",
    "\n",
    "# Mostrar los resultados\n",
    "print(\"Eigenvalores:\")\n",
    "print(eigenvalores)\n",
    "print(\"\\nEigenvectores:\")\n",
    "print(eigenvectores)"
   ]
  },
  {
   "cell_type": "code",
   "execution_count": 14,
   "metadata": {},
   "outputs": [
    {
     "name": "stdout",
     "output_type": "stream",
     "text": [
      "Iteración: 0\n",
      "(matriz actualizada):\n",
      "[[3.33333333e+00 1.88561808e+00 4.21884749e-15]\n",
      " [1.17851130e+00 6.66666667e-01 1.22474487e+00]\n",
      " [5.77350269e-01 8.16496581e-01 1.00000000e+00]]\n",
      "\n",
      "\n",
      "Iteración: 200\n",
      "(matriz actualizada):\n",
      "[[ 4.16424794e+000  8.81780589e-002 -6.31615086e-001]\n",
      " [ 9.88413594e-107  1.22713444e+000  7.70251267e-001]\n",
      " [ 7.80854598e-206  1.75945392e-099 -3.91382381e-001]]\n",
      "\n",
      "\n",
      "Iteración: 400\n",
      "(matriz actualizada):\n",
      "[[ 4.16424794e+000  8.81780589e-002 -6.31615086e-001]\n",
      " [ 7.34601761e-213  1.22713444e+000  7.70251267e-001]\n",
      " [ 0.00000000e+000  9.70963425e-199 -3.91382381e-001]]\n",
      "\n",
      "\n",
      "Iteración: 600\n",
      "(matriz actualizada):\n",
      "[[ 4.16424794e+000  8.81780589e-002 -6.31615086e-001]\n",
      " [ 5.45967242e-319  1.22713444e+000  7.70251267e-001]\n",
      " [ 0.00000000e+000  5.35831012e-298 -3.91382381e-001]]\n",
      "\n",
      "\n",
      "Iteración: 800\n",
      "(matriz actualizada):\n",
      "[[ 4.16424794  0.08817806 -0.63161509]\n",
      " [ 0.          1.22713444  0.77025127]\n",
      " [ 0.          0.         -0.39138238]]\n",
      "\n",
      "\n",
      "Iteración: 1000\n",
      "(matriz actualizada):\n",
      "[[ 4.16424794  0.08817806 -0.63161509]\n",
      " [ 0.          1.22713444  0.77025127]\n",
      " [ 0.          0.         -0.39138238]]\n",
      "\n",
      "\n",
      "Iteración: 1200\n",
      "(matriz actualizada):\n",
      "[[ 4.16424794  0.08817806 -0.63161509]\n",
      " [ 0.          1.22713444  0.77025127]\n",
      " [ 0.          0.         -0.39138238]]\n",
      "\n",
      "\n",
      "Iteración: 1400\n",
      "(matriz actualizada):\n",
      "[[ 4.16424794  0.08817806 -0.63161509]\n",
      " [ 0.          1.22713444  0.77025127]\n",
      " [ 0.          0.         -0.39138238]]\n",
      "\n",
      "\n",
      "Iteración: 1600\n",
      "(matriz actualizada):\n",
      "[[ 4.16424794  0.08817806 -0.63161509]\n",
      " [ 0.          1.22713444  0.77025127]\n",
      " [ 0.          0.         -0.39138238]]\n",
      "\n",
      "\n",
      "Iteración: 1800\n",
      "(matriz actualizada):\n",
      "[[ 4.16424794  0.08817806 -0.63161509]\n",
      " [ 0.          1.22713444  0.77025127]\n",
      " [ 0.          0.         -0.39138238]]\n",
      "\n",
      "\n",
      "Iteración: 2000\n",
      "(matriz actualizada):\n",
      "[[ 4.16424794  0.08817806 -0.63161509]\n",
      " [ 0.          1.22713444  0.77025127]\n",
      " [ 0.          0.         -0.39138238]]\n",
      "\n",
      "\n"
     ]
    },
    {
     "data": {
      "text/plain": [
       "array([[ 0.40031591, -0.37121716, -0.83782157],\n",
       "       [ 0.49644754, -0.68063221,  0.53877606],\n",
       "       [ 0.77025127,  0.63161509,  0.08817806]])"
      ]
     },
     "execution_count": 14,
     "metadata": {},
     "output_type": "execute_result"
    }
   ],
   "source": [
    "Dk, QQ_d = pure_qr(D)\n",
    "QQ_d"
   ]
  },
  {
   "cell_type": "code",
   "execution_count": 15,
   "metadata": {},
   "outputs": [
    {
     "name": "stdout",
     "output_type": "stream",
     "text": [
      "Eigenvalores:\n",
      "[ 4.16424794 -0.39138238  1.22713444]\n",
      "\n",
      "Eigenvectores:\n",
      "[[-0.40031591 -0.53877606 -0.38306286]\n",
      " [-0.49644754  0.83782157 -0.69522332]\n",
      " [-0.77025127 -0.08817806  0.60821655]]\n"
     ]
    }
   ],
   "source": [
    "#COMPARACION CON NUMPY\n",
    "eigenvalores, eigenvectores = np.linalg.eig(D)\n",
    "\n",
    "# Mostrar los resultados\n",
    "print(\"Eigenvalores:\")\n",
    "print(eigenvalores)\n",
    "print(\"\\nEigenvectores:\")\n",
    "print(eigenvectores) "
   ]
  },
  {
   "cell_type": "code",
   "execution_count": 16,
   "metadata": {},
   "outputs": [
    {
     "name": "stdout",
     "output_type": "stream",
     "text": [
      "Iteración: 0\n",
      "(matriz actualizada):\n",
      "[[ 3.83333333e+00  2.59272486e+00 -8.66025404e-01]\n",
      " [ 4.71404521e-01 -3.33333333e-01 -7.09894518e-17]\n",
      " [ 2.88675135e-01  4.08248290e-01 -5.00000000e-01]]\n",
      "\n",
      "\n",
      "Iteración: 200\n",
      "(matriz actualizada):\n",
      "[[ 4.04891734e+000  2.39475083e+000  4.98818945e-001]\n",
      " [ 1.43776605e-154 -6.92021472e-001 -1.27859767e-001]\n",
      " [ 3.26125182e-212  6.98580645e-059 -3.56895868e-001]]\n",
      "\n",
      "\n",
      "Iteración: 400\n",
      "(matriz actualizada):\n",
      "[[ 4.04891734e+000  2.39475083e+000  4.98818945e-001]\n",
      " [ 5.17392413e-308 -6.92021472e-001 -1.27859767e-001]\n",
      " [ 0.00000000e+000  2.13111341e-116 -3.56895868e-001]]\n",
      "\n",
      "\n",
      "Iteración: 600\n",
      "(matriz actualizada):\n",
      "[[ 4.04891734e+000  2.39475083e+000  4.98818945e-001]\n",
      " [ 0.00000000e+000 -6.92021472e-001 -1.27859767e-001]\n",
      " [ 0.00000000e+000  6.50124564e-174 -3.56895868e-001]]\n",
      "\n",
      "\n",
      "Iteración: 800\n",
      "(matriz actualizada):\n",
      "[[ 4.04891734e+000  2.39475083e+000  4.98818945e-001]\n",
      " [ 0.00000000e+000 -6.92021472e-001 -1.27859767e-001]\n",
      " [ 0.00000000e+000  1.98329167e-231 -3.56895868e-001]]\n",
      "\n",
      "\n",
      "Iteración: 1000\n",
      "(matriz actualizada):\n",
      "[[ 4.04891734e+000  2.39475083e+000  4.98818945e-001]\n",
      " [ 0.00000000e+000 -6.92021472e-001 -1.27859767e-001]\n",
      " [ 0.00000000e+000  6.05029572e-289 -3.56895868e-001]]\n",
      "\n",
      "\n",
      "Iteración: 1200\n",
      "(matriz actualizada):\n",
      "[[ 4.04891734  2.39475083  0.49881895]\n",
      " [ 0.         -0.69202147 -0.12785977]\n",
      " [ 0.          0.         -0.35689587]]\n",
      "\n",
      "\n",
      "Iteración: 1400\n",
      "(matriz actualizada):\n",
      "[[ 4.04891734  2.39475083  0.49881895]\n",
      " [ 0.         -0.69202147 -0.12785977]\n",
      " [ 0.          0.         -0.35689587]]\n",
      "\n",
      "\n",
      "Iteración: 1600\n",
      "(matriz actualizada):\n",
      "[[ 4.04891734  2.39475083  0.49881895]\n",
      " [ 0.         -0.69202147 -0.12785977]\n",
      " [ 0.          0.         -0.35689587]]\n",
      "\n",
      "\n",
      "Iteración: 1800\n",
      "(matriz actualizada):\n",
      "[[ 4.04891734  2.39475083  0.49881895]\n",
      " [ 0.         -0.69202147 -0.12785977]\n",
      " [ 0.          0.         -0.35689587]]\n",
      "\n",
      "\n",
      "Iteración: 2000\n",
      "(matriz actualizada):\n",
      "[[ 4.04891734  2.39475083  0.49881895]\n",
      " [ 0.         -0.69202147 -0.12785977]\n",
      " [ 0.          0.         -0.35689587]]\n",
      "\n",
      "\n"
     ]
    },
    {
     "data": {
      "text/plain": [
       "array([[ 0.51769363, -0.03900114,  0.85467668],\n",
       "       [ 0.74808896, -0.46410467, -0.47430977],\n",
       "       [ 0.41515805,  0.88492134, -0.21108771]])"
      ]
     },
     "execution_count": 16,
     "metadata": {},
     "output_type": "execute_result"
    }
   ],
   "source": [
    "Ek, QQ_e = pure_qr(E)\n",
    "QQ_e"
   ]
  },
  {
   "cell_type": "code",
   "execution_count": 17,
   "metadata": {},
   "outputs": [
    {
     "name": "stdout",
     "output_type": "stream",
     "text": [
      "Eigenvalores:\n",
      "[ 4.04891734 -0.35689587 -0.69202147]\n",
      "\n",
      "Eigenvectores:\n",
      "[[-0.51769363 -0.85467668 -0.26822309]\n",
      " [-0.74808896  0.21108771 -0.75154439]\n",
      " [-0.41515805  0.47430977  0.6026918 ]]\n"
     ]
    }
   ],
   "source": [
    "#COMPARACION CON NUMPY\n",
    "eigenvalores, eigenvectores = np.linalg.eig(E)\n",
    "\n",
    "# Mostrar los resultados\n",
    "print(\"Eigenvalores:\")\n",
    "print(eigenvalores)\n",
    "print(\"\\nEigenvectores:\")\n",
    "print(eigenvectores) "
   ]
  },
  {
   "cell_type": "code",
   "execution_count": 18,
   "metadata": {},
   "outputs": [
    {
     "name": "stdout",
     "output_type": "stream",
     "text": [
      "Iteración: 0\n",
      "(matriz actualizada):\n",
      "[[ 4.          1.41421356 -1.15470054]\n",
      " [ 0.70710678  1.         -0.40824829]\n",
      " [ 0.57735027  0.81649658 -1.        ]]\n",
      "\n",
      "\n",
      "Iteración: 200\n",
      "(matriz actualizada):\n",
      "[[ 4.12488542e+000  1.83902152e+000  1.03502220e+000]\n",
      " [-5.55451060e-148 -7.61557182e-001 -7.39411184e-001]\n",
      " [ 7.22787913e-163  9.90986182e-016  6.36671762e-001]]\n",
      "\n",
      "\n",
      "Iteración: 400\n",
      "(matriz actualizada):\n",
      "[[ 4.12488542e+000  1.83902152e+000  1.03502220e+000]\n",
      " [-1.00640214e-294 -7.61557182e-001 -7.39411184e-001]\n",
      " [ 0.00000000e+000  2.74588055e-031  6.36671762e-001]]\n",
      "\n",
      "\n",
      "Iteración: 600\n",
      "(matriz actualizada):\n",
      "[[ 4.12488542e+00  1.83902152e+00  1.03502220e+00]\n",
      " [ 0.00000000e+00 -7.61557182e-01 -7.39411184e-01]\n",
      " [ 0.00000000e+00  7.60844107e-47  6.36671762e-01]]\n",
      "\n",
      "\n",
      "Iteración: 800\n",
      "(matriz actualizada):\n",
      "[[ 4.12488542e+00  1.83902152e+00  1.03502220e+00]\n",
      " [ 0.00000000e+00 -7.61557182e-01 -7.39411184e-01]\n",
      " [ 0.00000000e+00  2.10818987e-62  6.36671762e-01]]\n",
      "\n",
      "\n",
      "Iteración: 1000\n",
      "(matriz actualizada):\n",
      "[[ 4.12488542e+00  1.83902152e+00  1.03502220e+00]\n",
      " [ 0.00000000e+00 -7.61557182e-01 -7.39411184e-01]\n",
      " [ 0.00000000e+00  5.84149169e-78  6.36671762e-01]]\n",
      "\n",
      "\n",
      "Iteración: 1200\n",
      "(matriz actualizada):\n",
      "[[ 4.12488542e+00  1.83902152e+00  1.03502220e+00]\n",
      " [ 0.00000000e+00 -7.61557182e-01 -7.39411184e-01]\n",
      " [ 0.00000000e+00  1.61859355e-93  6.36671762e-01]]\n",
      "\n",
      "\n",
      "Iteración: 1400\n",
      "(matriz actualizada):\n",
      "[[ 4.12488542e+000  1.83902152e+000  1.03502220e+000]\n",
      " [ 0.00000000e+000 -7.61557182e-001 -7.39411184e-001]\n",
      " [ 0.00000000e+000  4.48489051e-109  6.36671762e-001]]\n",
      "\n",
      "\n",
      "Iteración: 1600\n",
      "(matriz actualizada):\n",
      "[[ 4.12488542e+000  1.83902152e+000  1.03502220e+000]\n",
      " [ 0.00000000e+000 -7.61557182e-001 -7.39411184e-001]\n",
      " [ 0.00000000e+000  1.24269882e-124  6.36671762e-001]]\n",
      "\n",
      "\n",
      "Iteración: 1800\n",
      "(matriz actualizada):\n",
      "[[ 4.12488542e+000  1.83902152e+000  1.03502220e+000]\n",
      " [ 0.00000000e+000 -7.61557182e-001 -7.39411184e-001]\n",
      " [ 0.00000000e+000  3.44334016e-140  6.36671762e-001]]\n",
      "\n",
      "\n",
      "Iteración: 2000\n",
      "(matriz actualizada):\n",
      "[[ 4.12488542e+000  1.83902152e+000  1.03502220e+000]\n",
      " [ 0.00000000e+000 -7.61557182e-001 -7.39411184e-001]\n",
      " [ 0.00000000e+000  9.54100160e-156  6.36671762e-001]]\n",
      "\n",
      "\n"
     ]
    },
    {
     "data": {
      "text/plain": [
       "array([[ 0.67550236,  0.17865763, -0.71538662],\n",
       "       [ 0.61159354, -0.67770693,  0.40824829],\n",
       "       [ 0.41188579,  0.71329852,  0.56705848]])"
      ]
     },
     "execution_count": 18,
     "metadata": {},
     "output_type": "execute_result"
    }
   ],
   "source": [
    "Fk, QQ_f = pure_qr(F)\n",
    "QQ_f"
   ]
  },
  {
   "cell_type": "code",
   "execution_count": 19,
   "metadata": {},
   "outputs": [
    {
     "name": "stdout",
     "output_type": "stream",
     "text": [
      "Eigenvalores:\n",
      "[ 4.12488542  0.63667176 -0.76155718]\n",
      "\n",
      "Eigenvectores:\n",
      "[[-0.67550236 -0.72653358 -0.07072589]\n",
      " [-0.61159354  0.66793428 -0.84969749]\n",
      " [-0.41188579  0.16128473  0.52250553]]\n"
     ]
    }
   ],
   "source": [
    "#COMPARACION CON NUMPY\n",
    "eigenvalores, eigenvectores = np.linalg.eig(F)\n",
    "\n",
    "# Mostrar los resultados\n",
    "print(\"Eigenvalores:\")\n",
    "print(eigenvalores)\n",
    "print(\"\\nEigenvectores:\")\n",
    "print(eigenvectores) "
   ]
  },
  {
   "cell_type": "code",
   "execution_count": 20,
   "metadata": {},
   "outputs": [
    {
     "name": "stdout",
     "output_type": "stream",
     "text": [
      "Iteración: 0\n",
      "(matriz actualizada):\n",
      "[[ 5.5         0.98198051  1.3174651   1.56524758]\n",
      " [ 1.2001984   0.97619048 -0.62822862  0.048795  ]\n",
      " [-0.09759001  0.04259177  0.02380952 -0.54554473]\n",
      " [ 1.34164079 -0.58554004 -0.32732684  1.5       ]]\n",
      "\n",
      "\n",
      "Iteración: 200\n",
      "(matriz actualizada):\n",
      "[[ 6.09964773e+000  1.52542362e-001  6.41103498e-001  1.17035971e+000]\n",
      " [ 3.83687961e-136  1.28353694e+000 -7.64983465e-001  3.31678699e-001]\n",
      " [-3.82487504e-158  2.15785803e-023  1.00000000e+000  7.07647380e-001]\n",
      " [ 9.37258329e-241 -5.28767710e-106 -2.45042863e-083 -3.83184672e-001]]\n",
      "\n",
      "\n",
      "Iteración: 400\n",
      "(matriz actualizada):\n",
      "[[ 6.09964773e+000  1.52542362e-001  6.41103498e-001  1.17035971e+000]\n",
      " [ 1.60214531e-271  1.28353694e+000 -7.64983465e-001  3.31678699e-001]\n",
      " [-3.32404143e-315  4.49105438e-045  1.00000000e+000  7.07647380e-001]\n",
      " [ 0.00000000e+000 -5.28708070e-211 -1.17724709e-166 -3.83184672e-001]]\n",
      "\n",
      "\n",
      "Iteración: 600\n",
      "(matriz actualizada):\n",
      "[[ 6.09964773e+000  1.52542362e-001  6.41103498e-001  1.17035971e+000]\n",
      " [ 0.00000000e+000  1.28353694e+000 -7.64983465e-001  3.31678699e-001]\n",
      " [ 0.00000000e+000  9.34703265e-067  1.00000000e+000  7.07647380e-001]\n",
      " [ 0.00000000e+000 -5.28648438e-316 -5.65578891e-250 -3.83184672e-001]]\n",
      "\n",
      "\n",
      "Iteración: 800\n",
      "(matriz actualizada):\n",
      "[[ 6.09964773e+00  1.52542362e-01  6.41103498e-01  1.17035971e+00]\n",
      " [ 0.00000000e+00  1.28353694e+00 -7.64983465e-01  3.31678699e-01]\n",
      " [ 0.00000000e+00  1.94535652e-88  1.00000000e+00  7.07647380e-01]\n",
      " [ 0.00000000e+00  0.00000000e+00  0.00000000e+00 -3.83184672e-01]]\n",
      "\n",
      "\n",
      "Iteración: 1000\n",
      "(matriz actualizada):\n",
      "[[ 6.09964773e+000  1.52542362e-001  6.41103498e-001  1.17035971e+000]\n",
      " [ 0.00000000e+000  1.28353694e+000 -7.64983465e-001  3.31678699e-001]\n",
      " [ 0.00000000e+000  4.04878441e-110  1.00000000e+000  7.07647380e-001]\n",
      " [ 0.00000000e+000  0.00000000e+000  0.00000000e+000 -3.83184672e-001]]\n",
      "\n",
      "\n",
      "Iteración: 1200\n",
      "(matriz actualizada):\n",
      "[[ 6.09964773e+000  1.52542362e-001  6.41103498e-001  1.17035971e+000]\n",
      " [ 0.00000000e+000  1.28353694e+000 -7.64983465e-001  3.31678699e-001]\n",
      " [ 0.00000000e+000  8.42655573e-132  1.00000000e+000  7.07647380e-001]\n",
      " [ 0.00000000e+000  0.00000000e+000  0.00000000e+000 -3.83184672e-001]]\n",
      "\n",
      "\n",
      "Iteración: 1400\n",
      "(matriz actualizada):\n",
      "[[ 6.09964773e+000  1.52542362e-001  6.41103498e-001  1.17035971e+000]\n",
      " [ 0.00000000e+000  1.28353694e+000 -7.64983465e-001  3.31678699e-001]\n",
      " [ 0.00000000e+000  1.75378174e-153  1.00000000e+000  7.07647380e-001]\n",
      " [ 0.00000000e+000  0.00000000e+000  0.00000000e+000 -3.83184672e-001]]\n",
      "\n",
      "\n",
      "Iteración: 1600\n",
      "(matriz actualizada):\n",
      "[[ 6.09964773e+000  1.52542362e-001  6.41103498e-001  1.17035971e+000]\n",
      " [ 0.00000000e+000  1.28353694e+000 -7.64983465e-001  3.31678699e-001]\n",
      " [ 0.00000000e+000  3.65006828e-175  1.00000000e+000  7.07647380e-001]\n",
      " [ 0.00000000e+000  0.00000000e+000  0.00000000e+000 -3.83184672e-001]]\n",
      "\n",
      "\n",
      "Iteración: 1800\n",
      "(matriz actualizada):\n",
      "[[ 6.09964773e+000  1.52542362e-001  6.41103498e-001  1.17035971e+000]\n",
      " [ 0.00000000e+000  1.28353694e+000 -7.64983465e-001  3.31678699e-001]\n",
      " [ 0.00000000e+000  7.59672552e-197  1.00000000e+000  7.07647380e-001]\n",
      " [ 0.00000000e+000  0.00000000e+000  0.00000000e+000 -3.83184672e-001]]\n",
      "\n",
      "\n",
      "Iteración: 2000\n",
      "(matriz actualizada):\n",
      "[[ 6.09964773e+000  1.52542362e-001  6.41103498e-001  1.17035971e+000]\n",
      " [ 0.00000000e+000  1.28353694e+000 -7.64983465e-001  3.31678699e-001]\n",
      " [ 0.00000000e+000  1.58107285e-218  1.00000000e+000  7.07647380e-001]\n",
      " [ 0.00000000e+000  0.00000000e+000  0.00000000e+000 -3.83184672e-001]]\n",
      "\n",
      "\n"
     ]
    },
    {
     "data": {
      "text/plain": [
       "array([[ 0.31147039,  0.41960533,  0.02253298,  0.8522968 ],\n",
       "       [ 0.51244186, -0.05145287, -0.84573836, -0.13957997],\n",
       "       [ 0.36253406,  0.74044997,  0.25776971, -0.50384291],\n",
       "       [ 0.71341334, -0.52251106,  0.46666227, -0.01580904]])"
      ]
     },
     "execution_count": 20,
     "metadata": {},
     "output_type": "execute_result"
    }
   ],
   "source": [
    "Gk, QQ_g = pure_qr(G)\n",
    "QQ_g"
   ]
  },
  {
   "cell_type": "code",
   "execution_count": 21,
   "metadata": {},
   "outputs": [
    {
     "name": "stdout",
     "output_type": "stream",
     "text": [
      "Eigenvalores:\n",
      "[ 6.09964773 -0.38318467  1.          1.28353694]\n",
      "\n",
      "Eigenvectores:\n",
      "[[ 0.31147039  0.51356051  0.37796447 -0.40953464]\n",
      " [ 0.51244186  0.2099646  -0.37796447  0.06764969]\n",
      " [ 0.36253406 -0.82668232  0.75592895 -0.72860193]\n",
      " [ 0.71341334 -0.0936313  -0.37796447  0.54483403]]\n"
     ]
    }
   ],
   "source": [
    "#COMPARACION CON NUMPY\n",
    "eigenvalores, eigenvectores = np.linalg.eig(G)\n",
    "\n",
    "# Mostrar los resultados\n",
    "print(\"Eigenvalores:\")\n",
    "print(eigenvalores)\n",
    "print(\"\\nEigenvectores:\")\n",
    "print(eigenvectores) "
   ]
  },
  {
   "cell_type": "code",
   "execution_count": 22,
   "metadata": {},
   "outputs": [
    {
     "name": "stdout",
     "output_type": "stream",
     "text": [
      "Iteración: 0\n",
      "(matriz actualizada):\n",
      "[[ 6.4         0.8        -1.46558698 -0.34783765]\n",
      " [ 1.8        -0.4         0.20936957  0.75817737]\n",
      " [-1.83198373  0.26171196 -0.06849315 -1.09168807]\n",
      " [-0.42936209  0.21468105 -0.16855379 -0.34420116]]\n",
      "\n",
      "\n",
      "Iteración: 200\n",
      "(matriz actualizada):\n",
      "[[ 7.17748574e+000 -3.94520684e+000  2.34347439e+000 -4.08075588e+000]\n",
      " [ 4.55895088e-090 -2.55815017e+000  9.85243001e-002 -9.08555088e-001]\n",
      " [ 0.00000000e+000  2.91888089e-304 -3.16007520e-003 -2.84626655e-001]\n",
      " [ 0.00000000e+000 -2.28532507e-305  1.94828330e-002 -6.52473972e-002]]\n",
      "\n",
      "\n",
      "Iteración: 400\n",
      "(matriz actualizada):\n",
      "[[ 7.17748574e+000 -3.94520684e+000  3.58030781e+000 -3.05382330e+000]\n",
      " [ 1.12099696e-179 -2.55815017e+000  3.98594302e-001 -8.22375807e-001]\n",
      " [ 0.00000000e+000  0.00000000e+000  7.38449740e-002 -2.34907002e-001]\n",
      " [ 0.00000000e+000  0.00000000e+000  6.92024858e-002 -1.42252446e-001]]\n",
      "\n",
      "\n",
      "Iteración: 600\n",
      "(matriz actualizada):\n",
      "[[ 7.17748574e+000 -3.94520684e+000  1.79707717e+000  4.34913260e+000]\n",
      " [ 2.75641088e-269 -2.55815017e+000  6.58821612e-001  6.33350984e-001]\n",
      " [ 0.00000000e+000  0.00000000e+000 -1.70317768e-001 -1.48591973e-001]\n",
      " [ 0.00000000e+000  0.00000000e+000  1.55517515e-001  1.01910296e-001]]\n",
      "\n",
      "\n",
      "Iteración: 800\n",
      "(matriz actualizada):\n",
      "[[ 7.17748574 -3.94520684 -1.02676583  4.59240598]\n",
      " [ 0.         -2.55815017  0.17556315  0.8968595 ]\n",
      " [ 0.          0.         -0.08377486 -0.27886848]\n",
      " [ 0.          0.          0.02524101  0.01536739]]\n",
      "\n",
      "\n",
      "Iteración: 1000\n",
      "(matriz actualizada):\n",
      "[[ 7.17748574 -3.94520684 -1.85260824  4.3257697 ]\n",
      " [ 0.         -2.55815017  0.00788776  0.91384745]\n",
      " [ 0.          0.         -0.03465023 -0.28821208]\n",
      " [ 0.          0.          0.0158974  -0.03375725]]\n",
      "\n",
      "\n",
      "Iteración: 1200\n",
      "(matriz actualizada):\n",
      "[[ 7.17748574 -3.94520684 -2.60810533  3.91691554]\n",
      " [ 0.         -2.55815017 -0.15836849  0.90005489]\n",
      " [ 0.          0.          0.01405751 -0.27937274]\n",
      " [ 0.          0.          0.02473675 -0.08246498]]\n",
      "\n",
      "\n",
      "Iteración: 1400\n",
      "(matriz actualizada):\n",
      "[[ 7.17748574 -3.94520684 -4.33870737  1.82210295]\n",
      " [ 0.         -2.55815017 -0.62954496  0.66245945]\n",
      " [ 0.          0.          0.10186136 -0.15708558]\n",
      " [ 0.          0.          0.14702391 -0.17026884]]\n",
      "\n",
      "\n",
      "Iteración: 1600\n",
      "(matriz actualizada):\n",
      "[[ 7.17748574 -3.94520684 -0.31333785 -4.69534452]\n",
      " [ 0.         -2.55815017 -0.42193469 -0.8106482 ]\n",
      " [ 0.          0.         -0.1446254  -0.23171702]\n",
      " [ 0.          0.          0.07239247  0.07621792]]\n",
      "\n",
      "\n",
      "Iteración: 1800\n",
      "(matriz actualizada):\n",
      "[[ 7.17748574e+00 -3.94520684e+00  1.33310605e+00 -4.51301108e+00]\n",
      " [ 0.00000000e+00 -2.55815017e+00 -1.14886988e-01 -9.06631328e-01]\n",
      " [ 0.00000000e+00  0.00000000e+00 -6.63188914e-02 -2.84371172e-01]\n",
      " [ 0.00000000e+00  0.00000000e+00  1.97383154e-02 -2.08858094e-03]]\n",
      "\n",
      "\n",
      "Iteración: 2000\n",
      "(matriz actualizada):\n",
      "[[ 7.17748574 -3.94520684  2.06137544 -4.23026855]\n",
      " [ 0.         -2.55815017  0.03669082 -0.91314466]\n",
      " [ 0.          0.         -0.02138287 -0.28760785]\n",
      " [ 0.          0.          0.01650163 -0.04702461]]\n",
      "\n",
      "\n"
     ]
    },
    {
     "data": {
      "text/plain": [
       "array([[ 0.61021998,  1.16487778,  0.1687403 ,  0.25696418],\n",
       "       [ 0.50402139, -0.87309744,  0.13484976, -0.46991135],\n",
       "       [ 0.59138409,  0.85225356,  0.17712143,  0.06645689],\n",
       "       [ 0.4851855 , -1.18572166,  0.14323089, -0.66041864]])"
      ]
     },
     "execution_count": 22,
     "metadata": {},
     "output_type": "execute_result"
    }
   ],
   "source": [
    "Hk, QQ_h = pure_qr(H)\n",
    "QQ_h"
   ]
  },
  {
   "cell_type": "code",
   "execution_count": 23,
   "metadata": {},
   "outputs": [
    {
     "name": "stdout",
     "output_type": "stream",
     "text": [
      "Eigenvalores:\n",
      "[ 6.85410197e+00 -3.41870405e-08  3.41870454e-08  1.45898034e-01]\n",
      "\n",
      "Eigenvectores:\n",
      "[[ 3.75338235e-01 -2.41738883e-08  2.41738915e-08 -9.17077354e-02]\n",
      " [ 4.30099346e-01  7.07106781e-01  7.07106781e-01 -7.20281905e-01]\n",
      " [ 5.52548911e-01 -7.07106781e-01 -7.07106781e-01  6.85252667e-01]\n",
      " [ 6.07310022e-01  1.20869437e-08 -1.20869462e-08  5.66784975e-02]]\n"
     ]
    }
   ],
   "source": [
    "#COMPARACION CON NUMPY\n",
    "eigenvalores, eigenvectores = np.linalg.eig(H)\n",
    "\n",
    "# Mostrar los resultados\n",
    "print(\"Eigenvalores:\")\n",
    "print(eigenvalores)\n",
    "print(\"\\nEigenvectores:\")\n",
    "print(eigenvectores) "
   ]
  },
  {
   "cell_type": "code",
   "execution_count": null,
   "metadata": {},
   "outputs": [],
   "source": []
  }
 ],
 "metadata": {
  "colab": {
   "provenance": []
  },
  "kernelspec": {
   "display_name": "Python 3 (ipykernel)",
   "language": "python",
   "name": "python3"
  },
  "language_info": {
   "codemirror_mode": {
    "name": "ipython",
    "version": 3
   },
   "file_extension": ".py",
   "mimetype": "text/x-python",
   "name": "python",
   "nbconvert_exporter": "python",
   "pygments_lexer": "ipython3",
   "version": "3.12.7"
  }
 },
 "nbformat": 4,
 "nbformat_minor": 4
}
