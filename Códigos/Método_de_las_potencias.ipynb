{
 "cells": [
  {
   "cell_type": "markdown",
   "metadata": {
    "id": "v48xUaZd7PeV"
   },
   "source": [
    "<div style=\"text-align: center;\">\n",
    "\n",
    "<img src=\"https://github.com/macaluzate/Tarea-1-AN-2024/blob/main/Imagenes/logo.png?raw=1\" alt=\"Escudo Universidad Nacional de Colombia\" width=\"150\"/>\n",
    "\n",
    "# Tarea 1\n",
    "\n",
    "**Ardila Otero, María Paula**  \n",
    "**Cañavera Aluma, Mateo**  \n",
    "**Martin Acosta, David Esteban**  \n",
    "\n",
    "\n",
    "---\n",
    "\n",
    "**3006886: Análisis Numérico**  \n",
    "**Departamento de Matemáticas**  \n",
    "**Universidad Nacional de Colombia**\n",
    "\n",
    "---\n",
    "\n",
    "**Diciembre 6, 2024**\n",
    "\n",
    "</div>"
   ]
  },
  {
   "cell_type": "markdown",
   "metadata": {
    "id": "tvgKevpR7Peg"
   },
   "source": [
    "## Código"
   ]
  },
  {
   "cell_type": "code",
   "execution_count": 1,
   "metadata": {},
   "outputs": [],
   "source": [
    "# Se importa la biblioteca numpy para realizar cálculos numéricos, como álgebra lineal y operaciones con matrices y vectores.\n",
    "import numpy as np\n",
    "\n",
    "def largeeig_recursive(A, x0, tol, maxiter):\n",
    "    \"\"\"\n",
    "    Usar el método de potencias con la definición recursiva de x_k para encontrar\n",
    "    el eigenvalor dominante lambda y su eigenvector correspondiente x.\n",
    "    \n",
    "    Parámetros:\n",
    "    A : Matriz cuadrada real diagonalizable.\n",
    "    x0 : Vector inicial de aproximación (no nulo).\n",
    "    tol : Tolerancia para el error.\n",
    "    maxiter : Número máximo de iteraciones permitidas.\n",
    "    \n",
    "    Retorna:\n",
    "    lambda_val : Eigenvalor dominante aproximado.\n",
    "    x : Eigenvector dominante asociado (normalizado).\n",
    "    iter : Número de iteraciones realizadas, o -1 si no converge.\n",
    "    \"\"\"\n",
    "\n",
    "    # Convertir A y x0 a arrays de numpy (asegura compatibilidad)\n",
    "    A = np.array(A, dtype=float) # A es la matriz de entrada, se asegura que sea de tipo float.\n",
    "    x0 = np.array(x0, dtype=float) # x0 es el vector inicial de aproximación, también en formato float.\n",
    "\n",
    "\n",
    "    # Normalizar el vector inicial\n",
    "    x = x0 / np.linalg.norm(x0)  # x_0 se convierte en un vector unitario\n",
    "\n",
    "    for k in range(1, maxiter + 1):\n",
    "        # Multiplicación matriz-vector\n",
    "        y = A @ x  # y_k = A * x_{k-1}\n",
    "        # @ es el operador de multiplicación matricial en numpy (producto de matriz por vector).\n",
    "\n",
    "        # Normalización del vector resultante\n",
    "        x_next = y / np.linalg.norm(y)  # x_k = y_k / ||y_k||\n",
    "\n",
    "        # Calcular eigenvalor usando el coeficiente de Rayleigh\n",
    "        numerator = x_next.T @ (A @ x_next)\n",
    "        denominator = x_next.T @ x_next\n",
    "        lambda_val = numerator / denominator\n",
    "\n",
    "        # Calculamos el error de la aproximación, \n",
    "        # que nos indica qué tan cerca estamos de la solución exacta.\n",
    "        error = np.linalg.norm(A @ x_next - lambda_val * x_next)\n",
    "        \n",
    "        # Verificar convergencia\n",
    "        if error < tol:\n",
    "            return lambda_val, x_next, k  # Retornar resultados si converge\n",
    "\n",
    "        # Actualizar x para la siguiente iteración\n",
    "        x = x_next\n",
    "\n",
    "    # Si no converge en el número máximo de iteraciones, retornar -1\n",
    "    return lambda_val, x, -1"
   ]
  },
  {
   "cell_type": "markdown",
   "metadata": {
    "id": "SMwvB7_B7Peg"
   },
   "source": [
    "## Experimentos"
   ]
  },
  {
   "cell_type": "code",
   "execution_count": null,
   "metadata": {},
   "outputs": [
    {
     "name": "stdout",
     "output_type": "stream",
     "text": [
      "Eigenvalor dominante: 5.000000000026215\n",
      "Eigenvector asociado: [0.31622777 0.9486833 ]\n",
      "Número de iteraciones: 15\n"
     ]
    }
   ],
   "source": [
    "# Definir la matriz \n",
    "A = [[2, 1,], \n",
    "     [3, 4]]\n",
    "\n",
    "# Vector inicial como vector de unos\n",
    "x0 = np.ones(2)  # Vector de unos con la dimensión de la matriz\n",
    "\"\"\"\n",
    "El vector de unos es fácil de implementar y asegura que tenga componentes en todas las direcciones del espacio vectorial, esto es crucial, pues\n",
    "en el método de las potencias, debe de cumplirse que: el vector inicial tenga una proyección no nula en la dirección del eigenvector dominante, \n",
    "para que pueda el vector x_k pueda converger. (Criterio n°2 de convergencia, ver teoría).\n",
    "El vector de unos cumple esta condición para matrices generales, además no tiene sesgos hacia ninguna coordenada específica.\n",
    "\"\"\"\n",
    "\n",
    "# Tolerancia y número máximo de iteraciones\n",
    "tol = 1e-10\n",
    "maxiter = 1000\n",
    "\n",
    "# Llamar a la función\n",
    "lambda_val, eigenvector, iterations = largeeig_recursive(A, x0, tol, maxiter)\n",
    "\n",
    "# Imprimir resultados\n",
    "print(\"Eigenvalor dominante:\", lambda_val)\n",
    "print(\"Eigenvector asociado:\", eigenvector)\n",
    "print(\"Número de iteraciones:\", iterations)"
   ]
  },
  {
   "cell_type": "code",
   "execution_count": null,
   "metadata": {},
   "outputs": [
    {
     "name": "stdout",
     "output_type": "stream",
     "text": [
      "Eigenvalor dominante: 6.000000000014724\n",
      "Eigenvector asociado: [0.5547002  0.83205029]\n",
      "Número de iteraciones: 13\n"
     ]
    }
   ],
   "source": [
    "# Definir la matriz \n",
    "B = [[3, 2,], \n",
    "     [3, 4]]\n",
    "\n",
    "# Vector inicial como vector de unos\n",
    "x0 = np.ones(2)  # Vector de unos con la dimensión de la matriz\n",
    "\"\"\"\n",
    "El vector de unos es fácil de implementar y asegura que tenga componentes en todas las direcciones del espacio vectorial, esto es crucial, pues\n",
    "en el método de las potencias, debe de cumplirse que: el vector inicial tenga una proyección no nula en la dirección del eigenvector dominante, \n",
    "para que pueda el vector x_k pueda converger. (Criterio n°2 de convergencia, ver teoría).\n",
    "El vector de unos cumple esta condición para matrices generales, además no tiene sesgos hacia ninguna coordenada específica.\n",
    "\"\"\"\n",
    "\n",
    "# Tolerancia y número máximo de iteraciones\n",
    "tol = 1e-10\n",
    "maxiter = 1000\n",
    "\n",
    "# Llamar a la función\n",
    "lambda_val, eigenvector, iterations = largeeig_recursive(B, x0, tol, maxiter)\n",
    "\n",
    "# Imprimir resultados\n",
    "print(\"Eigenvalor dominante:\", lambda_val)\n",
    "print(\"Eigenvector asociado:\", eigenvector)\n",
    "print(\"Número de iteraciones:\", iterations)"
   ]
  },
  {
   "cell_type": "code",
   "execution_count": null,
   "metadata": {},
   "outputs": [
    {
     "name": "stdout",
     "output_type": "stream",
     "text": [
      "Eigenvalor dominante: 5.0\n",
      "Eigenvector asociado: [0.70710678 0.70710678]\n",
      "Número de iteraciones: 1\n"
     ]
    }
   ],
   "source": [
    "# Definir la matriz \n",
    "C = [[2, 3,], \n",
    "     [1, 4]]\n",
    "\n",
    "# Vector inicial como vector de unos\n",
    "x0 = np.ones(2)  # Vector de unos con la dimensión de la matriz\n",
    "\"\"\"\n",
    "El vector de unos es fácil de implementar y asegura que tenga componentes en todas las direcciones del espacio vectorial, esto es crucial, pues\n",
    "en el método de las potencias, debe de cumplirse que: el vector inicial tenga una proyección no nula en la dirección del eigenvector dominante, \n",
    "para que pueda el vector x_k pueda converger. (Criterio n°2 de convergencia, ver teoría).\n",
    "El vector de unos cumple esta condición para matrices generales, además no tiene sesgos hacia ninguna coordenada específica.\n",
    "\"\"\"\n",
    "\n",
    "# Tolerancia y número máximo de iteraciones\n",
    "tol = 1e-10\n",
    "maxiter = 1000\n",
    "\n",
    "# Llamar a la función\n",
    "lambda_val, eigenvector, iterations = largeeig_recursive(C, x0, tol, maxiter)\n",
    "\n",
    "# Imprimir resultados\n",
    "print(\"Eigenvalor dominante:\", lambda_val)\n",
    "print(\"Eigenvector asociado:\", eigenvector)\n",
    "print(\"Número de iteraciones:\", iterations)"
   ]
  },
  {
   "cell_type": "code",
   "execution_count": null,
   "metadata": {},
   "outputs": [
    {
     "name": "stdout",
     "output_type": "stream",
     "text": [
      "Eigenvalor dominante: 4.507018644074993\n",
      "Eigenvector asociado: [0.53231709 0.49863934 0.6841033 ]\n",
      "Número de iteraciones: 13\n"
     ]
    }
   ],
   "source": [
    "# Definir la matriz \n",
    "D = [[1, 1, 2], \n",
    "     [2, 1, 1],\n",
    "     [1, 1, 3]]\n",
    "\n",
    "# Vector inicial como vector de unos\n",
    "x0 = np.ones(3)  # Vector de unos con la dimensión de la matriz\n",
    "\"\"\"\n",
    "El vector de unos es fácil de implementar y asegura que tenga componentes en todas las direcciones del espacio vectorial, esto es crucial, pues\n",
    "en el método de las potencias, debe de cumplirse que: el vector inicial tenga una proyección no nula en la dirección del eigenvector dominante, \n",
    "para que pueda el vector x_k pueda converger. (Criterio n°2 de convergencia, ver teoría).\n",
    "El vector de unos cumple esta condición para matrices generales, además no tiene sesgos hacia ninguna coordenada específica.\n",
    "\"\"\"\n",
    "\n",
    "# Tolerancia y número máximo de iteraciones\n",
    "tol = 1e-10\n",
    "maxiter = 1000\n",
    "\n",
    "# Llamar a la función\n",
    "lambda_val, eigenvector, iterations = largeeig_recursive(D, x0, tol, maxiter)\n",
    "\n",
    "# Imprimir resultados\n",
    "print(\"Eigenvalor dominante:\", lambda_val)\n",
    "print(\"Eigenvector asociado:\", eigenvector)\n",
    "print(\"Número de iteraciones:\", iterations)"
   ]
  },
  {
   "cell_type": "code",
   "execution_count": 12,
   "metadata": {},
   "outputs": [
    {
     "name": "stdout",
     "output_type": "stream",
     "text": [
      "Eigenvalor dominante: 4.0489173395325695\n",
      "Eigenvector asociado: [0.51769363 0.74808896 0.41515805]\n",
      "Número de iteraciones: 14\n"
     ]
    }
   ],
   "source": [
    "# Definir la matriz \n",
    "E = [[1, 1, 2], \n",
    "     [2, 1, 3],\n",
    "     [1, 1, 1]]\n",
    "\n",
    "# Vector inicial como vector de unos\n",
    "x0 = np.ones(3)  # Vector de unos con la dimensión de la matriz\n",
    "\"\"\"\n",
    "El vector de unos es fácil de implementar y asegura que tenga componentes en todas las direcciones del espacio vectorial, esto es crucial, pues\n",
    "en el método de las potencias, debe de cumplirse que: el vector inicial tenga una proyección no nula en la dirección del eigenvector dominante, \n",
    "para que pueda el vector x_k pueda converger. (Criterio n°2 de convergencia, ver teoría).\n",
    "El vector de unos cumple esta condición para matrices generales, además no tiene sesgos hacia ninguna coordenada específica.\n",
    "\"\"\"\n",
    "\n",
    "# Tolerancia y número máximo de iteraciones\n",
    "tol = 1e-10\n",
    "maxiter = 1000\n",
    "\n",
    "# Llamar a la función\n",
    "lambda_val, eigenvector, iterations = largeeig_recursive(E, x0, tol, maxiter)\n",
    "\n",
    "# Imprimir resultados\n",
    "print(\"Eigenvalor dominante:\", lambda_val)\n",
    "print(\"Eigenvector asociado:\", eigenvector)\n",
    "print(\"Número de iteraciones:\", iterations)"
   ]
  },
  {
   "cell_type": "code",
   "execution_count": 13,
   "metadata": {},
   "outputs": [
    {
     "name": "stdout",
     "output_type": "stream",
     "text": [
      "Eigenvalor dominante: 4.124885419783447\n",
      "Eigenvector asociado: [0.67550236 0.61159354 0.41188579]\n",
      "Número de iteraciones: 14\n"
     ]
    }
   ],
   "source": [
    "# Definir la matriz\n",
    "F = [[2, 1, 2], \n",
    "     [1, 1, 3],\n",
    "     [1, 1, 1]]\n",
    "\n",
    "# Vector inicial como vector de unos\n",
    "x0 = np.ones(3)  # Vector de unos con la dimensión de la matriz\n",
    "\"\"\"\n",
    "El vector de unos es fácil de implementar y asegura que tenga componentes en todas las direcciones del espacio vectorial, esto es crucial, pues\n",
    "en el método de las potencias, debe de cumplirse que: el vector inicial tenga una proyección no nula en la dirección del eigenvector dominante, \n",
    "para que pueda el vector x_k pueda converger. (Criterio n°2 de convergencia, ver teoría).\n",
    "El vector de unos cumple esta condición para matrices generales, además no tiene sesgos hacia ninguna coordenada específica.\n",
    "\"\"\"\n",
    "\n",
    "# Tolerancia y número máximo de iteraciones\n",
    "tol = 1e-10\n",
    "maxiter = 1000\n",
    "\n",
    "# Llamar a la función\n",
    "lambda_val, eigenvector, iterations = largeeig_recursive(F, x0, tol, maxiter)\n",
    "\n",
    "# Imprimir resultados\n",
    "print(\"Eigenvalor dominante:\", lambda_val)\n",
    "print(\"Eigenvector asociado:\", eigenvector)\n",
    "print(\"Número de iteraciones:\", iterations)"
   ]
  },
  {
   "cell_type": "code",
   "execution_count": 14,
   "metadata": {},
   "outputs": [
    {
     "name": "stdout",
     "output_type": "stream",
     "text": [
      "Eigenvalor dominante: 6.634534463619685\n",
      "Eigenvector asociado: [0.38941594 0.35142164 0.55977506 0.6414904 ]\n",
      "Número de iteraciones: 16\n"
     ]
    }
   ],
   "source": [
    "# Definir la matriz\n",
    "G = [[1, 1, 1, 2], \n",
    "     [2, 1, 1, 1],\n",
    "     [3, 2, 1, 2],\n",
    "     [2, 1, 1, 4]]\n",
    "\n",
    "# Vector inicial como vector de unos\n",
    "x0 = np.ones(4)  # Vector de unos con la dimensión de la matriz\n",
    "\"\"\"\n",
    "El vector de unos es fácil de implementar y asegura que tenga componentes en todas las direcciones del espacio vectorial, esto es crucial, pues\n",
    "en el método de las potencias, debe de cumplirse que: el vector inicial tenga una proyección no nula en la dirección del eigenvector dominante, \n",
    "para que pueda el vector x_k pueda converger. (Criterio n°2 de convergencia, ver teoría).\n",
    "El vector de unos cumple esta condición para matrices generales, además no tiene sesgos hacia ninguna coordenada específica.\n",
    "\"\"\"\n",
    "\n",
    "# Tolerancia y número máximo de iteraciones\n",
    "tol = 1e-10\n",
    "maxiter = 1000\n",
    "\n",
    "# Llamar a la función\n",
    "lambda_val, eigenvector, iterations = largeeig_recursive(G, x0, tol, maxiter)\n",
    "\n",
    "# Imprimir resultados\n",
    "print(\"Eigenvalor dominante:\", lambda_val)\n",
    "print(\"Eigenvector asociado:\", eigenvector)\n",
    "print(\"Número de iteraciones:\", iterations)"
   ]
  },
  {
   "cell_type": "code",
   "execution_count": 15,
   "metadata": {},
   "outputs": [
    {
     "name": "stdout",
     "output_type": "stream",
     "text": [
      "Eigenvalor dominante: 6.8272622500929\n",
      "Eigenvector asociado: [0.42853133 0.34899468 0.55406667 0.62255421]\n",
      "Número de iteraciones: 17\n"
     ]
    }
   ],
   "source": [
    "# Definir la matriz\n",
    "H = [[1, 2, 1, 2], \n",
    "     [2, 1, 1, 1],\n",
    "     [3, 2, 1, 2],\n",
    "     [2, 1, 1, 4]]\n",
    "\n",
    "# Vector inicial como vector de unos\n",
    "x0 = np.ones(4)  # Vector de unos con la dimensión de la matriz\n",
    "\"\"\"\n",
    "El vector de unos es fácil de implementar y asegura que tenga componentes en todas las direcciones del espacio vectorial, esto es crucial, pues\n",
    "en el método de las potencias, debe de cumplirse que: el vector inicial tenga una proyección no nula en la dirección del eigenvector dominante, \n",
    "para que pueda el vector x_k pueda converger. (Criterio n°2 de convergencia, ver teoría).\n",
    "El vector de unos cumple esta condición para matrices generales, además no tiene sesgos hacia ninguna coordenada específica.\n",
    "\"\"\"\n",
    "\n",
    "# Tolerancia y número máximo de iteraciones\n",
    "tol = 1e-10\n",
    "maxiter = 1000\n",
    "\n",
    "# Llamar a la función\n",
    "lambda_val, eigenvector, iterations = largeeig_recursive(H, x0, tol, maxiter)\n",
    "\n",
    "# Imprimir resultados\n",
    "print(\"Eigenvalor dominante:\", lambda_val)\n",
    "print(\"Eigenvector asociado:\", eigenvector)\n",
    "print(\"Número de iteraciones:\", iterations)"
   ]
  }
 ],
 "metadata": {
  "colab": {
   "provenance": []
  },
  "kernelspec": {
   "display_name": "Python 3",
   "language": "python",
   "name": "python3"
  },
  "language_info": {
   "codemirror_mode": {
    "name": "ipython",
    "version": 3
   },
   "file_extension": ".py",
   "mimetype": "text/x-python",
   "name": "python",
   "nbconvert_exporter": "python",
   "pygments_lexer": "ipython3",
   "version": "3.13.0"
  }
 },
 "nbformat": 4,
 "nbformat_minor": 0
}
